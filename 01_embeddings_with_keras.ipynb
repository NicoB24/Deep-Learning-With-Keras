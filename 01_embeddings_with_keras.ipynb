{
  "nbformat": 4,
  "nbformat_minor": 0,
  "metadata": {
    "colab": {
      "name": "01-embeddings-with-keras.ipynb",
      "provenance": [],
      "collapsed_sections": []
    },
    "kernelspec": {
      "name": "python3",
      "display_name": "Python 3"
    }
  },
  "cells": [
    {
      "cell_type": "markdown",
      "metadata": {
        "id": "AtDIaWlRCvui"
      },
      "source": [
        "<h1>Embeddings with Keras</h1>"
      ]
    },
    {
      "cell_type": "markdown",
      "metadata": {
        "id": "O1j-ktHzDWYk"
      },
      "source": [
        "#### Mounting Google Drive and libraries loading"
      ]
    },
    {
      "cell_type": "code",
      "metadata": {
        "colab": {
          "base_uri": "https://localhost:8080/"
        },
        "id": "3q5rQF2TC8tN",
        "outputId": "78e2c98e-7cec-4a59-b436-438f1c5950b9"
      },
      "source": [
        "from google.colab import drive\r\n",
        "drive.mount('/content/drive')"
      ],
      "execution_count": null,
      "outputs": [
        {
          "output_type": "stream",
          "text": [
            "Mounted at /content/drive\n"
          ],
          "name": "stdout"
        }
      ]
    },
    {
      "cell_type": "code",
      "metadata": {
        "id": "JwmW7ZxDDa89"
      },
      "source": [
        "import os\r\n",
        "os.chdir('/content/drive/MyDrive/Cursos/DL360 N2')"
      ],
      "execution_count": null,
      "outputs": []
    },
    {
      "cell_type": "code",
      "metadata": {
        "id": "PQxrQ3feD0HU"
      },
      "source": [
        "%%capture\r\n",
        "!pip install funpymodeling"
      ],
      "execution_count": null,
      "outputs": []
    },
    {
      "cell_type": "code",
      "metadata": {
        "id": "wT1C_wCkDlDW"
      },
      "source": [
        "import tensorflow as tf\r\n",
        "from tensorflow import keras\r\n",
        "import numpy as np\r\n",
        "import matplotlib.pyplot as plt\r\n",
        "import pandas as pd\r\n",
        "\r\n",
        "from sklearn.preprocessing import MinMaxScaler\r\n",
        "from sklearn.model_selection import train_test_split\r\n",
        "from sklearn import preprocessing\r\n",
        "\r\n",
        "from keras.models import Sequential\r\n",
        "from keras.layers import Dense\r\n",
        "from keras.layers import Embedding, Flatten, Dropout\r\n",
        "\r\n",
        "from funpymodeling.exploratory import status, freq_tbl, profiling_num\r\n",
        "from funpymodeling.data_prep import todf"
      ],
      "execution_count": null,
      "outputs": []
    },
    {
      "cell_type": "code",
      "metadata": {
        "id": "AmUt-xG_gi-z"
      },
      "source": [
        "from plotly.subplots import make_subplots\r\n",
        "import plotly.graph_objects as go\r\n",
        "\r\n",
        "def plot_all(history, metric):\r\n",
        "  fig1 = go.Figure()\r\n",
        "  fig1.add_trace(go.Scattergl(y=history.history[metric], name='Train'))\r\n",
        "  fig1.add_trace(go.Scattergl(y=history.history['val_'+metric], name='Valid'))\r\n",
        "  fig1.update_layout(height=300, width=400,xaxis_title='Epoch', yaxis_title=metric)\r\n",
        "\r\n",
        "  fig2 = go.Figure()\r\n",
        "  fig2.add_trace(go.Scattergl(y=history.history['loss'], name='Train'))\r\n",
        "  fig2.add_trace(go.Scattergl(y=history.history['val_loss'], name='Valid'))\r\n",
        "  fig2.update_layout(height=300, width=400,xaxis_title='Epoch', yaxis_title='Loss')\r\n",
        "\r\n",
        "  return [fig1,fig2]"
      ],
      "execution_count": null,
      "outputs": []
    },
    {
      "cell_type": "code",
      "metadata": {
        "id": "mb6XB4OiEEv9"
      },
      "source": [
        "\r\n",
        "\r\n",
        "\r\n"
      ],
      "execution_count": null,
      "outputs": []
    },
    {
      "cell_type": "markdown",
      "metadata": {
        "id": "ejAeoJiwEFc0"
      },
      "source": [
        "#### Data Loading\r\n",
        "\r\n"
      ]
    },
    {
      "cell_type": "code",
      "metadata": {
        "id": "vGFb0L8dEMll"
      },
      "source": [
        "data = pd.read_csv('data/encuesta_sysarmy_arg_2019_1.csv')"
      ],
      "execution_count": null,
      "outputs": []
    },
    {
      "cell_type": "code",
      "metadata": {
        "id": "-7KKA0w-Ekj7"
      },
      "source": [
        "\r\n",
        "\r\n",
        "\r\n"
      ],
      "execution_count": null,
      "outputs": []
    },
    {
      "cell_type": "markdown",
      "metadata": {
        "id": "a1UT6Hk0Etbt"
      },
      "source": [
        "#### Dataset Status\r\n"
      ]
    },
    {
      "cell_type": "code",
      "metadata": {
        "colab": {
          "base_uri": "https://localhost:8080/"
        },
        "id": "ll-iP9m7ErBd",
        "outputId": "638f40c1-4c0d-47e6-e192-5ffc9f9b6a86"
      },
      "source": [
        "data.shape"
      ],
      "execution_count": null,
      "outputs": [
        {
          "output_type": "execute_result",
          "data": {
            "text/plain": [
              "(4482, 47)"
            ]
          },
          "metadata": {
            "tags": []
          },
          "execution_count": 10
        }
      ]
    },
    {
      "cell_type": "code",
      "metadata": {
        "colab": {
          "base_uri": "https://localhost:8080/"
        },
        "id": "y91itv4CFArV",
        "outputId": "5274fe25-373d-4d1c-acf7-94eda007c2d6"
      },
      "source": [
        "status(data)"
      ],
      "execution_count": null,
      "outputs": [
        {
          "output_type": "execute_result",
          "data": {
            "text/html": [
              "<div>\n",
              "<style scoped>\n",
              "    .dataframe tbody tr th:only-of-type {\n",
              "        vertical-align: middle;\n",
              "    }\n",
              "\n",
              "    .dataframe tbody tr th {\n",
              "        vertical-align: top;\n",
              "    }\n",
              "\n",
              "    .dataframe thead th {\n",
              "        text-align: right;\n",
              "    }\n",
              "</style>\n",
              "<table border=\"1\" class=\"dataframe\">\n",
              "  <thead>\n",
              "    <tr style=\"text-align: right;\">\n",
              "      <th></th>\n",
              "      <th>variable</th>\n",
              "      <th>q_nan</th>\n",
              "      <th>p_nan</th>\n",
              "      <th>q_zeros</th>\n",
              "      <th>p_zeros</th>\n",
              "      <th>unique</th>\n",
              "      <th>type</th>\n",
              "    </tr>\n",
              "  </thead>\n",
              "  <tbody>\n",
              "    <tr>\n",
              "      <th>0</th>\n",
              "      <td>Me identifico</td>\n",
              "      <td>0</td>\n",
              "      <td>0.000000</td>\n",
              "      <td>0</td>\n",
              "      <td>0.000000</td>\n",
              "      <td>3</td>\n",
              "      <td>object</td>\n",
              "    </tr>\n",
              "    <tr>\n",
              "      <th>1</th>\n",
              "      <td>Tengo</td>\n",
              "      <td>0</td>\n",
              "      <td>0.000000</td>\n",
              "      <td>0</td>\n",
              "      <td>0.000000</td>\n",
              "      <td>58</td>\n",
              "      <td>int64</td>\n",
              "    </tr>\n",
              "    <tr>\n",
              "      <th>2</th>\n",
              "      <td>Dónde estás trabajando</td>\n",
              "      <td>0</td>\n",
              "      <td>0.000000</td>\n",
              "      <td>0</td>\n",
              "      <td>0.000000</td>\n",
              "      <td>25</td>\n",
              "      <td>object</td>\n",
              "    </tr>\n",
              "    <tr>\n",
              "      <th>3</th>\n",
              "      <td>Años de experiencia</td>\n",
              "      <td>0</td>\n",
              "      <td>0.000000</td>\n",
              "      <td>235</td>\n",
              "      <td>0.052432</td>\n",
              "      <td>52</td>\n",
              "      <td>float64</td>\n",
              "    </tr>\n",
              "    <tr>\n",
              "      <th>4</th>\n",
              "      <td>Años en la empresa actual</td>\n",
              "      <td>0</td>\n",
              "      <td>0.000000</td>\n",
              "      <td>1038</td>\n",
              "      <td>0.231593</td>\n",
              "      <td>48</td>\n",
              "      <td>float64</td>\n",
              "    </tr>\n",
              "    <tr>\n",
              "      <th>5</th>\n",
              "      <td>Años en el puesto actual</td>\n",
              "      <td>0</td>\n",
              "      <td>0.000000</td>\n",
              "      <td>921</td>\n",
              "      <td>0.205489</td>\n",
              "      <td>39</td>\n",
              "      <td>float64</td>\n",
              "    </tr>\n",
              "    <tr>\n",
              "      <th>6</th>\n",
              "      <td>¿Gente a cargo?</td>\n",
              "      <td>0</td>\n",
              "      <td>0.000000</td>\n",
              "      <td>3335</td>\n",
              "      <td>0.744087</td>\n",
              "      <td>47</td>\n",
              "      <td>int64</td>\n",
              "    </tr>\n",
              "    <tr>\n",
              "      <th>7</th>\n",
              "      <td>Nivel de estudios alcanzado</td>\n",
              "      <td>0</td>\n",
              "      <td>0.000000</td>\n",
              "      <td>0</td>\n",
              "      <td>0.000000</td>\n",
              "      <td>7</td>\n",
              "      <td>object</td>\n",
              "    </tr>\n",
              "    <tr>\n",
              "      <th>8</th>\n",
              "      <td>Estado</td>\n",
              "      <td>0</td>\n",
              "      <td>0.000000</td>\n",
              "      <td>0</td>\n",
              "      <td>0.000000</td>\n",
              "      <td>3</td>\n",
              "      <td>object</td>\n",
              "    </tr>\n",
              "    <tr>\n",
              "      <th>9</th>\n",
              "      <td>Carrera</td>\n",
              "      <td>554</td>\n",
              "      <td>0.123606</td>\n",
              "      <td>0</td>\n",
              "      <td>0.000000</td>\n",
              "      <td>1485</td>\n",
              "      <td>object</td>\n",
              "    </tr>\n",
              "    <tr>\n",
              "      <th>10</th>\n",
              "      <td>Universidad</td>\n",
              "      <td>812</td>\n",
              "      <td>0.181169</td>\n",
              "      <td>0</td>\n",
              "      <td>0.000000</td>\n",
              "      <td>1056</td>\n",
              "      <td>object</td>\n",
              "    </tr>\n",
              "    <tr>\n",
              "      <th>11</th>\n",
              "      <td>Realizaste cursos de especialización</td>\n",
              "      <td>0</td>\n",
              "      <td>0.000000</td>\n",
              "      <td>0</td>\n",
              "      <td>0.000000</td>\n",
              "      <td>7</td>\n",
              "      <td>object</td>\n",
              "    </tr>\n",
              "    <tr>\n",
              "      <th>12</th>\n",
              "      <td>¿Contribuís a proyectos open source?</td>\n",
              "      <td>0</td>\n",
              "      <td>0.000000</td>\n",
              "      <td>0</td>\n",
              "      <td>0.000000</td>\n",
              "      <td>2</td>\n",
              "      <td>object</td>\n",
              "    </tr>\n",
              "    <tr>\n",
              "      <th>13</th>\n",
              "      <td>¿Programás como hobbie?</td>\n",
              "      <td>0</td>\n",
              "      <td>0.000000</td>\n",
              "      <td>0</td>\n",
              "      <td>0.000000</td>\n",
              "      <td>2</td>\n",
              "      <td>object</td>\n",
              "    </tr>\n",
              "    <tr>\n",
              "      <th>14</th>\n",
              "      <td>Trabajo de</td>\n",
              "      <td>0</td>\n",
              "      <td>0.000000</td>\n",
              "      <td>0</td>\n",
              "      <td>0.000000</td>\n",
              "      <td>443</td>\n",
              "      <td>object</td>\n",
              "    </tr>\n",
              "    <tr>\n",
              "      <th>15</th>\n",
              "      <td>Plataformas</td>\n",
              "      <td>777</td>\n",
              "      <td>0.173360</td>\n",
              "      <td>0</td>\n",
              "      <td>0.000000</td>\n",
              "      <td>935</td>\n",
              "      <td>object</td>\n",
              "    </tr>\n",
              "    <tr>\n",
              "      <th>16</th>\n",
              "      <td>Lenguajes de programación</td>\n",
              "      <td>852</td>\n",
              "      <td>0.190094</td>\n",
              "      <td>0</td>\n",
              "      <td>0.000000</td>\n",
              "      <td>1391</td>\n",
              "      <td>object</td>\n",
              "    </tr>\n",
              "    <tr>\n",
              "      <th>17</th>\n",
              "      <td>Frameworks, herramientas y librerías</td>\n",
              "      <td>2084</td>\n",
              "      <td>0.464971</td>\n",
              "      <td>0</td>\n",
              "      <td>0.000000</td>\n",
              "      <td>646</td>\n",
              "      <td>object</td>\n",
              "    </tr>\n",
              "    <tr>\n",
              "      <th>18</th>\n",
              "      <td>Bases de datos</td>\n",
              "      <td>1116</td>\n",
              "      <td>0.248996</td>\n",
              "      <td>0</td>\n",
              "      <td>0.000000</td>\n",
              "      <td>923</td>\n",
              "      <td>object</td>\n",
              "    </tr>\n",
              "    <tr>\n",
              "      <th>19</th>\n",
              "      <td>QA / Testing</td>\n",
              "      <td>3724</td>\n",
              "      <td>0.830879</td>\n",
              "      <td>0</td>\n",
              "      <td>0.000000</td>\n",
              "      <td>188</td>\n",
              "      <td>object</td>\n",
              "    </tr>\n",
              "    <tr>\n",
              "      <th>20</th>\n",
              "      <td>IDEs</td>\n",
              "      <td>1369</td>\n",
              "      <td>0.305444</td>\n",
              "      <td>0</td>\n",
              "      <td>0.000000</td>\n",
              "      <td>955</td>\n",
              "      <td>object</td>\n",
              "    </tr>\n",
              "    <tr>\n",
              "      <th>21</th>\n",
              "      <td>¿Qué SO usás en tu laptop/PC para trabajar?</td>\n",
              "      <td>0</td>\n",
              "      <td>0.000000</td>\n",
              "      <td>0</td>\n",
              "      <td>0.000000</td>\n",
              "      <td>4</td>\n",
              "      <td>object</td>\n",
              "    </tr>\n",
              "    <tr>\n",
              "      <th>22</th>\n",
              "      <td>¿Y en tu celular?</td>\n",
              "      <td>0</td>\n",
              "      <td>0.000000</td>\n",
              "      <td>0</td>\n",
              "      <td>0.000000</td>\n",
              "      <td>4</td>\n",
              "      <td>object</td>\n",
              "    </tr>\n",
              "    <tr>\n",
              "      <th>23</th>\n",
              "      <td>¿Tenés guardias?</td>\n",
              "      <td>0</td>\n",
              "      <td>0.000000</td>\n",
              "      <td>0</td>\n",
              "      <td>0.000000</td>\n",
              "      <td>3</td>\n",
              "      <td>object</td>\n",
              "    </tr>\n",
              "    <tr>\n",
              "      <th>24</th>\n",
              "      <td>Cuánto cobrás por guardia</td>\n",
              "      <td>0</td>\n",
              "      <td>0.000000</td>\n",
              "      <td>4097</td>\n",
              "      <td>0.914101</td>\n",
              "      <td>119</td>\n",
              "      <td>float64</td>\n",
              "    </tr>\n",
              "    <tr>\n",
              "      <th>25</th>\n",
              "      <td>¿Porcentaje, bruto o neto?</td>\n",
              "      <td>0</td>\n",
              "      <td>0.000000</td>\n",
              "      <td>0</td>\n",
              "      <td>0.000000</td>\n",
              "      <td>3</td>\n",
              "      <td>object</td>\n",
              "    </tr>\n",
              "    <tr>\n",
              "      <th>26</th>\n",
              "      <td>Tipo de contrato</td>\n",
              "      <td>0</td>\n",
              "      <td>0.000000</td>\n",
              "      <td>0</td>\n",
              "      <td>0.000000</td>\n",
              "      <td>5</td>\n",
              "      <td>object</td>\n",
              "    </tr>\n",
              "    <tr>\n",
              "      <th>27</th>\n",
              "      <td>Salario mensual BRUTO (en tu moneda local)</td>\n",
              "      <td>0</td>\n",
              "      <td>0.000000</td>\n",
              "      <td>0</td>\n",
              "      <td>0.000000</td>\n",
              "      <td>996</td>\n",
              "      <td>float64</td>\n",
              "    </tr>\n",
              "    <tr>\n",
              "      <th>28</th>\n",
              "      <td>Salario mensual NETO (en tu moneda local)</td>\n",
              "      <td>182</td>\n",
              "      <td>0.040607</td>\n",
              "      <td>0</td>\n",
              "      <td>0.000000</td>\n",
              "      <td>934</td>\n",
              "      <td>float64</td>\n",
              "    </tr>\n",
              "    <tr>\n",
              "      <th>29</th>\n",
              "      <td>¿Qué tan conforme estás con tu sueldo?</td>\n",
              "      <td>0</td>\n",
              "      <td>0.000000</td>\n",
              "      <td>0</td>\n",
              "      <td>0.000000</td>\n",
              "      <td>4</td>\n",
              "      <td>int64</td>\n",
              "    </tr>\n",
              "    <tr>\n",
              "      <th>30</th>\n",
              "      <td>Cómo creés que está tu sueldo con respecto al ...</td>\n",
              "      <td>0</td>\n",
              "      <td>0.000000</td>\n",
              "      <td>0</td>\n",
              "      <td>0.000000</td>\n",
              "      <td>4</td>\n",
              "      <td>int64</td>\n",
              "    </tr>\n",
              "    <tr>\n",
              "      <th>31</th>\n",
              "      <td>Recibís algún tipo de bono</td>\n",
              "      <td>0</td>\n",
              "      <td>0.000000</td>\n",
              "      <td>0</td>\n",
              "      <td>0.000000</td>\n",
              "      <td>5</td>\n",
              "      <td>object</td>\n",
              "    </tr>\n",
              "    <tr>\n",
              "      <th>32</th>\n",
              "      <td>A qué está atado el bono</td>\n",
              "      <td>0</td>\n",
              "      <td>0.000000</td>\n",
              "      <td>0</td>\n",
              "      <td>0.000000</td>\n",
              "      <td>215</td>\n",
              "      <td>object</td>\n",
              "    </tr>\n",
              "    <tr>\n",
              "      <th>33</th>\n",
              "      <td>¿Tuviste ajustes por inflación en 2018?</td>\n",
              "      <td>0</td>\n",
              "      <td>0.000000</td>\n",
              "      <td>0</td>\n",
              "      <td>0.000000</td>\n",
              "      <td>4</td>\n",
              "      <td>object</td>\n",
              "    </tr>\n",
              "    <tr>\n",
              "      <th>34</th>\n",
              "      <td>¿De qué % fue el ajuste?</td>\n",
              "      <td>0</td>\n",
              "      <td>0.000000</td>\n",
              "      <td>946</td>\n",
              "      <td>0.211066</td>\n",
              "      <td>104</td>\n",
              "      <td>float64</td>\n",
              "    </tr>\n",
              "    <tr>\n",
              "      <th>35</th>\n",
              "      <td>¿En qué mes fue el último ajuste?</td>\n",
              "      <td>0</td>\n",
              "      <td>0.000000</td>\n",
              "      <td>832</td>\n",
              "      <td>0.185631</td>\n",
              "      <td>13</td>\n",
              "      <td>int64</td>\n",
              "    </tr>\n",
              "    <tr>\n",
              "      <th>36</th>\n",
              "      <td>¿Sufriste o presenciaste situaciones de violen...</td>\n",
              "      <td>91</td>\n",
              "      <td>0.020303</td>\n",
              "      <td>0</td>\n",
              "      <td>0.000000</td>\n",
              "      <td>3</td>\n",
              "      <td>object</td>\n",
              "    </tr>\n",
              "    <tr>\n",
              "      <th>37</th>\n",
              "      <td>Orientación sexual</td>\n",
              "      <td>155</td>\n",
              "      <td>0.034583</td>\n",
              "      <td>0</td>\n",
              "      <td>0.000000</td>\n",
              "      <td>45</td>\n",
              "      <td>object</td>\n",
              "    </tr>\n",
              "    <tr>\n",
              "      <th>38</th>\n",
              "      <td>¿Tenés algún tipo de discapacidad?</td>\n",
              "      <td>4184</td>\n",
              "      <td>0.933512</td>\n",
              "      <td>0</td>\n",
              "      <td>0.000000</td>\n",
              "      <td>57</td>\n",
              "      <td>object</td>\n",
              "    </tr>\n",
              "    <tr>\n",
              "      <th>39</th>\n",
              "      <td>¿Sentís que esto te dificultó el conseguir tra...</td>\n",
              "      <td>2365</td>\n",
              "      <td>0.527666</td>\n",
              "      <td>0</td>\n",
              "      <td>0.000000</td>\n",
              "      <td>2</td>\n",
              "      <td>object</td>\n",
              "    </tr>\n",
              "    <tr>\n",
              "      <th>40</th>\n",
              "      <td>¿A qué eventos de tecnología asististe en el ú...</td>\n",
              "      <td>2742</td>\n",
              "      <td>0.611780</td>\n",
              "      <td>0</td>\n",
              "      <td>0.000000</td>\n",
              "      <td>1110</td>\n",
              "      <td>object</td>\n",
              "    </tr>\n",
              "    <tr>\n",
              "      <th>41</th>\n",
              "      <td>Cantidad de empleados</td>\n",
              "      <td>0</td>\n",
              "      <td>0.000000</td>\n",
              "      <td>0</td>\n",
              "      <td>0.000000</td>\n",
              "      <td>10</td>\n",
              "      <td>object</td>\n",
              "    </tr>\n",
              "    <tr>\n",
              "      <th>42</th>\n",
              "      <td>Actividad principal</td>\n",
              "      <td>0</td>\n",
              "      <td>0.000000</td>\n",
              "      <td>0</td>\n",
              "      <td>0.000000</td>\n",
              "      <td>3</td>\n",
              "      <td>object</td>\n",
              "    </tr>\n",
              "    <tr>\n",
              "      <th>43</th>\n",
              "      <td>¿La recomendás como un buen lugar para trabajar?</td>\n",
              "      <td>0</td>\n",
              "      <td>0.000000</td>\n",
              "      <td>0</td>\n",
              "      <td>0.000000</td>\n",
              "      <td>10</td>\n",
              "      <td>int64</td>\n",
              "    </tr>\n",
              "    <tr>\n",
              "      <th>44</th>\n",
              "      <td>¿Cómo calificás las políticas de diversidad e ...</td>\n",
              "      <td>0</td>\n",
              "      <td>0.000000</td>\n",
              "      <td>0</td>\n",
              "      <td>0.000000</td>\n",
              "      <td>10</td>\n",
              "      <td>int64</td>\n",
              "    </tr>\n",
              "    <tr>\n",
              "      <th>45</th>\n",
              "      <td>¿A cuántos kilómetros de tu casa queda la ofic...</td>\n",
              "      <td>0</td>\n",
              "      <td>0.000000</td>\n",
              "      <td>48</td>\n",
              "      <td>0.010710</td>\n",
              "      <td>127</td>\n",
              "      <td>float64</td>\n",
              "    </tr>\n",
              "    <tr>\n",
              "      <th>46</th>\n",
              "      <td>Beneficios extra</td>\n",
              "      <td>0</td>\n",
              "      <td>0.000000</td>\n",
              "      <td>0</td>\n",
              "      <td>0.000000</td>\n",
              "      <td>2123</td>\n",
              "      <td>object</td>\n",
              "    </tr>\n",
              "  </tbody>\n",
              "</table>\n",
              "</div>"
            ],
            "text/plain": [
              "                                             variable  q_nan  ...  unique     type\n",
              "0                                       Me identifico      0  ...       3   object\n",
              "1                                               Tengo      0  ...      58    int64\n",
              "2                              Dónde estás trabajando      0  ...      25   object\n",
              "3                                 Años de experiencia      0  ...      52  float64\n",
              "4                           Años en la empresa actual      0  ...      48  float64\n",
              "5                            Años en el puesto actual      0  ...      39  float64\n",
              "6                                     ¿Gente a cargo?      0  ...      47    int64\n",
              "7                         Nivel de estudios alcanzado      0  ...       7   object\n",
              "8                                              Estado      0  ...       3   object\n",
              "9                                             Carrera    554  ...    1485   object\n",
              "10                                        Universidad    812  ...    1056   object\n",
              "11               Realizaste cursos de especialización      0  ...       7   object\n",
              "12               ¿Contribuís a proyectos open source?      0  ...       2   object\n",
              "13                            ¿Programás como hobbie?      0  ...       2   object\n",
              "14                                         Trabajo de      0  ...     443   object\n",
              "15                                        Plataformas    777  ...     935   object\n",
              "16                          Lenguajes de programación    852  ...    1391   object\n",
              "17               Frameworks, herramientas y librerías   2084  ...     646   object\n",
              "18                                     Bases de datos   1116  ...     923   object\n",
              "19                                       QA / Testing   3724  ...     188   object\n",
              "20                                               IDEs   1369  ...     955   object\n",
              "21        ¿Qué SO usás en tu laptop/PC para trabajar?      0  ...       4   object\n",
              "22                                  ¿Y en tu celular?      0  ...       4   object\n",
              "23                                   ¿Tenés guardias?      0  ...       3   object\n",
              "24                          Cuánto cobrás por guardia      0  ...     119  float64\n",
              "25                         ¿Porcentaje, bruto o neto?      0  ...       3   object\n",
              "26                                   Tipo de contrato      0  ...       5   object\n",
              "27         Salario mensual BRUTO (en tu moneda local)      0  ...     996  float64\n",
              "28          Salario mensual NETO (en tu moneda local)    182  ...     934  float64\n",
              "29             ¿Qué tan conforme estás con tu sueldo?      0  ...       4    int64\n",
              "30  Cómo creés que está tu sueldo con respecto al ...      0  ...       4    int64\n",
              "31                         Recibís algún tipo de bono      0  ...       5   object\n",
              "32                           A qué está atado el bono      0  ...     215   object\n",
              "33            ¿Tuviste ajustes por inflación en 2018?      0  ...       4   object\n",
              "34                           ¿De qué % fue el ajuste?      0  ...     104  float64\n",
              "35                  ¿En qué mes fue el último ajuste?      0  ...      13    int64\n",
              "36  ¿Sufriste o presenciaste situaciones de violen...     91  ...       3   object\n",
              "37                                 Orientación sexual    155  ...      45   object\n",
              "38                 ¿Tenés algún tipo de discapacidad?   4184  ...      57   object\n",
              "39  ¿Sentís que esto te dificultó el conseguir tra...   2365  ...       2   object\n",
              "40  ¿A qué eventos de tecnología asististe en el ú...   2742  ...    1110   object\n",
              "41                              Cantidad de empleados      0  ...      10   object\n",
              "42                                Actividad principal      0  ...       3   object\n",
              "43   ¿La recomendás como un buen lugar para trabajar?      0  ...      10    int64\n",
              "44  ¿Cómo calificás las políticas de diversidad e ...      0  ...      10    int64\n",
              "45  ¿A cuántos kilómetros de tu casa queda la ofic...      0  ...     127  float64\n",
              "46                                   Beneficios extra      0  ...    2123   object\n",
              "\n",
              "[47 rows x 7 columns]"
            ]
          },
          "metadata": {
            "tags": []
          },
          "execution_count": 11
        }
      ]
    },
    {
      "cell_type": "markdown",
      "metadata": {
        "id": "cjqgw0gsFEks"
      },
      "source": [
        "In this data set there are variables with NaNs and high cardinality variables "
      ]
    },
    {
      "cell_type": "code",
      "metadata": {
        "id": "DWrn-3FKFhN1"
      },
      "source": [
        ""
      ],
      "execution_count": null,
      "outputs": []
    },
    {
      "cell_type": "code",
      "metadata": {
        "colab": {
          "base_uri": "https://localhost:8080/"
        },
        "id": "NnDlJiP_FoMl",
        "outputId": "10013315-f290-41e8-f239-5ae29ed27a33"
      },
      "source": [
        "data.head()"
      ],
      "execution_count": null,
      "outputs": [
        {
          "output_type": "execute_result",
          "data": {
            "text/html": [
              "<div>\n",
              "<style scoped>\n",
              "    .dataframe tbody tr th:only-of-type {\n",
              "        vertical-align: middle;\n",
              "    }\n",
              "\n",
              "    .dataframe tbody tr th {\n",
              "        vertical-align: top;\n",
              "    }\n",
              "\n",
              "    .dataframe thead th {\n",
              "        text-align: right;\n",
              "    }\n",
              "</style>\n",
              "<table border=\"1\" class=\"dataframe\">\n",
              "  <thead>\n",
              "    <tr style=\"text-align: right;\">\n",
              "      <th></th>\n",
              "      <th>Me identifico</th>\n",
              "      <th>Tengo</th>\n",
              "      <th>Dónde estás trabajando</th>\n",
              "      <th>Años de experiencia</th>\n",
              "      <th>Años en la empresa actual</th>\n",
              "      <th>Años en el puesto actual</th>\n",
              "      <th>¿Gente a cargo?</th>\n",
              "      <th>Nivel de estudios alcanzado</th>\n",
              "      <th>Estado</th>\n",
              "      <th>Carrera</th>\n",
              "      <th>Universidad</th>\n",
              "      <th>Realizaste cursos de especialización</th>\n",
              "      <th>¿Contribuís a proyectos open source?</th>\n",
              "      <th>¿Programás como hobbie?</th>\n",
              "      <th>Trabajo de</th>\n",
              "      <th>Plataformas</th>\n",
              "      <th>Lenguajes de programación</th>\n",
              "      <th>Frameworks, herramientas y librerías</th>\n",
              "      <th>Bases de datos</th>\n",
              "      <th>QA / Testing</th>\n",
              "      <th>IDEs</th>\n",
              "      <th>¿Qué SO usás en tu laptop/PC para trabajar?</th>\n",
              "      <th>¿Y en tu celular?</th>\n",
              "      <th>¿Tenés guardias?</th>\n",
              "      <th>Cuánto cobrás por guardia</th>\n",
              "      <th>¿Porcentaje, bruto o neto?</th>\n",
              "      <th>Tipo de contrato</th>\n",
              "      <th>Salario mensual BRUTO (en tu moneda local)</th>\n",
              "      <th>Salario mensual NETO (en tu moneda local)</th>\n",
              "      <th>¿Qué tan conforme estás con tu sueldo?</th>\n",
              "      <th>Cómo creés que está tu sueldo con respecto al último semestre</th>\n",
              "      <th>Recibís algún tipo de bono</th>\n",
              "      <th>A qué está atado el bono</th>\n",
              "      <th>¿Tuviste ajustes por inflación en 2018?</th>\n",
              "      <th>¿De qué % fue el ajuste?</th>\n",
              "      <th>¿En qué mes fue el último ajuste?</th>\n",
              "      <th>¿Sufriste o presenciaste situaciones de violencia laboral?</th>\n",
              "      <th>Orientación sexual</th>\n",
              "      <th>¿Tenés algún tipo de discapacidad?</th>\n",
              "      <th>¿Sentís que esto te dificultó el conseguir trabajo?</th>\n",
              "      <th>¿A qué eventos de tecnología asististe en el último año?</th>\n",
              "      <th>Cantidad de empleados</th>\n",
              "      <th>Actividad principal</th>\n",
              "      <th>¿La recomendás como un buen lugar para trabajar?</th>\n",
              "      <th>¿Cómo calificás las políticas de diversidad e inclusión?</th>\n",
              "      <th>¿A cuántos kilómetros de tu casa queda la oficina?</th>\n",
              "      <th>Beneficios extra</th>\n",
              "    </tr>\n",
              "  </thead>\n",
              "  <tbody>\n",
              "    <tr>\n",
              "      <th>0</th>\n",
              "      <td>Hombre</td>\n",
              "      <td>22</td>\n",
              "      <td>Catamarca</td>\n",
              "      <td>2.0</td>\n",
              "      <td>1.0</td>\n",
              "      <td>1.0</td>\n",
              "      <td>0</td>\n",
              "      <td>Universitario</td>\n",
              "      <td>En curso</td>\n",
              "      <td>ING informática</td>\n",
              "      <td>Unca</td>\n",
              "      <td>Sí, de forma particular, Sí, los pagó un emple...</td>\n",
              "      <td>No</td>\n",
              "      <td>Sí</td>\n",
              "      <td>Developer</td>\n",
              "      <td>Linux</td>\n",
              "      <td>HTML, Javascript, PHP, Python</td>\n",
              "      <td>Django, Toba Framework</td>\n",
              "      <td>MySQL, PostgreSQL</td>\n",
              "      <td>Selenium</td>\n",
              "      <td>Atom</td>\n",
              "      <td>Linux</td>\n",
              "      <td>Android</td>\n",
              "      <td>No</td>\n",
              "      <td>0.0</td>\n",
              "      <td>Bruto</td>\n",
              "      <td>Full-Time</td>\n",
              "      <td>35000.0</td>\n",
              "      <td>33000.0</td>\n",
              "      <td>2</td>\n",
              "      <td>3</td>\n",
              "      <td>Menos de un sueldo</td>\n",
              "      <td>Mix de las anteriores</td>\n",
              "      <td>Dos</td>\n",
              "      <td>25.0</td>\n",
              "      <td>5</td>\n",
              "      <td>Jamás</td>\n",
              "      <td>Heterosexual</td>\n",
              "      <td>NaN</td>\n",
              "      <td>NaN</td>\n",
              "      <td>NaN</td>\n",
              "      <td>1001-2000</td>\n",
              "      <td>Producto basado en Software</td>\n",
              "      <td>8</td>\n",
              "      <td>9</td>\n",
              "      <td>2.0</td>\n",
              "      <td>Capacitaciones y/o cursos</td>\n",
              "    </tr>\n",
              "    <tr>\n",
              "      <th>1</th>\n",
              "      <td>Hombre</td>\n",
              "      <td>23</td>\n",
              "      <td>Catamarca</td>\n",
              "      <td>2.0</td>\n",
              "      <td>1.0</td>\n",
              "      <td>1.0</td>\n",
              "      <td>0</td>\n",
              "      <td>Secundario</td>\n",
              "      <td>Completado</td>\n",
              "      <td>Ing informática</td>\n",
              "      <td>UNCa</td>\n",
              "      <td>Sí, de forma particular</td>\n",
              "      <td>No</td>\n",
              "      <td>Sí</td>\n",
              "      <td>Developer, SysAdmin y Redes</td>\n",
              "      <td>Linux, VMWare, Proxmox, Mikrotik, Cisco</td>\n",
              "      <td>Bash/Shell, CSS, HTML, Javascript, PHP, Python...</td>\n",
              "      <td>Cordova, Django, Node.js, React.js, WordPress,...</td>\n",
              "      <td>Informix, MariaDB, MongoDB, MySQL, PostgreSQL</td>\n",
              "      <td>Selenium</td>\n",
              "      <td>Atom, Nano</td>\n",
              "      <td>Linux</td>\n",
              "      <td>Android</td>\n",
              "      <td>No</td>\n",
              "      <td>0.0</td>\n",
              "      <td>Porcentaje de mi sueldo</td>\n",
              "      <td>Part-Time</td>\n",
              "      <td>25000.0</td>\n",
              "      <td>22000.0</td>\n",
              "      <td>2</td>\n",
              "      <td>1</td>\n",
              "      <td>Un sueldo</td>\n",
              "      <td>Mix de las anteriores</td>\n",
              "      <td>Uno</td>\n",
              "      <td>22.0</td>\n",
              "      <td>12</td>\n",
              "      <td>Jamás</td>\n",
              "      <td>Heterosexual</td>\n",
              "      <td>NaN</td>\n",
              "      <td>NaN</td>\n",
              "      <td>Charlas online</td>\n",
              "      <td>51-100</td>\n",
              "      <td>Producto basado en Software</td>\n",
              "      <td>8</td>\n",
              "      <td>10</td>\n",
              "      <td>2.0</td>\n",
              "      <td>Capacitaciones y/o cursos, Licencia de paterni...</td>\n",
              "    </tr>\n",
              "    <tr>\n",
              "      <th>2</th>\n",
              "      <td>Mujer</td>\n",
              "      <td>35</td>\n",
              "      <td>Chaco</td>\n",
              "      <td>8.0</td>\n",
              "      <td>7.0</td>\n",
              "      <td>2.0</td>\n",
              "      <td>2</td>\n",
              "      <td>Posgrado</td>\n",
              "      <td>En curso</td>\n",
              "      <td>MTI</td>\n",
              "      <td>Universidad del Nordeste</td>\n",
              "      <td>Sí, de forma particular, Sí, los pagó un emple...</td>\n",
              "      <td>Sí</td>\n",
              "      <td>Sí</td>\n",
              "      <td>Developer</td>\n",
              "      <td>NaN</td>\n",
              "      <td>.NET, R</td>\n",
              "      <td>.NET Core, shiny, entre otras librerías de R</td>\n",
              "      <td>MSSQL</td>\n",
              "      <td>NaN</td>\n",
              "      <td>RStudio, Sublime Text, Visual Studio</td>\n",
              "      <td>Windows</td>\n",
              "      <td>Android</td>\n",
              "      <td>Sí, pasiva</td>\n",
              "      <td>0.0</td>\n",
              "      <td>Neto</td>\n",
              "      <td>Full-Time</td>\n",
              "      <td>50000.0</td>\n",
              "      <td>45000.0</td>\n",
              "      <td>2</td>\n",
              "      <td>2</td>\n",
              "      <td>De uno a tres sueldos</td>\n",
              "      <td>Performance de la compañía</td>\n",
              "      <td>Dos</td>\n",
              "      <td>4.0</td>\n",
              "      <td>10</td>\n",
              "      <td>En mi trabajo actual</td>\n",
              "      <td>dgsdg</td>\n",
              "      <td>NaN</td>\n",
              "      <td>No</td>\n",
              "      <td>varios</td>\n",
              "      <td>201-500</td>\n",
              "      <td>Otras industrias</td>\n",
              "      <td>4</td>\n",
              "      <td>4</td>\n",
              "      <td>0.2</td>\n",
              "      <td>Capacitaciones y/o cursos, Licencia de paterni...</td>\n",
              "    </tr>\n",
              "    <tr>\n",
              "      <th>3</th>\n",
              "      <td>Hombre</td>\n",
              "      <td>41</td>\n",
              "      <td>Chaco</td>\n",
              "      <td>20.0</td>\n",
              "      <td>2.0</td>\n",
              "      <td>10.0</td>\n",
              "      <td>0</td>\n",
              "      <td>Universitario</td>\n",
              "      <td>Completado</td>\n",
              "      <td>Lic en sistemas</td>\n",
              "      <td>Uba / CAECE</td>\n",
              "      <td>Sí, los pagó un empleador</td>\n",
              "      <td>No</td>\n",
              "      <td>No</td>\n",
              "      <td>Developer</td>\n",
              "      <td>NaN</td>\n",
              "      <td>.NET, C#, CSS, HTML, Javascript, TypeScript</td>\n",
              "      <td>Angular</td>\n",
              "      <td>MySQL</td>\n",
              "      <td>NaN</td>\n",
              "      <td>Visual Studio, Vs code</td>\n",
              "      <td>Mac OS X</td>\n",
              "      <td>Android</td>\n",
              "      <td>No</td>\n",
              "      <td>0.0</td>\n",
              "      <td>Bruto</td>\n",
              "      <td>Freelance</td>\n",
              "      <td>70000.0</td>\n",
              "      <td>65000.0</td>\n",
              "      <td>3</td>\n",
              "      <td>2</td>\n",
              "      <td>No</td>\n",
              "      <td>No recibo bono</td>\n",
              "      <td>Más de dos</td>\n",
              "      <td>40.0</td>\n",
              "      <td>10</td>\n",
              "      <td>Jamás</td>\n",
              "      <td>Heterosexual</td>\n",
              "      <td>NaN</td>\n",
              "      <td>NaN</td>\n",
              "      <td>Ninguno</td>\n",
              "      <td>1-10</td>\n",
              "      <td>Servicios / Consultoría de Software / Digital</td>\n",
              "      <td>5</td>\n",
              "      <td>1</td>\n",
              "      <td>-1.0</td>\n",
              "      <td>Horarios flexibles, Vacaciones flexibles (adic...</td>\n",
              "    </tr>\n",
              "    <tr>\n",
              "      <th>4</th>\n",
              "      <td>Hombre</td>\n",
              "      <td>35</td>\n",
              "      <td>Chaco</td>\n",
              "      <td>5.0</td>\n",
              "      <td>3.0</td>\n",
              "      <td>2.0</td>\n",
              "      <td>0</td>\n",
              "      <td>Universitario</td>\n",
              "      <td>Completado</td>\n",
              "      <td>Analisis en Sistemas</td>\n",
              "      <td>UTN</td>\n",
              "      <td>Sí, los pagó un empleador</td>\n",
              "      <td>No</td>\n",
              "      <td>No</td>\n",
              "      <td>Product Manager</td>\n",
              "      <td>Google Cloud Platform/App Engine, Linux</td>\n",
              "      <td>NaN</td>\n",
              "      <td>NaN</td>\n",
              "      <td>MySQL</td>\n",
              "      <td>NaN</td>\n",
              "      <td>NaN</td>\n",
              "      <td>Linux</td>\n",
              "      <td>Android</td>\n",
              "      <td>No</td>\n",
              "      <td>0.0</td>\n",
              "      <td>Neto</td>\n",
              "      <td>Full-Time</td>\n",
              "      <td>35000.0</td>\n",
              "      <td>28780.0</td>\n",
              "      <td>2</td>\n",
              "      <td>2</td>\n",
              "      <td>No</td>\n",
              "      <td>No recibo bono</td>\n",
              "      <td>Uno</td>\n",
              "      <td>10.0</td>\n",
              "      <td>10</td>\n",
              "      <td>En mi trabajo actual</td>\n",
              "      <td>Heterosexual</td>\n",
              "      <td>NaN</td>\n",
              "      <td>No</td>\n",
              "      <td>NaN</td>\n",
              "      <td>501-1000</td>\n",
              "      <td>Producto basado en Software</td>\n",
              "      <td>8</td>\n",
              "      <td>8</td>\n",
              "      <td>1.0</td>\n",
              "      <td>Capacitaciones y/o cursos, Clases de idiomas, ...</td>\n",
              "    </tr>\n",
              "  </tbody>\n",
              "</table>\n",
              "</div>"
            ],
            "text/plain": [
              "  Me identifico  ...                                   Beneficios extra\n",
              "0        Hombre  ...                          Capacitaciones y/o cursos\n",
              "1        Hombre  ...  Capacitaciones y/o cursos, Licencia de paterni...\n",
              "2         Mujer  ...  Capacitaciones y/o cursos, Licencia de paterni...\n",
              "3        Hombre  ...  Horarios flexibles, Vacaciones flexibles (adic...\n",
              "4        Hombre  ...  Capacitaciones y/o cursos, Clases de idiomas, ...\n",
              "\n",
              "[5 rows x 47 columns]"
            ]
          },
          "metadata": {
            "tags": []
          },
          "execution_count": 12
        }
      ]
    },
    {
      "cell_type": "code",
      "metadata": {
        "id": "dISaEPXWFrdc"
      },
      "source": [
        "\r\n",
        "\r\n",
        "\r\n"
      ],
      "execution_count": null,
      "outputs": []
    },
    {
      "cell_type": "markdown",
      "metadata": {
        "id": "H4AtDgHwGruo"
      },
      "source": [
        "#### Data Preparation"
      ]
    },
    {
      "cell_type": "code",
      "metadata": {
        "id": "0Nwhe19SGq_R"
      },
      "source": [
        "input = 'Universidad'\r\n",
        "target = 'Salario mensual BRUTO (en tu moneda local)'\r\n",
        "data_x = data[[input]]"
      ],
      "execution_count": null,
      "outputs": []
    },
    {
      "cell_type": "code",
      "metadata": {
        "colab": {
          "base_uri": "https://localhost:8080/"
        },
        "id": "i49RlHFOW_5e",
        "outputId": "78961d37-6772-4749-e1b3-7a86c20b6b65"
      },
      "source": [
        "profiling_num(data[target])"
      ],
      "execution_count": null,
      "outputs": [
        {
          "output_type": "execute_result",
          "data": {
            "text/html": [
              "<div>\n",
              "<style scoped>\n",
              "    .dataframe tbody tr th:only-of-type {\n",
              "        vertical-align: middle;\n",
              "    }\n",
              "\n",
              "    .dataframe tbody tr th {\n",
              "        vertical-align: top;\n",
              "    }\n",
              "\n",
              "    .dataframe thead th {\n",
              "        text-align: right;\n",
              "    }\n",
              "</style>\n",
              "<table border=\"1\" class=\"dataframe\">\n",
              "  <thead>\n",
              "    <tr style=\"text-align: right;\">\n",
              "      <th></th>\n",
              "      <th>variable</th>\n",
              "      <th>mean</th>\n",
              "      <th>std_dev</th>\n",
              "      <th>variation_coef</th>\n",
              "      <th>p_0.01</th>\n",
              "      <th>p_0.05</th>\n",
              "      <th>p_0.25</th>\n",
              "      <th>p_0.5</th>\n",
              "      <th>p_0.75</th>\n",
              "      <th>p_0.95</th>\n",
              "      <th>p_0.99</th>\n",
              "    </tr>\n",
              "  </thead>\n",
              "  <tbody>\n",
              "    <tr>\n",
              "      <th>0</th>\n",
              "      <td>Salario mensual BRUTO (en tu moneda local)</td>\n",
              "      <td>66708.338151</td>\n",
              "      <td>387420.626264</td>\n",
              "      <td>5.807679</td>\n",
              "      <td>31.8898</td>\n",
              "      <td>14500.0</td>\n",
              "      <td>32508.25</td>\n",
              "      <td>49000.0</td>\n",
              "      <td>70000.0</td>\n",
              "      <td>137000.0</td>\n",
              "      <td>250000.0</td>\n",
              "    </tr>\n",
              "  </tbody>\n",
              "</table>\n",
              "</div>"
            ],
            "text/plain": [
              "                                     variable          mean  ...    p_0.95    p_0.99\n",
              "0  Salario mensual BRUTO (en tu moneda local)  66708.338151  ...  137000.0  250000.0\n",
              "\n",
              "[1 rows x 11 columns]"
            ]
          },
          "metadata": {
            "tags": []
          },
          "execution_count": 15
        }
      ]
    },
    {
      "cell_type": "markdown",
      "metadata": {
        "id": "tT7Y0SHcYCp0"
      },
      "source": [
        "The variation coefficient is bigger than 1, so i will decrease it"
      ]
    },
    {
      "cell_type": "code",
      "metadata": {
        "id": "tZjHeLX3YHEm"
      },
      "source": [
        "\r\n",
        "\r\n",
        "\r\n"
      ],
      "execution_count": null,
      "outputs": []
    },
    {
      "cell_type": "code",
      "metadata": {
        "colab": {
          "base_uri": "https://localhost:8080/"
        },
        "id": "6KQLeZkjXDw7",
        "outputId": "63633d70-6cde-42a5-d7a8-ef0d97fc75ca"
      },
      "source": [
        "freq_tbl(data[input])"
      ],
      "execution_count": null,
      "outputs": [
        {
          "output_type": "execute_result",
          "data": {
            "text/html": [
              "<div>\n",
              "<style scoped>\n",
              "    .dataframe tbody tr th:only-of-type {\n",
              "        vertical-align: middle;\n",
              "    }\n",
              "\n",
              "    .dataframe tbody tr th {\n",
              "        vertical-align: top;\n",
              "    }\n",
              "\n",
              "    .dataframe thead th {\n",
              "        text-align: right;\n",
              "    }\n",
              "</style>\n",
              "<table border=\"1\" class=\"dataframe\">\n",
              "  <thead>\n",
              "    <tr style=\"text-align: right;\">\n",
              "      <th></th>\n",
              "      <th>Universidad</th>\n",
              "      <th>frequency</th>\n",
              "      <th>percentage</th>\n",
              "      <th>cumulative_perc</th>\n",
              "    </tr>\n",
              "  </thead>\n",
              "  <tbody>\n",
              "    <tr>\n",
              "      <th>0</th>\n",
              "      <td>UTN</td>\n",
              "      <td>471</td>\n",
              "      <td>0.105087</td>\n",
              "      <td>0.128338</td>\n",
              "    </tr>\n",
              "    <tr>\n",
              "      <th>1</th>\n",
              "      <td>UBA</td>\n",
              "      <td>337</td>\n",
              "      <td>0.075190</td>\n",
              "      <td>0.220163</td>\n",
              "    </tr>\n",
              "    <tr>\n",
              "      <th>2</th>\n",
              "      <td>UADE</td>\n",
              "      <td>106</td>\n",
              "      <td>0.023650</td>\n",
              "      <td>0.249046</td>\n",
              "    </tr>\n",
              "    <tr>\n",
              "      <th>3</th>\n",
              "      <td>Universidad de Buenos Aires</td>\n",
              "      <td>92</td>\n",
              "      <td>0.020527</td>\n",
              "      <td>0.274114</td>\n",
              "    </tr>\n",
              "    <tr>\n",
              "      <th>4</th>\n",
              "      <td>Utn</td>\n",
              "      <td>84</td>\n",
              "      <td>0.018742</td>\n",
              "      <td>0.297003</td>\n",
              "    </tr>\n",
              "    <tr>\n",
              "      <th>...</th>\n",
              "      <td>...</td>\n",
              "      <td>...</td>\n",
              "      <td>...</td>\n",
              "      <td>...</td>\n",
              "    </tr>\n",
              "    <tr>\n",
              "      <th>1051</th>\n",
              "      <td>Instituto ORT</td>\n",
              "      <td>1</td>\n",
              "      <td>0.000223</td>\n",
              "      <td>0.998910</td>\n",
              "    </tr>\n",
              "    <tr>\n",
              "      <th>1052</th>\n",
              "      <td>Inst beltran</td>\n",
              "      <td>1</td>\n",
              "      <td>0.000223</td>\n",
              "      <td>0.999183</td>\n",
              "    </tr>\n",
              "    <tr>\n",
              "      <th>1053</th>\n",
              "      <td>Universidad Politecnica Territorial de Aragua ...</td>\n",
              "      <td>1</td>\n",
              "      <td>0.000223</td>\n",
              "      <td>0.999455</td>\n",
              "    </tr>\n",
              "    <tr>\n",
              "      <th>1054</th>\n",
              "      <td>U.N.O</td>\n",
              "      <td>1</td>\n",
              "      <td>0.000223</td>\n",
              "      <td>0.999728</td>\n",
              "    </tr>\n",
              "    <tr>\n",
              "      <th>1055</th>\n",
              "      <td>Universitat Politecnica de Barcelona</td>\n",
              "      <td>1</td>\n",
              "      <td>0.000223</td>\n",
              "      <td>1.000000</td>\n",
              "    </tr>\n",
              "  </tbody>\n",
              "</table>\n",
              "<p>1056 rows × 4 columns</p>\n",
              "</div>"
            ],
            "text/plain": [
              "                                            Universidad  ...  cumulative_perc\n",
              "0                                                   UTN  ...         0.128338\n",
              "1                                                   UBA  ...         0.220163\n",
              "2                                                  UADE  ...         0.249046\n",
              "3                           Universidad de Buenos Aires  ...         0.274114\n",
              "4                                                   Utn  ...         0.297003\n",
              "...                                                 ...  ...              ...\n",
              "1051                                      Instituto ORT  ...         0.998910\n",
              "1052                                       Inst beltran  ...         0.999183\n",
              "1053  Universidad Politecnica Territorial de Aragua ...  ...         0.999455\n",
              "1054                                              U.N.O  ...         0.999728\n",
              "1055               Universitat Politecnica de Barcelona  ...         1.000000\n",
              "\n",
              "[1056 rows x 4 columns]"
            ]
          },
          "metadata": {
            "tags": []
          },
          "execution_count": 16
        }
      ]
    },
    {
      "cell_type": "code",
      "metadata": {
        "id": "Xef5ufOqXVc7"
      },
      "source": [
        "\r\n",
        "\r\n",
        "\r\n"
      ],
      "execution_count": null,
      "outputs": []
    },
    {
      "cell_type": "markdown",
      "metadata": {
        "id": "djXT20OYXXlS"
      },
      "source": [
        "Removing extremes from target variable"
      ]
    },
    {
      "cell_type": "code",
      "metadata": {
        "colab": {
          "base_uri": "https://localhost:8080/"
        },
        "id": "sTVEJVOHXWB6",
        "outputId": "b3b294e4-3b99-4653-b862-616344c300dd"
      },
      "source": [
        "data_y_prep = np.where(data[target] > 137000, 137000, data[target])\r\n",
        "data_y_prep"
      ],
      "execution_count": null,
      "outputs": [
        {
          "output_type": "execute_result",
          "data": {
            "text/plain": [
              "array([ 35000.,  25000.,  50000., ...,  23000.,  41000., 137000.])"
            ]
          },
          "metadata": {
            "tags": []
          },
          "execution_count": 17
        }
      ]
    },
    {
      "cell_type": "markdown",
      "metadata": {
        "id": "6iLfXDBHX2XL"
      },
      "source": [
        "Scaling"
      ]
    },
    {
      "cell_type": "code",
      "metadata": {
        "id": "CHLgj48wXfjb"
      },
      "source": [
        "scaler = MinMaxScaler()\r\n",
        "data_y = scaler.fit_transform(todf(data_y_prep))"
      ],
      "execution_count": null,
      "outputs": []
    },
    {
      "cell_type": "code",
      "metadata": {
        "colab": {
          "base_uri": "https://localhost:8080/"
        },
        "id": "XRnXWt0MX3mG",
        "outputId": "532c0b03-bf45-4fab-fa5a-942ccc830230"
      },
      "source": [
        "profiling_num(data_y)"
      ],
      "execution_count": null,
      "outputs": [
        {
          "output_type": "execute_result",
          "data": {
            "text/html": [
              "<div>\n",
              "<style scoped>\n",
              "    .dataframe tbody tr th:only-of-type {\n",
              "        vertical-align: middle;\n",
              "    }\n",
              "\n",
              "    .dataframe tbody tr th {\n",
              "        vertical-align: top;\n",
              "    }\n",
              "\n",
              "    .dataframe thead th {\n",
              "        text-align: right;\n",
              "    }\n",
              "</style>\n",
              "<table border=\"1\" class=\"dataframe\">\n",
              "  <thead>\n",
              "    <tr style=\"text-align: right;\">\n",
              "      <th></th>\n",
              "      <th>variable</th>\n",
              "      <th>mean</th>\n",
              "      <th>std_dev</th>\n",
              "      <th>variation_coef</th>\n",
              "      <th>p_0.01</th>\n",
              "      <th>p_0.05</th>\n",
              "      <th>p_0.25</th>\n",
              "      <th>p_0.5</th>\n",
              "      <th>p_0.75</th>\n",
              "      <th>p_0.95</th>\n",
              "      <th>p_0.99</th>\n",
              "    </tr>\n",
              "  </thead>\n",
              "  <tbody>\n",
              "    <tr>\n",
              "      <th>0</th>\n",
              "      <td>0</td>\n",
              "      <td>0.404588</td>\n",
              "      <td>0.234491</td>\n",
              "      <td>0.579579</td>\n",
              "      <td>0.000225</td>\n",
              "      <td>0.105833</td>\n",
              "      <td>0.237281</td>\n",
              "      <td>0.35766</td>\n",
              "      <td>0.510945</td>\n",
              "      <td>1.0</td>\n",
              "      <td>1.0</td>\n",
              "    </tr>\n",
              "  </tbody>\n",
              "</table>\n",
              "</div>"
            ],
            "text/plain": [
              "   variable      mean   std_dev  ...    p_0.75  p_0.95  p_0.99\n",
              "0         0  0.404588  0.234491  ...  0.510945     1.0     1.0\n",
              "\n",
              "[1 rows x 11 columns]"
            ]
          },
          "metadata": {
            "tags": []
          },
          "execution_count": 19
        }
      ]
    },
    {
      "cell_type": "markdown",
      "metadata": {
        "id": "ZxZFsfblX7Z0"
      },
      "source": [
        "Now the variation coefficient is smaller than before"
      ]
    },
    {
      "cell_type": "code",
      "metadata": {
        "id": "z4Ezhk7BXu9N"
      },
      "source": [
        "\r\n",
        "\r\n"
      ],
      "execution_count": null,
      "outputs": []
    },
    {
      "cell_type": "markdown",
      "metadata": {
        "id": "mkhSpxiFXw18"
      },
      "source": [
        "Separating in training set and test set"
      ]
    },
    {
      "cell_type": "code",
      "metadata": {
        "id": "XC-ws_mMXvcv"
      },
      "source": [
        "x_train_base, x_test_base, y_train, y_test = train_test_split(data_x, data_y, test_size=0.2)"
      ],
      "execution_count": null,
      "outputs": []
    },
    {
      "cell_type": "code",
      "metadata": {
        "colab": {
          "base_uri": "https://localhost:8080/"
        },
        "id": "oRguRw8bYiay",
        "outputId": "5504d105-58cf-4097-f6d9-8d1c0513ab55"
      },
      "source": [
        "todf(y_train).hist()"
      ],
      "execution_count": null,
      "outputs": [
        {
          "output_type": "execute_result",
          "data": {
            "text/plain": [
              "array([[<matplotlib.axes._subplots.AxesSubplot object at 0x7fcabc90c5f8>]],\n",
              "      dtype=object)"
            ]
          },
          "metadata": {
            "tags": []
          },
          "execution_count": 22
        },
        {
          "output_type": "display_data",
          "data": {
            "image/png": "[encoded data removed]",
            "text/plain": [
              "<Figure size 432x288 with 1 Axes>"
            ]
          },
          "metadata": {
            "tags": [],
            "needs_background": "light"
          }
        }
      ]
    },
    {
      "cell_type": "code",
      "metadata": {
        "id": "aZOYbehoYuxl"
      },
      "source": [
        "\r\n",
        "\r\n",
        "\r\n",
        "\r\n"
      ],
      "execution_count": null,
      "outputs": []
    },
    {
      "cell_type": "markdown",
      "metadata": {
        "id": "oXsV3qLwYvcz"
      },
      "source": [
        "#### Models creation (with embeddings)"
      ]
    },
    {
      "cell_type": "code",
      "metadata": {
        "colab": {
          "base_uri": "https://localhost:8080/"
        },
        "id": "lup8pHJKaHs0",
        "outputId": "2a566246-7779-426c-8515-224980d541a7"
      },
      "source": [
        "data_x[input]"
      ],
      "execution_count": null,
      "outputs": [
        {
          "output_type": "execute_result",
          "data": {
            "text/plain": [
              "0                                  Unca\n",
              "1                                  UNCa\n",
              "2              Universidad del Nordeste\n",
              "3                           Uba / CAECE\n",
              "4                                   UTN\n",
              "                     ...               \n",
              "4477    Universidad Nacional de Tucuman\n",
              "4478                                UTN\n",
              "4479                           Siglo 21\n",
              "4480               Universidad Isabel I\n",
              "4481                                NaN\n",
              "Name: Universidad, Length: 4482, dtype: object"
            ]
          },
          "metadata": {
            "tags": []
          },
          "execution_count": 99
        }
      ]
    },
    {
      "cell_type": "code",
      "metadata": {
        "id": "h4j6k_EndvKG"
      },
      "source": [
        ""
      ],
      "execution_count": null,
      "outputs": []
    },
    {
      "cell_type": "markdown",
      "metadata": {
        "id": "VcMDem1Ue3Jz"
      },
      "source": [
        "Applying label encoder (filling nans with 'nan')"
      ]
    },
    {
      "cell_type": "code",
      "metadata": {
        "id": "UniEUaRndmrA"
      },
      "source": [
        "data_x2 = data_x[input].fillna('nan')"
      ],
      "execution_count": null,
      "outputs": []
    },
    {
      "cell_type": "code",
      "metadata": {
        "colab": {
          "base_uri": "https://localhost:8080/"
        },
        "id": "Ua6VslMLZy38",
        "outputId": "64ed0f0c-41c5-4f16-ea47-9b16a7562b3a"
      },
      "source": [
        "le = preprocessing.LabelEncoder()\r\n",
        "\r\n",
        "le.fit_transform(data_x2)"
      ],
      "execution_count": null,
      "outputs": [
        {
          "output_type": "execute_result",
          "data": {
            "text/plain": [
              "array([ 679,  502,  876, ...,  413,  731, 1001])"
            ]
          },
          "metadata": {
            "tags": []
          },
          "execution_count": 101
        }
      ]
    },
    {
      "cell_type": "code",
      "metadata": {
        "id": "uOTNc-uXaDvx"
      },
      "source": [
        "x_train2 = le.transform(x_train_base[input].fillna('nan')) \r\n",
        "x_test2 = le.transform(x_test_base[input].fillna('nan'))"
      ],
      "execution_count": null,
      "outputs": []
    },
    {
      "cell_type": "code",
      "metadata": {
        "id": "-919ZkHCeU0l"
      },
      "source": [
        ""
      ],
      "execution_count": null,
      "outputs": []
    },
    {
      "cell_type": "code",
      "metadata": {
        "colab": {
          "base_uri": "https://localhost:8080/"
        },
        "id": "XPbwpRNWe1d7",
        "outputId": "397a3ed5-bf0e-46c3-a896-2e71e5fe3b4e"
      },
      "source": [
        "x_train.shape"
      ],
      "execution_count": null,
      "outputs": [
        {
          "output_type": "execute_result",
          "data": {
            "text/plain": [
              "(3585,)"
            ]
          },
          "metadata": {
            "tags": []
          },
          "execution_count": 103
        }
      ]
    },
    {
      "cell_type": "code",
      "metadata": {
        "id": "6Wh1Vqs5e7TQ"
      },
      "source": [
        ""
      ],
      "execution_count": null,
      "outputs": []
    },
    {
      "cell_type": "code",
      "metadata": {
        "colab": {
          "base_uri": "https://localhost:8080/"
        },
        "id": "P4Wsdcoqe7WJ",
        "outputId": "3bea27ab-ee0a-4e79-9372-7d21ed706ec7"
      },
      "source": [
        "in_dim = x_train.max()+1\r\n",
        "in_dim"
      ],
      "execution_count": null,
      "outputs": [
        {
          "output_type": "execute_result",
          "data": {
            "text/plain": [
              "1057"
            ]
          },
          "metadata": {
            "tags": []
          },
          "execution_count": 104
        }
      ]
    },
    {
      "cell_type": "code",
      "metadata": {
        "id": "8lCXePDYfCWs"
      },
      "source": [
        ""
      ],
      "execution_count": null,
      "outputs": []
    },
    {
      "cell_type": "markdown",
      "metadata": {
        "id": "t3MwitBafA05"
      },
      "source": [
        "Models creation with embedding layer (its a regression problem, so, the last layer its a single neuron layer with linear activation function)"
      ]
    },
    {
      "cell_type": "code",
      "metadata": {
        "id": "Ak59NRbHfFNO"
      },
      "source": [
        "model = Sequential()\r\n",
        "\r\n",
        "model.add(Embedding(input_dim=in_dim, input_length=1, output_dim=10))\r\n",
        "model.add(Flatten())\r\n",
        "model.add(Dense(8, activation='relu'))\r\n",
        "model.add(Dense(1))"
      ],
      "execution_count": null,
      "outputs": []
    },
    {
      "cell_type": "code",
      "metadata": {
        "colab": {
          "base_uri": "https://localhost:8080/"
        },
        "id": "OxRgX-_lfSD2",
        "outputId": "7e67a4f1-0977-44be-e1f9-78e9812bb31e"
      },
      "source": [
        "model.summary()"
      ],
      "execution_count": null,
      "outputs": [
        {
          "output_type": "stream",
          "text": [
            "Model: \"sequential_6\"\n",
            "_________________________________________________________________\n",
            "Layer (type)                 Output Shape              Param #   \n",
            "=================================================================\n",
            "embedding_6 (Embedding)      (None, 1, 10)             10570     \n",
            "_________________________________________________________________\n",
            "flatten_6 (Flatten)          (None, 10)                0         \n",
            "_________________________________________________________________\n",
            "dense_12 (Dense)             (None, 8)                 88        \n",
            "_________________________________________________________________\n",
            "dense_13 (Dense)             (None, 1)                 9         \n",
            "=================================================================\n",
            "Total params: 10,667\n",
            "Trainable params: 10,667\n",
            "Non-trainable params: 0\n",
            "_________________________________________________________________\n"
          ],
          "name": "stdout"
        }
      ]
    },
    {
      "cell_type": "code",
      "metadata": {
        "id": "w8helkU0fq6x"
      },
      "source": [
        "model.compile(optimizer=keras.optimizers.Adam(lr=0.01),  # default lr=0.01 \r\n",
        "              loss='MSE',\r\n",
        "              metrics='MAE')"
      ],
      "execution_count": null,
      "outputs": []
    },
    {
      "cell_type": "code",
      "metadata": {
        "id": "OUk9KJJYgK7N"
      },
      "source": [
        ""
      ],
      "execution_count": null,
      "outputs": []
    },
    {
      "cell_type": "markdown",
      "metadata": {
        "id": "XJbDcePBgKcO"
      },
      "source": [
        "Fitting the model"
      ]
    },
    {
      "cell_type": "code",
      "metadata": {
        "colab": {
          "base_uri": "https://localhost:8080/"
        },
        "id": "XdDdgTgGfuWl",
        "outputId": "3d2cbcd1-da5a-4371-a2d9-40474b2e1ec4"
      },
      "source": [
        "history = model.fit(x_train2, y_train, epochs=12, batch_size=2048, validation_split=0.2)"
      ],
      "execution_count": null,
      "outputs": [
        {
          "output_type": "stream",
          "text": [
            "Epoch 1/12\n",
            "2/2 [==============================] - 1s 179ms/step - loss: 0.2265 - MAE: 0.4135 - val_loss: 0.1863 - val_MAE: 0.3593\n",
            "Epoch 2/12\n",
            "2/2 [==============================] - 0s 52ms/step - loss: 0.1739 - MAE: 0.3465 - val_loss: 0.1493 - val_MAE: 0.3076\n",
            "Epoch 3/12\n",
            "2/2 [==============================] - 0s 48ms/step - loss: 0.1384 - MAE: 0.2937 - val_loss: 0.1166 - val_MAE: 0.2582\n",
            "Epoch 4/12\n",
            "2/2 [==============================] - 0s 50ms/step - loss: 0.1057 - MAE: 0.2410 - val_loss: 0.0903 - val_MAE: 0.2208\n",
            "Epoch 5/12\n",
            "2/2 [==============================] - 0s 56ms/step - loss: 0.0790 - MAE: 0.2014 - val_loss: 0.0730 - val_MAE: 0.2004\n",
            "Epoch 6/12\n",
            "2/2 [==============================] - 0s 50ms/step - loss: 0.0625 - MAE: 0.1844 - val_loss: 0.0659 - val_MAE: 0.1978\n",
            "Epoch 7/12\n",
            "2/2 [==============================] - 0s 54ms/step - loss: 0.0571 - MAE: 0.1864 - val_loss: 0.0661 - val_MAE: 0.2055\n",
            "Epoch 8/12\n",
            "2/2 [==============================] - 0s 51ms/step - loss: 0.0586 - MAE: 0.1975 - val_loss: 0.0680 - val_MAE: 0.2127\n",
            "Epoch 9/12\n",
            "2/2 [==============================] - 0s 49ms/step - loss: 0.0589 - MAE: 0.2026 - val_loss: 0.0677 - val_MAE: 0.2140\n",
            "Epoch 10/12\n",
            "2/2 [==============================] - 0s 58ms/step - loss: 0.0571 - MAE: 0.1999 - val_loss: 0.0656 - val_MAE: 0.2104\n",
            "Epoch 11/12\n",
            "2/2 [==============================] - 0s 56ms/step - loss: 0.0530 - MAE: 0.1905 - val_loss: 0.0631 - val_MAE: 0.2046\n",
            "Epoch 12/12\n",
            "2/2 [==============================] - 0s 50ms/step - loss: 0.0491 - MAE: 0.1780 - val_loss: 0.0614 - val_MAE: 0.1987\n"
          ],
          "name": "stdout"
        }
      ]
    },
    {
      "cell_type": "code",
      "metadata": {
        "id": "MyEtJq9DgXTC"
      },
      "source": [
        "\r\n",
        "\r\n"
      ],
      "execution_count": null,
      "outputs": []
    },
    {
      "cell_type": "markdown",
      "metadata": {
        "id": "HOzUFjEtgYeS"
      },
      "source": [
        "Plotting MAE and Loss"
      ]
    },
    {
      "cell_type": "code",
      "metadata": {
        "colab": {
          "base_uri": "https://localhost:8080/",
          "height": 617
        },
        "id": "CsIkUtbEgc2A",
        "outputId": "25e10e78-a7da-459e-f956-0fc9fd1aa732"
      },
      "source": [
        "fig1,fig2 = plot_all(history, 'MAE')\r\n",
        "fig1.show()\r\n",
        "fig2.show()"
      ],
      "execution_count": null,
      "outputs": [
        {
          "output_type": "display_data",
          "data": {
            "text/html": [
              "<html>\n",
              "<head><meta charset=\"utf-8\" /></head>\n",
              "<body>\n",
              "    <div>\n",
              "            <script src=\"https://cdnjs.cloudflare.com/ajax/libs/mathjax/2.7.5/MathJax.js?config=TeX-AMS-MML_SVG\"></script><script type=\"text/javascript\">if (window.MathJax) {MathJax.Hub.Config({SVG: {font: \"STIX-Web\"}});}</script>\n",
              "                <script type=\"text/javascript\">window.PlotlyConfig = {MathJaxConfig: 'local'};</script>\n",
              "        <script src=\"https://cdn.plot.ly/plotly-latest.min.js\"></script>    \n",
              "            <div id=\"7d1f0312-6329-4601-84e8-d4ca99222ddc\" class=\"plotly-graph-div\" style=\"height:300px; width:400px;\"></div>\n",
              "            <script type=\"text/javascript\">\n",
              "                \n",
              "                    window.PLOTLYENV=window.PLOTLYENV || {};\n",
              "                    \n",
              "                if (document.getElementById(\"7d1f0312-6329-4601-84e8-d4ca99222ddc\")) {\n",
              "                    Plotly.newPlot(\n",
              "                        '7d1f0312-6329-4601-84e8-d4ca99222ddc',\n",
              "                        [{\"name\": \"Train\", \"type\": \"scattergl\", \"y\": [0.4098913371562958, 0.34458795189857483, 0.2898466885089874, 0.23806115984916687, 0.2003476619720459, 0.18501242995262146, 0.1872202605009079, 0.1973533034324646, 0.2029058039188385, 0.19990430772304535, 0.1896759569644928, 0.17678190767765045]}, {\"name\": \"Valid\", \"type\": \"scattergl\", \"y\": [0.35927680134773254, 0.3075568377971649, 0.2582061290740967, 0.22079597413539886, 0.20044705271720886, 0.1978154480457306, 0.205470472574234, 0.21273671090602875, 0.21403448283672333, 0.21035760641098022, 0.20463472604751587, 0.1986599862575531]}],\n",
              "                        {\"height\": 300, \"template\": {\"data\": {\"bar\": [{\"error_x\": {\"color\": \"#2a3f5f\"}, \"error_y\": {\"color\": \"#2a3f5f\"}, \"marker\": {\"line\": {\"color\": \"#E5ECF6\", \"width\": 0.5}}, \"type\": \"bar\"}], \"barpolar\": [{\"marker\": {\"line\": {\"color\": \"#E5ECF6\", \"width\": 0.5}}, \"type\": \"barpolar\"}], \"carpet\": [{\"aaxis\": {\"endlinecolor\": \"#2a3f5f\", \"gridcolor\": \"white\", \"linecolor\": \"white\", \"minorgridcolor\": \"white\", \"startlinecolor\": \"#2a3f5f\"}, \"baxis\": {\"endlinecolor\": \"#2a3f5f\", \"gridcolor\": \"white\", \"linecolor\": \"white\", \"minorgridcolor\": \"white\", \"startlinecolor\": \"#2a3f5f\"}, \"type\": \"carpet\"}], \"choropleth\": [{\"colorbar\": {\"outlinewidth\": 0, \"ticks\": \"\"}, \"type\": \"choropleth\"}], \"contour\": [{\"colorbar\": {\"outlinewidth\": 0, \"ticks\": \"\"}, \"colorscale\": [[0.0, \"#0d0887\"], [0.1111111111111111, \"#46039f\"], [0.2222222222222222, \"#7201a8\"], [0.3333333333333333, \"#9c179e\"], [0.4444444444444444, \"#bd3786\"], [0.5555555555555556, \"#d8576b\"], [0.6666666666666666, \"#ed7953\"], [0.7777777777777778, \"#fb9f3a\"], [0.8888888888888888, \"#fdca26\"], [1.0, \"#f0f921\"]], \"type\": \"contour\"}], \"contourcarpet\": [{\"colorbar\": {\"outlinewidth\": 0, \"ticks\": \"\"}, \"type\": \"contourcarpet\"}], \"heatmap\": [{\"colorbar\": {\"outlinewidth\": 0, \"ticks\": \"\"}, \"colorscale\": [[0.0, \"#0d0887\"], [0.1111111111111111, \"#46039f\"], [0.2222222222222222, \"#7201a8\"], [0.3333333333333333, \"#9c179e\"], [0.4444444444444444, \"#bd3786\"], [0.5555555555555556, \"#d8576b\"], [0.6666666666666666, \"#ed7953\"], [0.7777777777777778, \"#fb9f3a\"], [0.8888888888888888, \"#fdca26\"], [1.0, \"#f0f921\"]], \"type\": \"heatmap\"}], \"heatmapgl\": [{\"colorbar\": {\"outlinewidth\": 0, \"ticks\": \"\"}, \"colorscale\": [[0.0, \"#0d0887\"], [0.1111111111111111, \"#46039f\"], [0.2222222222222222, \"#7201a8\"], [0.3333333333333333, \"#9c179e\"], [0.4444444444444444, \"#bd3786\"], [0.5555555555555556, \"#d8576b\"], [0.6666666666666666, \"#ed7953\"], [0.7777777777777778, \"#fb9f3a\"], [0.8888888888888888, \"#fdca26\"], [1.0, \"#f0f921\"]], \"type\": \"heatmapgl\"}], \"histogram\": [{\"marker\": {\"colorbar\": {\"outlinewidth\": 0, \"ticks\": \"\"}}, \"type\": \"histogram\"}], \"histogram2d\": [{\"colorbar\": {\"outlinewidth\": 0, \"ticks\": \"\"}, \"colorscale\": [[0.0, \"#0d0887\"], [0.1111111111111111, \"#46039f\"], [0.2222222222222222, \"#7201a8\"], [0.3333333333333333, \"#9c179e\"], [0.4444444444444444, \"#bd3786\"], [0.5555555555555556, \"#d8576b\"], [0.6666666666666666, \"#ed7953\"], [0.7777777777777778, \"#fb9f3a\"], [0.8888888888888888, \"#fdca26\"], [1.0, \"#f0f921\"]], \"type\": \"histogram2d\"}], \"histogram2dcontour\": [{\"colorbar\": {\"outlinewidth\": 0, \"ticks\": \"\"}, \"colorscale\": [[0.0, \"#0d0887\"], [0.1111111111111111, \"#46039f\"], [0.2222222222222222, \"#7201a8\"], [0.3333333333333333, \"#9c179e\"], [0.4444444444444444, \"#bd3786\"], [0.5555555555555556, \"#d8576b\"], [0.6666666666666666, \"#ed7953\"], [0.7777777777777778, \"#fb9f3a\"], [0.8888888888888888, \"#fdca26\"], [1.0, \"#f0f921\"]], \"type\": \"histogram2dcontour\"}], \"mesh3d\": [{\"colorbar\": {\"outlinewidth\": 0, \"ticks\": \"\"}, \"type\": \"mesh3d\"}], \"parcoords\": [{\"line\": {\"colorbar\": {\"outlinewidth\": 0, \"ticks\": \"\"}}, \"type\": \"parcoords\"}], \"pie\": [{\"automargin\": true, \"type\": \"pie\"}], \"scatter\": [{\"marker\": {\"colorbar\": {\"outlinewidth\": 0, \"ticks\": \"\"}}, \"type\": \"scatter\"}], \"scatter3d\": [{\"line\": {\"colorbar\": {\"outlinewidth\": 0, \"ticks\": \"\"}}, \"marker\": {\"colorbar\": {\"outlinewidth\": 0, \"ticks\": \"\"}}, \"type\": \"scatter3d\"}], \"scattercarpet\": [{\"marker\": {\"colorbar\": {\"outlinewidth\": 0, \"ticks\": \"\"}}, \"type\": \"scattercarpet\"}], \"scattergeo\": [{\"marker\": {\"colorbar\": {\"outlinewidth\": 0, \"ticks\": \"\"}}, \"type\": \"scattergeo\"}], \"scattergl\": [{\"marker\": {\"colorbar\": {\"outlinewidth\": 0, \"ticks\": \"\"}}, \"type\": \"scattergl\"}], \"scattermapbox\": [{\"marker\": {\"colorbar\": {\"outlinewidth\": 0, \"ticks\": \"\"}}, \"type\": \"scattermapbox\"}], \"scatterpolar\": [{\"marker\": {\"colorbar\": {\"outlinewidth\": 0, \"ticks\": \"\"}}, \"type\": \"scatterpolar\"}], \"scatterpolargl\": [{\"marker\": {\"colorbar\": {\"outlinewidth\": 0, \"ticks\": \"\"}}, \"type\": \"scatterpolargl\"}], \"scatterternary\": [{\"marker\": {\"colorbar\": {\"outlinewidth\": 0, \"ticks\": \"\"}}, \"type\": \"scatterternary\"}], \"surface\": [{\"colorbar\": {\"outlinewidth\": 0, \"ticks\": \"\"}, \"colorscale\": [[0.0, \"#0d0887\"], [0.1111111111111111, \"#46039f\"], [0.2222222222222222, \"#7201a8\"], [0.3333333333333333, \"#9c179e\"], [0.4444444444444444, \"#bd3786\"], [0.5555555555555556, \"#d8576b\"], [0.6666666666666666, \"#ed7953\"], [0.7777777777777778, \"#fb9f3a\"], [0.8888888888888888, \"#fdca26\"], [1.0, \"#f0f921\"]], \"type\": \"surface\"}], \"table\": [{\"cells\": {\"fill\": {\"color\": \"#EBF0F8\"}, \"line\": {\"color\": \"white\"}}, \"header\": {\"fill\": {\"color\": \"#C8D4E3\"}, \"line\": {\"color\": \"white\"}}, \"type\": \"table\"}]}, \"layout\": {\"annotationdefaults\": {\"arrowcolor\": \"#2a3f5f\", \"arrowhead\": 0, \"arrowwidth\": 1}, \"coloraxis\": {\"colorbar\": {\"outlinewidth\": 0, \"ticks\": \"\"}}, \"colorscale\": {\"diverging\": [[0, \"#8e0152\"], [0.1, \"#c51b7d\"], [0.2, \"#de77ae\"], [0.3, \"#f1b6da\"], [0.4, \"#fde0ef\"], [0.5, \"#f7f7f7\"], [0.6, \"#e6f5d0\"], [0.7, \"#b8e186\"], [0.8, \"#7fbc41\"], [0.9, \"#4d9221\"], [1, \"#276419\"]], \"sequential\": [[0.0, \"#0d0887\"], [0.1111111111111111, \"#46039f\"], [0.2222222222222222, \"#7201a8\"], [0.3333333333333333, \"#9c179e\"], [0.4444444444444444, \"#bd3786\"], [0.5555555555555556, \"#d8576b\"], [0.6666666666666666, \"#ed7953\"], [0.7777777777777778, \"#fb9f3a\"], [0.8888888888888888, \"#fdca26\"], [1.0, \"#f0f921\"]], \"sequentialminus\": [[0.0, \"#0d0887\"], [0.1111111111111111, \"#46039f\"], [0.2222222222222222, \"#7201a8\"], [0.3333333333333333, \"#9c179e\"], [0.4444444444444444, \"#bd3786\"], [0.5555555555555556, \"#d8576b\"], [0.6666666666666666, \"#ed7953\"], [0.7777777777777778, \"#fb9f3a\"], [0.8888888888888888, \"#fdca26\"], [1.0, \"#f0f921\"]]}, \"colorway\": [\"#636efa\", \"#EF553B\", \"#00cc96\", \"#ab63fa\", \"#FFA15A\", \"#19d3f3\", \"#FF6692\", \"#B6E880\", \"#FF97FF\", \"#FECB52\"], \"font\": {\"color\": \"#2a3f5f\"}, \"geo\": {\"bgcolor\": \"white\", \"lakecolor\": \"white\", \"landcolor\": \"#E5ECF6\", \"showlakes\": true, \"showland\": true, \"subunitcolor\": \"white\"}, \"hoverlabel\": {\"align\": \"left\"}, \"hovermode\": \"closest\", \"mapbox\": {\"style\": \"light\"}, \"paper_bgcolor\": \"white\", \"plot_bgcolor\": \"#E5ECF6\", \"polar\": {\"angularaxis\": {\"gridcolor\": \"white\", \"linecolor\": \"white\", \"ticks\": \"\"}, \"bgcolor\": \"#E5ECF6\", \"radialaxis\": {\"gridcolor\": \"white\", \"linecolor\": \"white\", \"ticks\": \"\"}}, \"scene\": {\"xaxis\": {\"backgroundcolor\": \"#E5ECF6\", \"gridcolor\": \"white\", \"gridwidth\": 2, \"linecolor\": \"white\", \"showbackground\": true, \"ticks\": \"\", \"zerolinecolor\": \"white\"}, \"yaxis\": {\"backgroundcolor\": \"#E5ECF6\", \"gridcolor\": \"white\", \"gridwidth\": 2, \"linecolor\": \"white\", \"showbackground\": true, \"ticks\": \"\", \"zerolinecolor\": \"white\"}, \"zaxis\": {\"backgroundcolor\": \"#E5ECF6\", \"gridcolor\": \"white\", \"gridwidth\": 2, \"linecolor\": \"white\", \"showbackground\": true, \"ticks\": \"\", \"zerolinecolor\": \"white\"}}, \"shapedefaults\": {\"line\": {\"color\": \"#2a3f5f\"}}, \"ternary\": {\"aaxis\": {\"gridcolor\": \"white\", \"linecolor\": \"white\", \"ticks\": \"\"}, \"baxis\": {\"gridcolor\": \"white\", \"linecolor\": \"white\", \"ticks\": \"\"}, \"bgcolor\": \"#E5ECF6\", \"caxis\": {\"gridcolor\": \"white\", \"linecolor\": \"white\", \"ticks\": \"\"}}, \"title\": {\"x\": 0.05}, \"xaxis\": {\"automargin\": true, \"gridcolor\": \"white\", \"linecolor\": \"white\", \"ticks\": \"\", \"title\": {\"standoff\": 15}, \"zerolinecolor\": \"white\", \"zerolinewidth\": 2}, \"yaxis\": {\"automargin\": true, \"gridcolor\": \"white\", \"linecolor\": \"white\", \"ticks\": \"\", \"title\": {\"standoff\": 15}, \"zerolinecolor\": \"white\", \"zerolinewidth\": 2}}}, \"width\": 400, \"xaxis\": {\"title\": {\"text\": \"Epoch\"}}, \"yaxis\": {\"title\": {\"text\": \"MAE\"}}},\n",
              "                        {\"responsive\": true}\n",
              "                    ).then(function(){\n",
              "                            \n",
              "var gd = document.getElementById('7d1f0312-6329-4601-84e8-d4ca99222ddc');\n",
              "var x = new MutationObserver(function (mutations, observer) {{\n",
              "        var display = window.getComputedStyle(gd).display;\n",
              "        if (!display || display === 'none') {{\n",
              "            console.log([gd, 'removed!']);\n",
              "            Plotly.purge(gd);\n",
              "            observer.disconnect();\n",
              "        }}\n",
              "}});\n",
              "\n",
              "// Listen for the removal of the full notebook cells\n",
              "var notebookContainer = gd.closest('#notebook-container');\n",
              "if (notebookContainer) {{\n",
              "    x.observe(notebookContainer, {childList: true});\n",
              "}}\n",
              "\n",
              "// Listen for the clearing of the current output cell\n",
              "var outputEl = gd.closest('.output');\n",
              "if (outputEl) {{\n",
              "    x.observe(outputEl, {childList: true});\n",
              "}}\n",
              "\n",
              "                        })\n",
              "                };\n",
              "                \n",
              "            </script>\n",
              "        </div>\n",
              "</body>\n",
              "</html>"
            ]
          },
          "metadata": {
            "tags": []
          }
        },
        {
          "output_type": "display_data",
          "data": {
            "text/html": [
              "<html>\n",
              "<head><meta charset=\"utf-8\" /></head>\n",
              "<body>\n",
              "    <div>\n",
              "            <script src=\"https://cdnjs.cloudflare.com/ajax/libs/mathjax/2.7.5/MathJax.js?config=TeX-AMS-MML_SVG\"></script><script type=\"text/javascript\">if (window.MathJax) {MathJax.Hub.Config({SVG: {font: \"STIX-Web\"}});}</script>\n",
              "                <script type=\"text/javascript\">window.PlotlyConfig = {MathJaxConfig: 'local'};</script>\n",
              "        <script src=\"https://cdn.plot.ly/plotly-latest.min.js\"></script>    \n",
              "            <div id=\"a21628a8-77a0-407f-83ba-1e10a68becc3\" class=\"plotly-graph-div\" style=\"height:300px; width:400px;\"></div>\n",
              "            <script type=\"text/javascript\">\n",
              "                \n",
              "                    window.PLOTLYENV=window.PLOTLYENV || {};\n",
              "                    \n",
              "                if (document.getElementById(\"a21628a8-77a0-407f-83ba-1e10a68becc3\")) {\n",
              "                    Plotly.newPlot(\n",
              "                        'a21628a8-77a0-407f-83ba-1e10a68becc3',\n",
              "                        [{\"name\": \"Train\", \"type\": \"scattergl\", \"y\": [0.2236585170030594, 0.17265763878822327, 0.13583044707775116, 0.10339511930942535, 0.07792722433805466, 0.06261853873729706, 0.057368796318769455, 0.058313366025686264, 0.059053290635347366, 0.056997574865818024, 0.05280635878443718, 0.04856211692094803]}, {\"name\": \"Valid\", \"type\": \"scattergl\", \"y\": [0.18626286089420319, 0.1492854356765747, 0.11659742891788483, 0.09027203917503357, 0.07297923415899277, 0.06585054844617844, 0.06613083183765411, 0.06798113137483597, 0.06774833798408508, 0.06563814729452133, 0.06310373544692993, 0.061415210366249084]}],\n",
              "                        {\"height\": 300, \"template\": {\"data\": {\"bar\": [{\"error_x\": {\"color\": \"#2a3f5f\"}, \"error_y\": {\"color\": \"#2a3f5f\"}, \"marker\": {\"line\": {\"color\": \"#E5ECF6\", \"width\": 0.5}}, \"type\": \"bar\"}], \"barpolar\": [{\"marker\": {\"line\": {\"color\": \"#E5ECF6\", \"width\": 0.5}}, \"type\": \"barpolar\"}], \"carpet\": [{\"aaxis\": {\"endlinecolor\": \"#2a3f5f\", \"gridcolor\": \"white\", \"linecolor\": \"white\", \"minorgridcolor\": \"white\", \"startlinecolor\": \"#2a3f5f\"}, \"baxis\": {\"endlinecolor\": \"#2a3f5f\", \"gridcolor\": \"white\", \"linecolor\": \"white\", \"minorgridcolor\": \"white\", \"startlinecolor\": \"#2a3f5f\"}, \"type\": \"carpet\"}], \"choropleth\": [{\"colorbar\": {\"outlinewidth\": 0, \"ticks\": \"\"}, \"type\": \"choropleth\"}], \"contour\": [{\"colorbar\": {\"outlinewidth\": 0, \"ticks\": \"\"}, \"colorscale\": [[0.0, \"#0d0887\"], [0.1111111111111111, \"#46039f\"], [0.2222222222222222, \"#7201a8\"], [0.3333333333333333, \"#9c179e\"], [0.4444444444444444, \"#bd3786\"], [0.5555555555555556, \"#d8576b\"], [0.6666666666666666, \"#ed7953\"], [0.7777777777777778, \"#fb9f3a\"], [0.8888888888888888, \"#fdca26\"], [1.0, \"#f0f921\"]], \"type\": \"contour\"}], \"contourcarpet\": [{\"colorbar\": {\"outlinewidth\": 0, \"ticks\": \"\"}, \"type\": \"contourcarpet\"}], \"heatmap\": [{\"colorbar\": {\"outlinewidth\": 0, \"ticks\": \"\"}, \"colorscale\": [[0.0, \"#0d0887\"], [0.1111111111111111, \"#46039f\"], [0.2222222222222222, \"#7201a8\"], [0.3333333333333333, \"#9c179e\"], [0.4444444444444444, \"#bd3786\"], [0.5555555555555556, \"#d8576b\"], [0.6666666666666666, \"#ed7953\"], [0.7777777777777778, \"#fb9f3a\"], [0.8888888888888888, \"#fdca26\"], [1.0, \"#f0f921\"]], \"type\": \"heatmap\"}], \"heatmapgl\": [{\"colorbar\": {\"outlinewidth\": 0, \"ticks\": \"\"}, \"colorscale\": [[0.0, \"#0d0887\"], [0.1111111111111111, \"#46039f\"], [0.2222222222222222, \"#7201a8\"], [0.3333333333333333, \"#9c179e\"], [0.4444444444444444, \"#bd3786\"], [0.5555555555555556, \"#d8576b\"], [0.6666666666666666, \"#ed7953\"], [0.7777777777777778, \"#fb9f3a\"], [0.8888888888888888, \"#fdca26\"], [1.0, \"#f0f921\"]], \"type\": \"heatmapgl\"}], \"histogram\": [{\"marker\": {\"colorbar\": {\"outlinewidth\": 0, \"ticks\": \"\"}}, \"type\": \"histogram\"}], \"histogram2d\": [{\"colorbar\": {\"outlinewidth\": 0, \"ticks\": \"\"}, \"colorscale\": [[0.0, \"#0d0887\"], [0.1111111111111111, \"#46039f\"], [0.2222222222222222, \"#7201a8\"], [0.3333333333333333, \"#9c179e\"], [0.4444444444444444, \"#bd3786\"], [0.5555555555555556, \"#d8576b\"], [0.6666666666666666, \"#ed7953\"], [0.7777777777777778, \"#fb9f3a\"], [0.8888888888888888, \"#fdca26\"], [1.0, \"#f0f921\"]], \"type\": \"histogram2d\"}], \"histogram2dcontour\": [{\"colorbar\": {\"outlinewidth\": 0, \"ticks\": \"\"}, \"colorscale\": [[0.0, \"#0d0887\"], [0.1111111111111111, \"#46039f\"], [0.2222222222222222, \"#7201a8\"], [0.3333333333333333, \"#9c179e\"], [0.4444444444444444, \"#bd3786\"], [0.5555555555555556, \"#d8576b\"], [0.6666666666666666, \"#ed7953\"], [0.7777777777777778, \"#fb9f3a\"], [0.8888888888888888, \"#fdca26\"], [1.0, \"#f0f921\"]], \"type\": \"histogram2dcontour\"}], \"mesh3d\": [{\"colorbar\": {\"outlinewidth\": 0, \"ticks\": \"\"}, \"type\": \"mesh3d\"}], \"parcoords\": [{\"line\": {\"colorbar\": {\"outlinewidth\": 0, \"ticks\": \"\"}}, \"type\": \"parcoords\"}], \"pie\": [{\"automargin\": true, \"type\": \"pie\"}], \"scatter\": [{\"marker\": {\"colorbar\": {\"outlinewidth\": 0, \"ticks\": \"\"}}, \"type\": \"scatter\"}], \"scatter3d\": [{\"line\": {\"colorbar\": {\"outlinewidth\": 0, \"ticks\": \"\"}}, \"marker\": {\"colorbar\": {\"outlinewidth\": 0, \"ticks\": \"\"}}, \"type\": \"scatter3d\"}], \"scattercarpet\": [{\"marker\": {\"colorbar\": {\"outlinewidth\": 0, \"ticks\": \"\"}}, \"type\": \"scattercarpet\"}], \"scattergeo\": [{\"marker\": {\"colorbar\": {\"outlinewidth\": 0, \"ticks\": \"\"}}, \"type\": \"scattergeo\"}], \"scattergl\": [{\"marker\": {\"colorbar\": {\"outlinewidth\": 0, \"ticks\": \"\"}}, \"type\": \"scattergl\"}], \"scattermapbox\": [{\"marker\": {\"colorbar\": {\"outlinewidth\": 0, \"ticks\": \"\"}}, \"type\": \"scattermapbox\"}], \"scatterpolar\": [{\"marker\": {\"colorbar\": {\"outlinewidth\": 0, \"ticks\": \"\"}}, \"type\": \"scatterpolar\"}], \"scatterpolargl\": [{\"marker\": {\"colorbar\": {\"outlinewidth\": 0, \"ticks\": \"\"}}, \"type\": \"scatterpolargl\"}], \"scatterternary\": [{\"marker\": {\"colorbar\": {\"outlinewidth\": 0, \"ticks\": \"\"}}, \"type\": \"scatterternary\"}], \"surface\": [{\"colorbar\": {\"outlinewidth\": 0, \"ticks\": \"\"}, \"colorscale\": [[0.0, \"#0d0887\"], [0.1111111111111111, \"#46039f\"], [0.2222222222222222, \"#7201a8\"], [0.3333333333333333, \"#9c179e\"], [0.4444444444444444, \"#bd3786\"], [0.5555555555555556, \"#d8576b\"], [0.6666666666666666, \"#ed7953\"], [0.7777777777777778, \"#fb9f3a\"], [0.8888888888888888, \"#fdca26\"], [1.0, \"#f0f921\"]], \"type\": \"surface\"}], \"table\": [{\"cells\": {\"fill\": {\"color\": \"#EBF0F8\"}, \"line\": {\"color\": \"white\"}}, \"header\": {\"fill\": {\"color\": \"#C8D4E3\"}, \"line\": {\"color\": \"white\"}}, \"type\": \"table\"}]}, \"layout\": {\"annotationdefaults\": {\"arrowcolor\": \"#2a3f5f\", \"arrowhead\": 0, \"arrowwidth\": 1}, \"coloraxis\": {\"colorbar\": {\"outlinewidth\": 0, \"ticks\": \"\"}}, \"colorscale\": {\"diverging\": [[0, \"#8e0152\"], [0.1, \"#c51b7d\"], [0.2, \"#de77ae\"], [0.3, \"#f1b6da\"], [0.4, \"#fde0ef\"], [0.5, \"#f7f7f7\"], [0.6, \"#e6f5d0\"], [0.7, \"#b8e186\"], [0.8, \"#7fbc41\"], [0.9, \"#4d9221\"], [1, \"#276419\"]], \"sequential\": [[0.0, \"#0d0887\"], [0.1111111111111111, \"#46039f\"], [0.2222222222222222, \"#7201a8\"], [0.3333333333333333, \"#9c179e\"], [0.4444444444444444, \"#bd3786\"], [0.5555555555555556, \"#d8576b\"], [0.6666666666666666, \"#ed7953\"], [0.7777777777777778, \"#fb9f3a\"], [0.8888888888888888, \"#fdca26\"], [1.0, \"#f0f921\"]], \"sequentialminus\": [[0.0, \"#0d0887\"], [0.1111111111111111, \"#46039f\"], [0.2222222222222222, \"#7201a8\"], [0.3333333333333333, \"#9c179e\"], [0.4444444444444444, \"#bd3786\"], [0.5555555555555556, \"#d8576b\"], [0.6666666666666666, \"#ed7953\"], [0.7777777777777778, \"#fb9f3a\"], [0.8888888888888888, \"#fdca26\"], [1.0, \"#f0f921\"]]}, \"colorway\": [\"#636efa\", \"#EF553B\", \"#00cc96\", \"#ab63fa\", \"#FFA15A\", \"#19d3f3\", \"#FF6692\", \"#B6E880\", \"#FF97FF\", \"#FECB52\"], \"font\": {\"color\": \"#2a3f5f\"}, \"geo\": {\"bgcolor\": \"white\", \"lakecolor\": \"white\", \"landcolor\": \"#E5ECF6\", \"showlakes\": true, \"showland\": true, \"subunitcolor\": \"white\"}, \"hoverlabel\": {\"align\": \"left\"}, \"hovermode\": \"closest\", \"mapbox\": {\"style\": \"light\"}, \"paper_bgcolor\": \"white\", \"plot_bgcolor\": \"#E5ECF6\", \"polar\": {\"angularaxis\": {\"gridcolor\": \"white\", \"linecolor\": \"white\", \"ticks\": \"\"}, \"bgcolor\": \"#E5ECF6\", \"radialaxis\": {\"gridcolor\": \"white\", \"linecolor\": \"white\", \"ticks\": \"\"}}, \"scene\": {\"xaxis\": {\"backgroundcolor\": \"#E5ECF6\", \"gridcolor\": \"white\", \"gridwidth\": 2, \"linecolor\": \"white\", \"showbackground\": true, \"ticks\": \"\", \"zerolinecolor\": \"white\"}, \"yaxis\": {\"backgroundcolor\": \"#E5ECF6\", \"gridcolor\": \"white\", \"gridwidth\": 2, \"linecolor\": \"white\", \"showbackground\": true, \"ticks\": \"\", \"zerolinecolor\": \"white\"}, \"zaxis\": {\"backgroundcolor\": \"#E5ECF6\", \"gridcolor\": \"white\", \"gridwidth\": 2, \"linecolor\": \"white\", \"showbackground\": true, \"ticks\": \"\", \"zerolinecolor\": \"white\"}}, \"shapedefaults\": {\"line\": {\"color\": \"#2a3f5f\"}}, \"ternary\": {\"aaxis\": {\"gridcolor\": \"white\", \"linecolor\": \"white\", \"ticks\": \"\"}, \"baxis\": {\"gridcolor\": \"white\", \"linecolor\": \"white\", \"ticks\": \"\"}, \"bgcolor\": \"#E5ECF6\", \"caxis\": {\"gridcolor\": \"white\", \"linecolor\": \"white\", \"ticks\": \"\"}}, \"title\": {\"x\": 0.05}, \"xaxis\": {\"automargin\": true, \"gridcolor\": \"white\", \"linecolor\": \"white\", \"ticks\": \"\", \"title\": {\"standoff\": 15}, \"zerolinecolor\": \"white\", \"zerolinewidth\": 2}, \"yaxis\": {\"automargin\": true, \"gridcolor\": \"white\", \"linecolor\": \"white\", \"ticks\": \"\", \"title\": {\"standoff\": 15}, \"zerolinecolor\": \"white\", \"zerolinewidth\": 2}}}, \"width\": 400, \"xaxis\": {\"title\": {\"text\": \"Epoch\"}}, \"yaxis\": {\"title\": {\"text\": \"Loss\"}}},\n",
              "                        {\"responsive\": true}\n",
              "                    ).then(function(){\n",
              "                            \n",
              "var gd = document.getElementById('a21628a8-77a0-407f-83ba-1e10a68becc3');\n",
              "var x = new MutationObserver(function (mutations, observer) {{\n",
              "        var display = window.getComputedStyle(gd).display;\n",
              "        if (!display || display === 'none') {{\n",
              "            console.log([gd, 'removed!']);\n",
              "            Plotly.purge(gd);\n",
              "            observer.disconnect();\n",
              "        }}\n",
              "}});\n",
              "\n",
              "// Listen for the removal of the full notebook cells\n",
              "var notebookContainer = gd.closest('#notebook-container');\n",
              "if (notebookContainer) {{\n",
              "    x.observe(notebookContainer, {childList: true});\n",
              "}}\n",
              "\n",
              "// Listen for the clearing of the current output cell\n",
              "var outputEl = gd.closest('.output');\n",
              "if (outputEl) {{\n",
              "    x.observe(outputEl, {childList: true});\n",
              "}}\n",
              "\n",
              "                        })\n",
              "                };\n",
              "                \n",
              "            </script>\n",
              "        </div>\n",
              "</body>\n",
              "</html>"
            ]
          },
          "metadata": {
            "tags": []
          }
        }
      ]
    },
    {
      "cell_type": "code",
      "metadata": {
        "id": "fb5wUKoemgWV"
      },
      "source": [
        "\r\n",
        "\r\n",
        "\r\n"
      ],
      "execution_count": null,
      "outputs": []
    },
    {
      "cell_type": "markdown",
      "metadata": {
        "id": "kHCMRQkfmhQZ"
      },
      "source": [
        "#### Sanity Check"
      ]
    },
    {
      "cell_type": "code",
      "metadata": {
        "id": "iE86-B31mkPS"
      },
      "source": [
        "y_pred_test = model.predict(x_test2).flatten()"
      ],
      "execution_count": null,
      "outputs": []
    },
    {
      "cell_type": "code",
      "metadata": {
        "colab": {
          "base_uri": "https://localhost:8080/",
          "height": 407
        },
        "id": "VeeWdjunpWTe",
        "outputId": "baf27432-f4e2-4aea-b6fa-a33e52c26e40"
      },
      "source": [
        "pd_res=pd.DataFrame({'y_test':y_test[:,0], 'pred':y_pred_test})\r\n",
        "pd_res"
      ],
      "execution_count": null,
      "outputs": [
        {
          "output_type": "execute_result",
          "data": {
            "text/html": [
              "<div>\n",
              "<style scoped>\n",
              "    .dataframe tbody tr th:only-of-type {\n",
              "        vertical-align: middle;\n",
              "    }\n",
              "\n",
              "    .dataframe tbody tr th {\n",
              "        vertical-align: top;\n",
              "    }\n",
              "\n",
              "    .dataframe thead th {\n",
              "        text-align: right;\n",
              "    }\n",
              "</style>\n",
              "<table border=\"1\" class=\"dataframe\">\n",
              "  <thead>\n",
              "    <tr style=\"text-align: right;\">\n",
              "      <th></th>\n",
              "      <th>y_test</th>\n",
              "      <th>pred</th>\n",
              "    </tr>\n",
              "  </thead>\n",
              "  <tbody>\n",
              "    <tr>\n",
              "      <th>0</th>\n",
              "      <td>0.729925</td>\n",
              "      <td>0.420458</td>\n",
              "    </tr>\n",
              "    <tr>\n",
              "      <th>1</th>\n",
              "      <td>0.510945</td>\n",
              "      <td>0.420458</td>\n",
              "    </tr>\n",
              "    <tr>\n",
              "      <th>2</th>\n",
              "      <td>0.875912</td>\n",
              "      <td>0.298315</td>\n",
              "    </tr>\n",
              "    <tr>\n",
              "      <th>3</th>\n",
              "      <td>0.291966</td>\n",
              "      <td>0.524523</td>\n",
              "    </tr>\n",
              "    <tr>\n",
              "      <th>4</th>\n",
              "      <td>0.569340</td>\n",
              "      <td>0.438927</td>\n",
              "    </tr>\n",
              "    <tr>\n",
              "      <th>...</th>\n",
              "      <td>...</td>\n",
              "      <td>...</td>\n",
              "    </tr>\n",
              "    <tr>\n",
              "      <th>892</th>\n",
              "      <td>0.489047</td>\n",
              "      <td>0.567818</td>\n",
              "    </tr>\n",
              "    <tr>\n",
              "      <th>893</th>\n",
              "      <td>0.207907</td>\n",
              "      <td>0.302805</td>\n",
              "    </tr>\n",
              "    <tr>\n",
              "      <th>894</th>\n",
              "      <td>0.510945</td>\n",
              "      <td>0.462731</td>\n",
              "    </tr>\n",
              "    <tr>\n",
              "      <th>895</th>\n",
              "      <td>0.000723</td>\n",
              "      <td>0.581868</td>\n",
              "    </tr>\n",
              "    <tr>\n",
              "      <th>896</th>\n",
              "      <td>0.328462</td>\n",
              "      <td>0.524523</td>\n",
              "    </tr>\n",
              "  </tbody>\n",
              "</table>\n",
              "<p>897 rows × 2 columns</p>\n",
              "</div>"
            ],
            "text/plain": [
              "       y_test      pred\n",
              "0    0.729925  0.420458\n",
              "1    0.510945  0.420458\n",
              "2    0.875912  0.298315\n",
              "3    0.291966  0.524523\n",
              "4    0.569340  0.438927\n",
              "..        ...       ...\n",
              "892  0.489047  0.567818\n",
              "893  0.207907  0.302805\n",
              "894  0.510945  0.462731\n",
              "895  0.000723  0.581868\n",
              "896  0.328462  0.524523\n",
              "\n",
              "[897 rows x 2 columns]"
            ]
          },
          "metadata": {
            "tags": []
          },
          "execution_count": 125
        }
      ]
    },
    {
      "cell_type": "code",
      "metadata": {
        "id": "AJuGRyUeprK7"
      },
      "source": [
        ""
      ],
      "execution_count": null,
      "outputs": []
    },
    {
      "cell_type": "markdown",
      "metadata": {
        "id": "HdAlAQb0pwQE"
      },
      "source": [
        "<h3>Comparison with the baseline</h3>"
      ]
    },
    {
      "cell_type": "code",
      "metadata": {
        "colab": {
          "base_uri": "https://localhost:8080/"
        },
        "id": "w5OrBnIXpzQL",
        "outputId": "2b773c5f-0d5a-4d7c-c5ca-6be843fe574e"
      },
      "source": [
        "# base line (MAE)\r\n",
        "print(abs(y_test - y_test.mean()).mean())\r\n",
        "\r\n",
        "# embedding\r\n",
        "print(abs(y_test - y_pred_test).mean())"
      ],
      "execution_count": null,
      "outputs": [
        {
          "output_type": "stream",
          "text": [
            "0.1693384318266124\n",
            "0.19259571227489788\n"
          ],
          "name": "stdout"
        }
      ]
    },
    {
      "cell_type": "code",
      "metadata": {
        "id": "sxxGjeuyp3gS"
      },
      "source": [
        "\r\n",
        "\r\n",
        "\r\n"
      ],
      "execution_count": null,
      "outputs": []
    },
    {
      "cell_type": "markdown",
      "metadata": {
        "id": "tZ3-AO2Vp7U7"
      },
      "source": [
        "<h3>Analyzing the results</h3>"
      ]
    },
    {
      "cell_type": "code",
      "metadata": {
        "colab": {
          "base_uri": "https://localhost:8080/",
          "height": 581
        },
        "id": "gBsvCL2Hp6u7",
        "outputId": "5d3d4ea0-216c-47dd-ada9-18bf377458c7"
      },
      "source": [
        "todf(y_test).hist(range=(0, 1))\r\n",
        "todf(y_pred_test).hist(range=(0, 1))"
      ],
      "execution_count": null,
      "outputs": [
        {
          "output_type": "execute_result",
          "data": {
            "text/plain": [
              "array([[<matplotlib.axes._subplots.AxesSubplot object at 0x7fcab73d12e8>]],\n",
              "      dtype=object)"
            ]
          },
          "metadata": {
            "tags": []
          },
          "execution_count": 127
        },
        {
          "output_type": "display_data",
          "data": {
            "image/png": "[encoded data removed]",
            "text/plain": [
              "<Figure size 432x288 with 1 Axes>"
            ]
          },
          "metadata": {
            "tags": [],
            "needs_background": "light"
          }
        },
        {
          "output_type": "display_data",
          "data": {
            "image/png": "[encoded data removed]",
            "text/plain": [
              "<Figure size 432x288 with 1 Axes>"
            ]
          },
          "metadata": {
            "tags": [],
            "needs_background": "light"
          }
        }
      ]
    },
    {
      "cell_type": "code",
      "metadata": {
        "id": "f666E9PzqEwD"
      },
      "source": [
        "\r\n",
        "\r\n",
        "\r\n"
      ],
      "execution_count": null,
      "outputs": []
    },
    {
      "cell_type": "markdown",
      "metadata": {
        "id": "OurY4MlvqK4Y"
      },
      "source": [
        "<h3>Analyzing the output distributions</h3>"
      ]
    },
    {
      "cell_type": "code",
      "metadata": {
        "colab": {
          "base_uri": "https://localhost:8080/",
          "height": 283
        },
        "id": "SbjkPoltqPn5",
        "outputId": "3f2aa1e5-8fce-4ff1-82ce-958824a1d4d6"
      },
      "source": [
        "a = plt.axes(aspect='equal')\r\n",
        "\r\n",
        "plt.scatter(y_test, np.repeat(y_test.mean(), len(y_test)))\r\n",
        "plt.xlabel('True Values ')\r\n",
        "plt.ylabel('Predictions ')\r\n",
        "lims = [-1, 1]\r\n",
        "plt.xlim(lims)\r\n",
        "plt.ylim(lims)\r\n",
        "_ = plt.plot(lims, lims)"
      ],
      "execution_count": null,
      "outputs": [
        {
          "output_type": "display_data",
          "data": {
            "image/png": "[encoded data removed]",
            "text/plain": [
              "<Figure size 432x288 with 1 Axes>"
            ]
          },
          "metadata": {
            "tags": [],
            "needs_background": "light"
          }
        }
      ]
    },
    {
      "cell_type": "code",
      "metadata": {
        "colab": {
          "base_uri": "https://localhost:8080/",
          "height": 283
        },
        "id": "1v98rK_tqSq6",
        "outputId": "2bb7f267-d58c-4263-b6ef-ba306c993129"
      },
      "source": [
        "a = plt.axes(aspect='equal')\r\n",
        "plt.scatter(y_test, y_pred_test)\r\n",
        "plt.xlabel('True Values ')\r\n",
        "plt.ylabel('Predictions ')\r\n",
        "lims = [-1, 1]\r\n",
        "plt.xlim(lims)\r\n",
        "plt.ylim(lims)\r\n",
        "_ = plt.plot(lims, lims)"
      ],
      "execution_count": null,
      "outputs": [
        {
          "output_type": "display_data",
          "data": {
            "image/png": "[encoded data removed]",
            "text/plain": [
              "<Figure size 432x288 with 1 Axes>"
            ]
          },
          "metadata": {
            "tags": [],
            "needs_background": "light"
          }
        }
      ]
    },
    {
      "cell_type": "code",
      "metadata": {
        "id": "SqPVYIfdqcOK"
      },
      "source": [
        "\r\n",
        "\r\n",
        "\r\n"
      ],
      "execution_count": null,
      "outputs": []
    },
    {
      "cell_type": "markdown",
      "metadata": {
        "id": "vnYfPaBLqdNc"
      },
      "source": [
        "#### Insights"
      ]
    },
    {
      "cell_type": "markdown",
      "metadata": {
        "id": "h5IIQSO1qgez"
      },
      "source": [
        "With this architecture, the performance is similar to the baseline. Also, using embeddings and 'Universidad' as input, i get a better performance than using 'Trabajo de'. Also, the embedding approach is much better than using the one hot encoding approach, because both input variables are high cardinality variables."
      ]
    }
  ]
}