{
  "nbformat": 4,
  "nbformat_minor": 0,
  "metadata": {
    "colab": {
      "name": "02-mixed-data-types-embeddings-learning-rate.ipynb",
      "provenance": [],
      "collapsed_sections": []
    },
    "kernelspec": {
      "name": "python3",
      "display_name": "Python 3"
    }
  },
  "cells": [
    {
      "cell_type": "markdown",
      "metadata": {
        "id": "bKI5Ag8E-yAs"
      },
      "source": [
        "## Mixed data types, embeddings and learning rating schedule"
      ]
    },
    {
      "cell_type": "markdown",
      "metadata": {
        "id": "527oyofP-8Qr"
      },
      "source": [
        "### Mounting drive, libraries loading and defining functions"
      ]
    },
    {
      "cell_type": "code",
      "metadata": {
        "colab": {
          "base_uri": "https://localhost:8080/"
        },
        "id": "jaCIGLd8-4bo",
        "outputId": "a7d16760-1b78-45ae-ca2c-20aa8ef59234"
      },
      "source": [
        "from google.colab import drive\n",
        "drive.mount('/content/drive')"
      ],
      "execution_count": 30,
      "outputs": [
        {
          "output_type": "stream",
          "text": [
            "Drive already mounted at /content/drive; to attempt to forcibly remount, call drive.mount(\"/content/drive\", force_remount=True).\n"
          ],
          "name": "stdout"
        }
      ]
    },
    {
      "cell_type": "code",
      "metadata": {
        "id": "ux7NEmft_BRi"
      },
      "source": [
        "import os\n",
        "os.chdir('/content/drive/MyDrive/Cursos/DL360 N2')"
      ],
      "execution_count": 31,
      "outputs": []
    },
    {
      "cell_type": "code",
      "metadata": {
        "id": "Hxbxh6YM_ZkI"
      },
      "source": [
        ""
      ],
      "execution_count": 31,
      "outputs": []
    },
    {
      "cell_type": "code",
      "metadata": {
        "id": "kgNBEisJ_Zm2"
      },
      "source": [
        "%%capture\n",
        "!pip install funpymodeling"
      ],
      "execution_count": 32,
      "outputs": []
    },
    {
      "cell_type": "code",
      "metadata": {
        "id": "phJ3myfHI1hM"
      },
      "source": [
        ""
      ],
      "execution_count": null,
      "outputs": []
    },
    {
      "cell_type": "code",
      "metadata": {
        "id": "fgGEFUdv_dDt"
      },
      "source": [
        "import tensorflow as tf\n",
        "from tensorflow import keras\n",
        "import numpy as np\n",
        "import matplotlib.pyplot as plt\n",
        "import pandas as pd\n",
        "from sklearn.preprocessing import MinMaxScaler,StandardScaler\n",
        "from sklearn.model_selection import train_test_split\n",
        "from sklearn.preprocessing import LabelEncoder\n",
        "\n",
        "from keras.layers import Input, Dense, Flatten, Input, Embedding, Add, Concatenate, Dropout\n",
        "from keras.models import Model\n",
        "from tensorflow.keras import regularizers\n",
        "\n",
        "from funpymodeling.exploratory import status, freq_tbl, profiling_num, cat_vars,num_vars\n",
        "from funpymodeling.data_prep import todf"
      ],
      "execution_count": 57,
      "outputs": []
    },
    {
      "cell_type": "code",
      "metadata": {
        "id": "k7Q4hpp7I1FH"
      },
      "source": [
        ""
      ],
      "execution_count": null,
      "outputs": []
    },
    {
      "cell_type": "code",
      "metadata": {
        "colab": {
          "base_uri": "https://localhost:8080/"
        },
        "id": "yvi7cMk-GW5c",
        "outputId": "dbf047bc-f419-4c3d-bb75-90415ad3f827"
      },
      "source": [
        "!pip install unidecode\n",
        "import re\n",
        "import unidecode\n",
        "\n",
        "def clear_colname(colname, remove_accent=True):\n",
        "  str_clean=re.sub(r'[^\\w\\s]','', colname).replace(\" \", \"_\").lower()\n",
        "  if(remove_accent):\n",
        "    str_clean=unidecode.unidecode(str_clean)\n",
        "    return str_clean\n",
        "\n",
        "def clean_names(data):\n",
        "  cleaned_names=[]\n",
        "  colnam=data.columns\n",
        "  for c in colnam: \n",
        "    cleaned_names.append(clear_colname(c))\n",
        "  \n",
        "  cleaned_names  \n",
        "\n",
        "  return cleaned_names"
      ],
      "execution_count": 34,
      "outputs": [
        {
          "output_type": "stream",
          "text": [
            "Requirement already satisfied: unidecode in /usr/local/lib/python3.6/dist-packages (1.2.0)\n"
          ],
          "name": "stdout"
        }
      ]
    },
    {
      "cell_type": "code",
      "metadata": {
        "id": "sH_65E82PTnp"
      },
      "source": [
        ""
      ],
      "execution_count": null,
      "outputs": []
    },
    {
      "cell_type": "code",
      "metadata": {
        "id": "aTATPwQLPTwm"
      },
      "source": [
        "from plotly.subplots import make_subplots\n",
        "import plotly.graph_objects as go\n",
        "\n",
        "def plot_all(history, metric):\n",
        "  fig1 = go.Figure()\n",
        "  fig1.add_trace(go.Scattergl(y=history.history[metric], name='Train'))\n",
        "  fig1.add_trace(go.Scattergl(y=history.history['val_'+metric], name='Valid'))\n",
        "  fig1.update_layout(height=300, width=400,xaxis_title='Epoch', yaxis_title=metric)\n",
        "\n",
        "  fig2 = go.Figure()\n",
        "  fig2.add_trace(go.Scattergl(y=history.history['loss'], name='Train'))\n",
        "  fig2.add_trace(go.Scattergl(y=history.history['val_loss'], name='Valid'))\n",
        "  fig2.update_layout(height=300, width=400,xaxis_title='Epoch', yaxis_title='Loss')\n",
        "\n",
        "  return [fig1,fig2]"
      ],
      "execution_count": 75,
      "outputs": []
    },
    {
      "cell_type": "code",
      "metadata": {
        "id": "yY6n-RAXFx_1"
      },
      "source": [
        "\n",
        "\n",
        "\n"
      ],
      "execution_count": 34,
      "outputs": []
    },
    {
      "cell_type": "markdown",
      "metadata": {
        "id": "XryBieweFyje"
      },
      "source": [
        "### Data Loading"
      ]
    },
    {
      "cell_type": "code",
      "metadata": {
        "id": "SokmS_ixF0JJ"
      },
      "source": [
        "data = pd.read_csv('data/encuesta_sysarmy_arg_2019_1.csv')\n",
        "data2 = pd.read_csv('data/encuesta_sysarmy_arg_2019_2.csv')"
      ],
      "execution_count": 35,
      "outputs": []
    },
    {
      "cell_type": "code",
      "metadata": {
        "id": "wBQgNtPyGJHk"
      },
      "source": [
        "\n",
        "\n",
        "\n"
      ],
      "execution_count": 35,
      "outputs": []
    },
    {
      "cell_type": "markdown",
      "metadata": {
        "id": "W0MPJi3KGJ26"
      },
      "source": [
        "### Data Preparation"
      ]
    },
    {
      "cell_type": "code",
      "metadata": {
        "colab": {
          "base_uri": "https://localhost:8080/"
        },
        "id": "BfIqUgclF2fa",
        "outputId": "573211b1-7677-404e-a1c8-9364065ec74d"
      },
      "source": [
        "data2.shape\n",
        "\n",
        "data.columns"
      ],
      "execution_count": 26,
      "outputs": [
        {
          "output_type": "execute_result",
          "data": {
            "text/plain": [
              "Index(['Me identifico', 'Tengo', 'Dónde estás trabajando',\n",
              "       'Años de experiencia', 'Años en la empresa actual',\n",
              "       'Años en el puesto actual', '¿Gente a cargo?',\n",
              "       'Nivel de estudios alcanzado', 'Estado', 'Carrera', 'Universidad',\n",
              "       'Realizaste cursos de especialización',\n",
              "       '¿Contribuís a proyectos open source?', '¿Programás como hobbie?',\n",
              "       'Trabajo de', 'Plataformas', 'Lenguajes de programación',\n",
              "       'Frameworks, herramientas y librerías', 'Bases de datos',\n",
              "       'QA / Testing', 'IDEs', '¿Qué SO usás en tu laptop/PC para trabajar?',\n",
              "       '¿Y en tu celular?', '¿Tenés guardias?', 'Cuánto cobrás por guardia',\n",
              "       '¿Porcentaje, bruto o neto?', 'Tipo de contrato',\n",
              "       'Salario mensual BRUTO (en tu moneda local)',\n",
              "       'Salario mensual NETO (en tu moneda local)',\n",
              "       '¿Qué tan conforme estás con tu sueldo?',\n",
              "       'Cómo creés que está tu sueldo con respecto al último semestre',\n",
              "       'Recibís algún tipo de bono', 'A qué está atado el bono',\n",
              "       '¿Tuviste ajustes por inflación en 2018?', '¿De qué % fue el ajuste?',\n",
              "       '¿En qué mes fue el último ajuste?',\n",
              "       '¿Sufriste o presenciaste situaciones de violencia laboral?',\n",
              "       'Orientación sexual', '¿Tenés algún tipo de discapacidad?',\n",
              "       '¿Sentís que esto te dificultó el conseguir trabajo?',\n",
              "       '¿A qué eventos de tecnología asististe en el último año?',\n",
              "       'Cantidad de empleados', 'Actividad principal',\n",
              "       '¿La recomendás como un buen lugar para trabajar?',\n",
              "       '¿Cómo calificás las políticas de diversidad e inclusión?',\n",
              "       '¿A cuántos kilómetros de tu casa queda la oficina?',\n",
              "       'Beneficios extra'],\n",
              "      dtype='object')"
            ]
          },
          "metadata": {
            "tags": []
          },
          "execution_count": 26
        }
      ]
    },
    {
      "cell_type": "code",
      "metadata": {
        "id": "7Hx3dD8FGNMo"
      },
      "source": [
        ""
      ],
      "execution_count": null,
      "outputs": []
    },
    {
      "cell_type": "code",
      "metadata": {
        "colab": {
          "base_uri": "https://localhost:8080/",
          "height": 1000
        },
        "id": "TdONaFLMGNT0",
        "outputId": "74330e97-bd1d-497e-e2df-6348ce891a10"
      },
      "source": [
        "pd.set_option('max_rows', 50)\n",
        "status(data)"
      ],
      "execution_count": 27,
      "outputs": [
        {
          "output_type": "execute_result",
          "data": {
            "text/html": [
              "<div>\n",
              "<style scoped>\n",
              "    .dataframe tbody tr th:only-of-type {\n",
              "        vertical-align: middle;\n",
              "    }\n",
              "\n",
              "    .dataframe tbody tr th {\n",
              "        vertical-align: top;\n",
              "    }\n",
              "\n",
              "    .dataframe thead th {\n",
              "        text-align: right;\n",
              "    }\n",
              "</style>\n",
              "<table border=\"1\" class=\"dataframe\">\n",
              "  <thead>\n",
              "    <tr style=\"text-align: right;\">\n",
              "      <th></th>\n",
              "      <th>variable</th>\n",
              "      <th>q_nan</th>\n",
              "      <th>p_nan</th>\n",
              "      <th>q_zeros</th>\n",
              "      <th>p_zeros</th>\n",
              "      <th>unique</th>\n",
              "      <th>type</th>\n",
              "    </tr>\n",
              "  </thead>\n",
              "  <tbody>\n",
              "    <tr>\n",
              "      <th>0</th>\n",
              "      <td>Me identifico</td>\n",
              "      <td>0</td>\n",
              "      <td>0.000000</td>\n",
              "      <td>0</td>\n",
              "      <td>0.000000</td>\n",
              "      <td>3</td>\n",
              "      <td>object</td>\n",
              "    </tr>\n",
              "    <tr>\n",
              "      <th>1</th>\n",
              "      <td>Tengo</td>\n",
              "      <td>0</td>\n",
              "      <td>0.000000</td>\n",
              "      <td>0</td>\n",
              "      <td>0.000000</td>\n",
              "      <td>58</td>\n",
              "      <td>int64</td>\n",
              "    </tr>\n",
              "    <tr>\n",
              "      <th>2</th>\n",
              "      <td>Dónde estás trabajando</td>\n",
              "      <td>0</td>\n",
              "      <td>0.000000</td>\n",
              "      <td>0</td>\n",
              "      <td>0.000000</td>\n",
              "      <td>25</td>\n",
              "      <td>object</td>\n",
              "    </tr>\n",
              "    <tr>\n",
              "      <th>3</th>\n",
              "      <td>Años de experiencia</td>\n",
              "      <td>0</td>\n",
              "      <td>0.000000</td>\n",
              "      <td>235</td>\n",
              "      <td>0.052432</td>\n",
              "      <td>52</td>\n",
              "      <td>float64</td>\n",
              "    </tr>\n",
              "    <tr>\n",
              "      <th>4</th>\n",
              "      <td>Años en la empresa actual</td>\n",
              "      <td>0</td>\n",
              "      <td>0.000000</td>\n",
              "      <td>1038</td>\n",
              "      <td>0.231593</td>\n",
              "      <td>48</td>\n",
              "      <td>float64</td>\n",
              "    </tr>\n",
              "    <tr>\n",
              "      <th>5</th>\n",
              "      <td>Años en el puesto actual</td>\n",
              "      <td>0</td>\n",
              "      <td>0.000000</td>\n",
              "      <td>921</td>\n",
              "      <td>0.205489</td>\n",
              "      <td>39</td>\n",
              "      <td>float64</td>\n",
              "    </tr>\n",
              "    <tr>\n",
              "      <th>6</th>\n",
              "      <td>¿Gente a cargo?</td>\n",
              "      <td>0</td>\n",
              "      <td>0.000000</td>\n",
              "      <td>3335</td>\n",
              "      <td>0.744087</td>\n",
              "      <td>47</td>\n",
              "      <td>int64</td>\n",
              "    </tr>\n",
              "    <tr>\n",
              "      <th>7</th>\n",
              "      <td>Nivel de estudios alcanzado</td>\n",
              "      <td>0</td>\n",
              "      <td>0.000000</td>\n",
              "      <td>0</td>\n",
              "      <td>0.000000</td>\n",
              "      <td>7</td>\n",
              "      <td>object</td>\n",
              "    </tr>\n",
              "    <tr>\n",
              "      <th>8</th>\n",
              "      <td>Estado</td>\n",
              "      <td>0</td>\n",
              "      <td>0.000000</td>\n",
              "      <td>0</td>\n",
              "      <td>0.000000</td>\n",
              "      <td>3</td>\n",
              "      <td>object</td>\n",
              "    </tr>\n",
              "    <tr>\n",
              "      <th>9</th>\n",
              "      <td>Carrera</td>\n",
              "      <td>554</td>\n",
              "      <td>0.123606</td>\n",
              "      <td>0</td>\n",
              "      <td>0.000000</td>\n",
              "      <td>1485</td>\n",
              "      <td>object</td>\n",
              "    </tr>\n",
              "    <tr>\n",
              "      <th>10</th>\n",
              "      <td>Universidad</td>\n",
              "      <td>812</td>\n",
              "      <td>0.181169</td>\n",
              "      <td>0</td>\n",
              "      <td>0.000000</td>\n",
              "      <td>1056</td>\n",
              "      <td>object</td>\n",
              "    </tr>\n",
              "    <tr>\n",
              "      <th>11</th>\n",
              "      <td>Realizaste cursos de especialización</td>\n",
              "      <td>0</td>\n",
              "      <td>0.000000</td>\n",
              "      <td>0</td>\n",
              "      <td>0.000000</td>\n",
              "      <td>7</td>\n",
              "      <td>object</td>\n",
              "    </tr>\n",
              "    <tr>\n",
              "      <th>12</th>\n",
              "      <td>¿Contribuís a proyectos open source?</td>\n",
              "      <td>0</td>\n",
              "      <td>0.000000</td>\n",
              "      <td>0</td>\n",
              "      <td>0.000000</td>\n",
              "      <td>2</td>\n",
              "      <td>object</td>\n",
              "    </tr>\n",
              "    <tr>\n",
              "      <th>13</th>\n",
              "      <td>¿Programás como hobbie?</td>\n",
              "      <td>0</td>\n",
              "      <td>0.000000</td>\n",
              "      <td>0</td>\n",
              "      <td>0.000000</td>\n",
              "      <td>2</td>\n",
              "      <td>object</td>\n",
              "    </tr>\n",
              "    <tr>\n",
              "      <th>14</th>\n",
              "      <td>Trabajo de</td>\n",
              "      <td>0</td>\n",
              "      <td>0.000000</td>\n",
              "      <td>0</td>\n",
              "      <td>0.000000</td>\n",
              "      <td>443</td>\n",
              "      <td>object</td>\n",
              "    </tr>\n",
              "    <tr>\n",
              "      <th>15</th>\n",
              "      <td>Plataformas</td>\n",
              "      <td>777</td>\n",
              "      <td>0.173360</td>\n",
              "      <td>0</td>\n",
              "      <td>0.000000</td>\n",
              "      <td>935</td>\n",
              "      <td>object</td>\n",
              "    </tr>\n",
              "    <tr>\n",
              "      <th>16</th>\n",
              "      <td>Lenguajes de programación</td>\n",
              "      <td>852</td>\n",
              "      <td>0.190094</td>\n",
              "      <td>0</td>\n",
              "      <td>0.000000</td>\n",
              "      <td>1391</td>\n",
              "      <td>object</td>\n",
              "    </tr>\n",
              "    <tr>\n",
              "      <th>17</th>\n",
              "      <td>Frameworks, herramientas y librerías</td>\n",
              "      <td>2084</td>\n",
              "      <td>0.464971</td>\n",
              "      <td>0</td>\n",
              "      <td>0.000000</td>\n",
              "      <td>646</td>\n",
              "      <td>object</td>\n",
              "    </tr>\n",
              "    <tr>\n",
              "      <th>18</th>\n",
              "      <td>Bases de datos</td>\n",
              "      <td>1116</td>\n",
              "      <td>0.248996</td>\n",
              "      <td>0</td>\n",
              "      <td>0.000000</td>\n",
              "      <td>923</td>\n",
              "      <td>object</td>\n",
              "    </tr>\n",
              "    <tr>\n",
              "      <th>19</th>\n",
              "      <td>QA / Testing</td>\n",
              "      <td>3724</td>\n",
              "      <td>0.830879</td>\n",
              "      <td>0</td>\n",
              "      <td>0.000000</td>\n",
              "      <td>188</td>\n",
              "      <td>object</td>\n",
              "    </tr>\n",
              "    <tr>\n",
              "      <th>20</th>\n",
              "      <td>IDEs</td>\n",
              "      <td>1369</td>\n",
              "      <td>0.305444</td>\n",
              "      <td>0</td>\n",
              "      <td>0.000000</td>\n",
              "      <td>955</td>\n",
              "      <td>object</td>\n",
              "    </tr>\n",
              "    <tr>\n",
              "      <th>21</th>\n",
              "      <td>¿Qué SO usás en tu laptop/PC para trabajar?</td>\n",
              "      <td>0</td>\n",
              "      <td>0.000000</td>\n",
              "      <td>0</td>\n",
              "      <td>0.000000</td>\n",
              "      <td>4</td>\n",
              "      <td>object</td>\n",
              "    </tr>\n",
              "    <tr>\n",
              "      <th>22</th>\n",
              "      <td>¿Y en tu celular?</td>\n",
              "      <td>0</td>\n",
              "      <td>0.000000</td>\n",
              "      <td>0</td>\n",
              "      <td>0.000000</td>\n",
              "      <td>4</td>\n",
              "      <td>object</td>\n",
              "    </tr>\n",
              "    <tr>\n",
              "      <th>23</th>\n",
              "      <td>¿Tenés guardias?</td>\n",
              "      <td>0</td>\n",
              "      <td>0.000000</td>\n",
              "      <td>0</td>\n",
              "      <td>0.000000</td>\n",
              "      <td>3</td>\n",
              "      <td>object</td>\n",
              "    </tr>\n",
              "    <tr>\n",
              "      <th>24</th>\n",
              "      <td>Cuánto cobrás por guardia</td>\n",
              "      <td>0</td>\n",
              "      <td>0.000000</td>\n",
              "      <td>4097</td>\n",
              "      <td>0.914101</td>\n",
              "      <td>119</td>\n",
              "      <td>float64</td>\n",
              "    </tr>\n",
              "    <tr>\n",
              "      <th>25</th>\n",
              "      <td>¿Porcentaje, bruto o neto?</td>\n",
              "      <td>0</td>\n",
              "      <td>0.000000</td>\n",
              "      <td>0</td>\n",
              "      <td>0.000000</td>\n",
              "      <td>3</td>\n",
              "      <td>object</td>\n",
              "    </tr>\n",
              "    <tr>\n",
              "      <th>26</th>\n",
              "      <td>Tipo de contrato</td>\n",
              "      <td>0</td>\n",
              "      <td>0.000000</td>\n",
              "      <td>0</td>\n",
              "      <td>0.000000</td>\n",
              "      <td>5</td>\n",
              "      <td>object</td>\n",
              "    </tr>\n",
              "    <tr>\n",
              "      <th>27</th>\n",
              "      <td>Salario mensual BRUTO (en tu moneda local)</td>\n",
              "      <td>0</td>\n",
              "      <td>0.000000</td>\n",
              "      <td>0</td>\n",
              "      <td>0.000000</td>\n",
              "      <td>996</td>\n",
              "      <td>float64</td>\n",
              "    </tr>\n",
              "    <tr>\n",
              "      <th>28</th>\n",
              "      <td>Salario mensual NETO (en tu moneda local)</td>\n",
              "      <td>182</td>\n",
              "      <td>0.040607</td>\n",
              "      <td>0</td>\n",
              "      <td>0.000000</td>\n",
              "      <td>934</td>\n",
              "      <td>float64</td>\n",
              "    </tr>\n",
              "    <tr>\n",
              "      <th>29</th>\n",
              "      <td>¿Qué tan conforme estás con tu sueldo?</td>\n",
              "      <td>0</td>\n",
              "      <td>0.000000</td>\n",
              "      <td>0</td>\n",
              "      <td>0.000000</td>\n",
              "      <td>4</td>\n",
              "      <td>int64</td>\n",
              "    </tr>\n",
              "    <tr>\n",
              "      <th>30</th>\n",
              "      <td>Cómo creés que está tu sueldo con respecto al ...</td>\n",
              "      <td>0</td>\n",
              "      <td>0.000000</td>\n",
              "      <td>0</td>\n",
              "      <td>0.000000</td>\n",
              "      <td>4</td>\n",
              "      <td>int64</td>\n",
              "    </tr>\n",
              "    <tr>\n",
              "      <th>31</th>\n",
              "      <td>Recibís algún tipo de bono</td>\n",
              "      <td>0</td>\n",
              "      <td>0.000000</td>\n",
              "      <td>0</td>\n",
              "      <td>0.000000</td>\n",
              "      <td>5</td>\n",
              "      <td>object</td>\n",
              "    </tr>\n",
              "    <tr>\n",
              "      <th>32</th>\n",
              "      <td>A qué está atado el bono</td>\n",
              "      <td>0</td>\n",
              "      <td>0.000000</td>\n",
              "      <td>0</td>\n",
              "      <td>0.000000</td>\n",
              "      <td>215</td>\n",
              "      <td>object</td>\n",
              "    </tr>\n",
              "    <tr>\n",
              "      <th>33</th>\n",
              "      <td>¿Tuviste ajustes por inflación en 2018?</td>\n",
              "      <td>0</td>\n",
              "      <td>0.000000</td>\n",
              "      <td>0</td>\n",
              "      <td>0.000000</td>\n",
              "      <td>4</td>\n",
              "      <td>object</td>\n",
              "    </tr>\n",
              "    <tr>\n",
              "      <th>34</th>\n",
              "      <td>¿De qué % fue el ajuste?</td>\n",
              "      <td>0</td>\n",
              "      <td>0.000000</td>\n",
              "      <td>946</td>\n",
              "      <td>0.211066</td>\n",
              "      <td>104</td>\n",
              "      <td>float64</td>\n",
              "    </tr>\n",
              "    <tr>\n",
              "      <th>35</th>\n",
              "      <td>¿En qué mes fue el último ajuste?</td>\n",
              "      <td>0</td>\n",
              "      <td>0.000000</td>\n",
              "      <td>832</td>\n",
              "      <td>0.185631</td>\n",
              "      <td>13</td>\n",
              "      <td>int64</td>\n",
              "    </tr>\n",
              "    <tr>\n",
              "      <th>36</th>\n",
              "      <td>¿Sufriste o presenciaste situaciones de violen...</td>\n",
              "      <td>91</td>\n",
              "      <td>0.020303</td>\n",
              "      <td>0</td>\n",
              "      <td>0.000000</td>\n",
              "      <td>3</td>\n",
              "      <td>object</td>\n",
              "    </tr>\n",
              "    <tr>\n",
              "      <th>37</th>\n",
              "      <td>Orientación sexual</td>\n",
              "      <td>155</td>\n",
              "      <td>0.034583</td>\n",
              "      <td>0</td>\n",
              "      <td>0.000000</td>\n",
              "      <td>45</td>\n",
              "      <td>object</td>\n",
              "    </tr>\n",
              "    <tr>\n",
              "      <th>38</th>\n",
              "      <td>¿Tenés algún tipo de discapacidad?</td>\n",
              "      <td>4184</td>\n",
              "      <td>0.933512</td>\n",
              "      <td>0</td>\n",
              "      <td>0.000000</td>\n",
              "      <td>57</td>\n",
              "      <td>object</td>\n",
              "    </tr>\n",
              "    <tr>\n",
              "      <th>39</th>\n",
              "      <td>¿Sentís que esto te dificultó el conseguir tra...</td>\n",
              "      <td>2365</td>\n",
              "      <td>0.527666</td>\n",
              "      <td>0</td>\n",
              "      <td>0.000000</td>\n",
              "      <td>2</td>\n",
              "      <td>object</td>\n",
              "    </tr>\n",
              "    <tr>\n",
              "      <th>40</th>\n",
              "      <td>¿A qué eventos de tecnología asististe en el ú...</td>\n",
              "      <td>2742</td>\n",
              "      <td>0.611780</td>\n",
              "      <td>0</td>\n",
              "      <td>0.000000</td>\n",
              "      <td>1110</td>\n",
              "      <td>object</td>\n",
              "    </tr>\n",
              "    <tr>\n",
              "      <th>41</th>\n",
              "      <td>Cantidad de empleados</td>\n",
              "      <td>0</td>\n",
              "      <td>0.000000</td>\n",
              "      <td>0</td>\n",
              "      <td>0.000000</td>\n",
              "      <td>10</td>\n",
              "      <td>object</td>\n",
              "    </tr>\n",
              "    <tr>\n",
              "      <th>42</th>\n",
              "      <td>Actividad principal</td>\n",
              "      <td>0</td>\n",
              "      <td>0.000000</td>\n",
              "      <td>0</td>\n",
              "      <td>0.000000</td>\n",
              "      <td>3</td>\n",
              "      <td>object</td>\n",
              "    </tr>\n",
              "    <tr>\n",
              "      <th>43</th>\n",
              "      <td>¿La recomendás como un buen lugar para trabajar?</td>\n",
              "      <td>0</td>\n",
              "      <td>0.000000</td>\n",
              "      <td>0</td>\n",
              "      <td>0.000000</td>\n",
              "      <td>10</td>\n",
              "      <td>int64</td>\n",
              "    </tr>\n",
              "    <tr>\n",
              "      <th>44</th>\n",
              "      <td>¿Cómo calificás las políticas de diversidad e ...</td>\n",
              "      <td>0</td>\n",
              "      <td>0.000000</td>\n",
              "      <td>0</td>\n",
              "      <td>0.000000</td>\n",
              "      <td>10</td>\n",
              "      <td>int64</td>\n",
              "    </tr>\n",
              "    <tr>\n",
              "      <th>45</th>\n",
              "      <td>¿A cuántos kilómetros de tu casa queda la ofic...</td>\n",
              "      <td>0</td>\n",
              "      <td>0.000000</td>\n",
              "      <td>48</td>\n",
              "      <td>0.010710</td>\n",
              "      <td>127</td>\n",
              "      <td>float64</td>\n",
              "    </tr>\n",
              "    <tr>\n",
              "      <th>46</th>\n",
              "      <td>Beneficios extra</td>\n",
              "      <td>0</td>\n",
              "      <td>0.000000</td>\n",
              "      <td>0</td>\n",
              "      <td>0.000000</td>\n",
              "      <td>2123</td>\n",
              "      <td>object</td>\n",
              "    </tr>\n",
              "  </tbody>\n",
              "</table>\n",
              "</div>"
            ],
            "text/plain": [
              "                                             variable  q_nan  ...  unique     type\n",
              "0                                       Me identifico      0  ...       3   object\n",
              "1                                               Tengo      0  ...      58    int64\n",
              "2                              Dónde estás trabajando      0  ...      25   object\n",
              "3                                 Años de experiencia      0  ...      52  float64\n",
              "4                           Años en la empresa actual      0  ...      48  float64\n",
              "5                            Años en el puesto actual      0  ...      39  float64\n",
              "6                                     ¿Gente a cargo?      0  ...      47    int64\n",
              "7                         Nivel de estudios alcanzado      0  ...       7   object\n",
              "8                                              Estado      0  ...       3   object\n",
              "9                                             Carrera    554  ...    1485   object\n",
              "10                                        Universidad    812  ...    1056   object\n",
              "11               Realizaste cursos de especialización      0  ...       7   object\n",
              "12               ¿Contribuís a proyectos open source?      0  ...       2   object\n",
              "13                            ¿Programás como hobbie?      0  ...       2   object\n",
              "14                                         Trabajo de      0  ...     443   object\n",
              "15                                        Plataformas    777  ...     935   object\n",
              "16                          Lenguajes de programación    852  ...    1391   object\n",
              "17               Frameworks, herramientas y librerías   2084  ...     646   object\n",
              "18                                     Bases de datos   1116  ...     923   object\n",
              "19                                       QA / Testing   3724  ...     188   object\n",
              "20                                               IDEs   1369  ...     955   object\n",
              "21        ¿Qué SO usás en tu laptop/PC para trabajar?      0  ...       4   object\n",
              "22                                  ¿Y en tu celular?      0  ...       4   object\n",
              "23                                   ¿Tenés guardias?      0  ...       3   object\n",
              "24                          Cuánto cobrás por guardia      0  ...     119  float64\n",
              "25                         ¿Porcentaje, bruto o neto?      0  ...       3   object\n",
              "26                                   Tipo de contrato      0  ...       5   object\n",
              "27         Salario mensual BRUTO (en tu moneda local)      0  ...     996  float64\n",
              "28          Salario mensual NETO (en tu moneda local)    182  ...     934  float64\n",
              "29             ¿Qué tan conforme estás con tu sueldo?      0  ...       4    int64\n",
              "30  Cómo creés que está tu sueldo con respecto al ...      0  ...       4    int64\n",
              "31                         Recibís algún tipo de bono      0  ...       5   object\n",
              "32                           A qué está atado el bono      0  ...     215   object\n",
              "33            ¿Tuviste ajustes por inflación en 2018?      0  ...       4   object\n",
              "34                           ¿De qué % fue el ajuste?      0  ...     104  float64\n",
              "35                  ¿En qué mes fue el último ajuste?      0  ...      13    int64\n",
              "36  ¿Sufriste o presenciaste situaciones de violen...     91  ...       3   object\n",
              "37                                 Orientación sexual    155  ...      45   object\n",
              "38                 ¿Tenés algún tipo de discapacidad?   4184  ...      57   object\n",
              "39  ¿Sentís que esto te dificultó el conseguir tra...   2365  ...       2   object\n",
              "40  ¿A qué eventos de tecnología asististe en el ú...   2742  ...    1110   object\n",
              "41                              Cantidad de empleados      0  ...      10   object\n",
              "42                                Actividad principal      0  ...       3   object\n",
              "43   ¿La recomendás como un buen lugar para trabajar?      0  ...      10    int64\n",
              "44  ¿Cómo calificás las políticas de diversidad e ...      0  ...      10    int64\n",
              "45  ¿A cuántos kilómetros de tu casa queda la ofic...      0  ...     127  float64\n",
              "46                                   Beneficios extra      0  ...    2123   object\n",
              "\n",
              "[47 rows x 7 columns]"
            ]
          },
          "metadata": {
            "tags": []
          },
          "execution_count": 27
        }
      ]
    },
    {
      "cell_type": "code",
      "metadata": {
        "id": "ttDtpPw7IjTQ"
      },
      "source": [
        "\n",
        "\n",
        "\n"
      ],
      "execution_count": null,
      "outputs": []
    },
    {
      "cell_type": "markdown",
      "metadata": {
        "id": "yEkFaPPgImJl"
      },
      "source": [
        "Cleaning the variables names (to lowcase and snake case)"
      ]
    },
    {
      "cell_type": "code",
      "metadata": {
        "colab": {
          "base_uri": "https://localhost:8080/"
        },
        "id": "h9enirehIjWP",
        "outputId": "58fa19ec-9b0b-426f-db6e-0ccbfd4fec5a"
      },
      "source": [
        "cleaned_nam=clean_names(data)\n",
        "data.columns=cleaned_nam\n",
        "\n",
        "cleaned_nam2=clean_names(data2)\n",
        "data2.columns=cleaned_nam2\n",
        "\n",
        "data2.columns"
      ],
      "execution_count": 40,
      "outputs": [
        {
          "output_type": "execute_result",
          "data": {
            "text/plain": [
              "Index(['timestamp', 'me_identifico', 'tengo', 'estoy_trabajando_en',\n",
              "       'donde_estas_trabajando', 'bolivia', 'chile', 'colombia', 'cuba',\n",
              "       'costa_rica', 'ecuador', 'el_salvador', 'guatemala', 'honduras',\n",
              "       'mexico', 'nicaragua', 'panama', 'paraguay', 'peru', 'puerto_rico',\n",
              "       'republica_dominicana', 'uruguay', 'venezuela', 'anos_de_experiencia',\n",
              "       'anos_en_la_empresa_actual', 'anos_en_el_puesto_actual',\n",
              "       'gente_a_cargo', 'nivel_de_estudios_alcanzado', 'estado', 'carrera',\n",
              "       'universidad', 'realizaste_cursos_de_especializacion',\n",
              "       'contribuis_a_proyectos_open_source', 'programas_como_hobbie',\n",
              "       'trabajo_de', 'plataformas', 'lenguajes_de_programacion',\n",
              "       'frameworks_herramientas_y_librerias', 'bases_de_datos', 'qa__testing',\n",
              "       'ides', 'que_so_usas_en_tu_laptoppc_para_trabajar', 'y_en_tu_celular',\n",
              "       'tenes_guardias', 'cuanto_cobras_por_guardia',\n",
              "       'porcentaje_bruto_o_neto', 'tipo_de_contrato',\n",
              "       'salario_mensual_bruto_en_tu_moneda_local',\n",
              "       'salario_mensual_neto_en_tu_moneda_local',\n",
              "       'que_tan_conforme_estas_con_tu_sueldo',\n",
              "       'como_crees_que_esta_tu_sueldo_con_respecto_al_ultimo_semestre',\n",
              "       'recibis_algun_tipo_de_bono', 'a_que_esta_atado_el_bono',\n",
              "       'tuviste_ajustes_por_inflacion_en_lo_que_va_de_2019',\n",
              "       'de_que__fue_el_ajuste', 'en_que_mes_fue_el_ultimo_ajuste',\n",
              "       'sufriste_o_presenciaste_situaciones_de_violencia_laboral',\n",
              "       'orientacion_sexual', 'tenes_algun_tipo_de_discapacidad',\n",
              "       'sentis_que_esto_te_dificulto_el_conseguir_trabajo',\n",
              "       'a_que_eventos_de_tecnologia_asististe_en_el_ultimo_ano',\n",
              "       'cantidad_de_empleados', 'actividad_principal',\n",
              "       'la_recomendas_como_un_buen_lugar_para_trabajar',\n",
              "       'como_calificas_las_politicas_de_diversidad_e_inclusion',\n",
              "       'a_cuantos_kilometros_de_tu_casa_queda_la_oficina', 'beneficios_extra',\n",
              "       'cuales_consideras_que_son_las_mejores_empresas_de_it_para_trabajar_en_este_momento_en_tu_ciudad'],\n",
              "      dtype='object')"
            ]
          },
          "metadata": {
            "tags": []
          },
          "execution_count": 40
        }
      ]
    },
    {
      "cell_type": "code",
      "metadata": {
        "id": "F-H7huZkIjjP"
      },
      "source": [
        "\n",
        "\n",
        "\n"
      ],
      "execution_count": null,
      "outputs": []
    },
    {
      "cell_type": "code",
      "metadata": {
        "id": "xtP1_NQIH3tf"
      },
      "source": [
        "data = data[['tengo', 'anos_de_experiencia', 'anos_en_la_empresa_actual',\n",
        "       'anos_en_el_puesto_actual', 'gente_a_cargo',\n",
        "       'cuanto_cobras_por_guardia', 'salario_mensual_bruto_en_tu_moneda_local',\n",
        "       'la_recomendas_como_un_buen_lugar_para_trabajar',\n",
        "       'a_cuantos_kilometros_de_tu_casa_queda_la_oficina', 'trabajo_de', 'donde_estas_trabajando']]\n",
        "\n",
        "\n",
        "\n",
        "data2 = data2[['tengo', 'anos_de_experiencia', 'anos_en_la_empresa_actual',\n",
        "       'anos_en_el_puesto_actual', 'gente_a_cargo',\n",
        "       'cuanto_cobras_por_guardia', 'salario_mensual_bruto_en_tu_moneda_local',\n",
        "       'la_recomendas_como_un_buen_lugar_para_trabajar',\n",
        "       'a_cuantos_kilometros_de_tu_casa_queda_la_oficina', 'trabajo_de', 'donde_estas_trabajando']]\n"
      ],
      "execution_count": 41,
      "outputs": []
    },
    {
      "cell_type": "code",
      "metadata": {
        "id": "Ju7Zxmk2GRKk"
      },
      "source": [
        "\n",
        "\n",
        "\n"
      ],
      "execution_count": null,
      "outputs": []
    },
    {
      "cell_type": "markdown",
      "metadata": {
        "id": "Jy5p7RGiGoDc"
      },
      "source": [
        "The two datasets are concatenated\n",
        "\n",
        "\n"
      ]
    },
    {
      "cell_type": "code",
      "metadata": {
        "id": "5lbqP3qaGbju"
      },
      "source": [
        "data_all = pd.concat([data, data2])"
      ],
      "execution_count": 42,
      "outputs": []
    },
    {
      "cell_type": "code",
      "metadata": {
        "colab": {
          "base_uri": "https://localhost:8080/"
        },
        "id": "6_HmoSOlGrDf",
        "outputId": "299e9022-f49c-4583-b354-4d05438d361b"
      },
      "source": [
        "data_all.shape"
      ],
      "execution_count": 43,
      "outputs": [
        {
          "output_type": "execute_result",
          "data": {
            "text/plain": [
              "(7684, 11)"
            ]
          },
          "metadata": {
            "tags": []
          },
          "execution_count": 43
        }
      ]
    },
    {
      "cell_type": "code",
      "metadata": {
        "id": "fDWIcJjoGtKE"
      },
      "source": [
        "data_all2 = data_all.copy()"
      ],
      "execution_count": 44,
      "outputs": []
    },
    {
      "cell_type": "code",
      "metadata": {
        "id": "3QEzzPgSHO1Z"
      },
      "source": [
        "\n",
        "\n"
      ],
      "execution_count": null,
      "outputs": []
    },
    {
      "cell_type": "markdown",
      "metadata": {
        "id": "xpTHPa6cG-z_"
      },
      "source": [
        "Nulls are replaced\n"
      ]
    },
    {
      "cell_type": "code",
      "metadata": {
        "id": "45bYxXdNHC_t"
      },
      "source": [
        "cat_vars_to_fill_nan = cat_vars(data_all2)\n",
        "data_all2[cat_vars_to_fill_nan] = data_all2[cat_vars_to_fill_nan].fillna(value=\"null\")"
      ],
      "execution_count": 45,
      "outputs": []
    },
    {
      "cell_type": "code",
      "metadata": {
        "id": "KOq8w3NhHLz_"
      },
      "source": [
        "\n",
        "\n"
      ],
      "execution_count": null,
      "outputs": []
    },
    {
      "cell_type": "markdown",
      "metadata": {
        "id": "R0hXk2LQHPVq"
      },
      "source": [
        "Separating in target and features"
      ]
    },
    {
      "cell_type": "code",
      "metadata": {
        "id": "oJTdpuRuHOZY"
      },
      "source": [
        "data_5 = data_all2.drop('salario_mensual_bruto_en_tu_moneda_local', axis=1)\n",
        "\n",
        "y_train_prep = data_all2['salario_mensual_bruto_en_tu_moneda_local']"
      ],
      "execution_count": 46,
      "outputs": []
    },
    {
      "cell_type": "code",
      "metadata": {
        "id": "GCTtsbtIIuSY"
      },
      "source": [
        "\n",
        "\n"
      ],
      "execution_count": null,
      "outputs": []
    },
    {
      "cell_type": "markdown",
      "metadata": {
        "id": "yKm4BnIsI4v0"
      },
      "source": [
        "Scaling and limiting extreme values in target variable"
      ]
    },
    {
      "cell_type": "code",
      "metadata": {
        "id": "SuxvkB9TI_-T"
      },
      "source": [
        "y_train_prep2 = np.where(y_train_prep > 137000, 137000, y_train_prep)\n",
        "\n",
        "y_train_prep3 = y_train_prep2.reshape(-1,1)\n",
        "\n",
        "scaler_y = MinMaxScaler()\n",
        "y_train_prep4 = scaler_y.fit_transform(y_train_prep3)"
      ],
      "execution_count": 48,
      "outputs": []
    },
    {
      "cell_type": "code",
      "metadata": {
        "id": "oLgXo1nlJitA"
      },
      "source": [
        "\n",
        "\n"
      ],
      "execution_count": null,
      "outputs": []
    },
    {
      "cell_type": "markdown",
      "metadata": {
        "id": "rgIDQ9KgJi7j"
      },
      "source": [
        "Separating in training set and test set"
      ]
    },
    {
      "cell_type": "code",
      "metadata": {
        "id": "Kwo0yck7JkoW"
      },
      "source": [
        "data_5_TR, data_5_TS, y_train, y_test = train_test_split(data_5, y_train_prep4, test_size=0.15, random_state=42)"
      ],
      "execution_count": 50,
      "outputs": []
    },
    {
      "cell_type": "code",
      "metadata": {
        "id": "TUeNfGP9J3RK"
      },
      "source": [
        "\n",
        "\n"
      ],
      "execution_count": null,
      "outputs": []
    },
    {
      "cell_type": "markdown",
      "metadata": {
        "id": "h4I-0g8oJ30G"
      },
      "source": [
        "Categorical variables encoding"
      ]
    },
    {
      "cell_type": "code",
      "metadata": {
        "id": "AT2V3qbxJ6WB"
      },
      "source": [
        "le_trabajo = LabelEncoder()\n",
        "le_lugar = LabelEncoder()"
      ],
      "execution_count": 52,
      "outputs": []
    },
    {
      "cell_type": "markdown",
      "metadata": {
        "id": "KRXYzVzjKEXe"
      },
      "source": [
        "Training set"
      ]
    },
    {
      "cell_type": "code",
      "metadata": {
        "id": "_CyWpzAsJ_4F"
      },
      "source": [
        "x_train_trabajo = le_trabajo.fit_transform(data_5_TR['trabajo_de'])\n",
        "x_train_lugar = le_lugar.fit_transform(data_5_TR['donde_estas_trabajando'])\n",
        "\n",
        "data_6_TR = data_5_TR.drop(['trabajo_de','donde_estas_trabajando'], axis=1)"
      ],
      "execution_count": 53,
      "outputs": []
    },
    {
      "cell_type": "markdown",
      "metadata": {
        "id": "T2dLDoW3KGzx"
      },
      "source": [
        "Test set"
      ]
    },
    {
      "cell_type": "code",
      "metadata": {
        "id": "WOa7TX28KHuN"
      },
      "source": [
        "x_test_trabajo = le_trabajo.fit_transform(data_5_TS['trabajo_de'])\n",
        "x_test_lugar = le_lugar.fit_transform(data_5_TS['donde_estas_trabajando'])\n",
        "\n",
        "data_6_TS = data_5_TS.drop(['trabajo_de','donde_estas_trabajando'], axis=1)"
      ],
      "execution_count": 54,
      "outputs": []
    },
    {
      "cell_type": "code",
      "metadata": {
        "id": "UbFOoNerKedC"
      },
      "source": [
        "\n",
        "\n"
      ],
      "execution_count": null,
      "outputs": []
    },
    {
      "cell_type": "markdown",
      "metadata": {
        "id": "lY8EYnjYKe8f"
      },
      "source": [
        "Scaling data"
      ]
    },
    {
      "cell_type": "code",
      "metadata": {
        "id": "ImODvi5uKgIk"
      },
      "source": [
        "scaler_x = MinMaxScaler()\n",
        "x_train=scaler_x.fit_transform(data_6_TR)\n",
        "\n",
        "x_test=scaler_x.transform(data_6_TS)"
      ],
      "execution_count": 55,
      "outputs": []
    },
    {
      "cell_type": "code",
      "metadata": {
        "id": "cASlXfwcKh7b"
      },
      "source": [
        "_,n_inp_var=data_6_TR.shape"
      ],
      "execution_count": 56,
      "outputs": []
    },
    {
      "cell_type": "code",
      "metadata": {
        "id": "Vc9ttB9jLTc8"
      },
      "source": [
        "\n",
        "\n",
        "\n"
      ],
      "execution_count": null,
      "outputs": []
    },
    {
      "cell_type": "markdown",
      "metadata": {
        "id": "KKl03NcALUKd"
      },
      "source": [
        "### Models Creation"
      ]
    },
    {
      "cell_type": "markdown",
      "metadata": {
        "id": "TC-KhT2sL9E-"
      },
      "source": [
        "Defining embedding dimension"
      ]
    },
    {
      "cell_type": "code",
      "metadata": {
        "id": "kk2wiZXwLXre"
      },
      "source": [
        "emb_dim_trabajo = 8\n",
        "emb_dim_lugar = 8"
      ],
      "execution_count": 60,
      "outputs": []
    },
    {
      "cell_type": "markdown",
      "metadata": {
        "id": "hqynFOR1MUJl"
      },
      "source": [
        "Defining the layers from a functional approach"
      ]
    },
    {
      "cell_type": "markdown",
      "metadata": {
        "id": "u6lhFHQeMdI_"
      },
      "source": [
        "Inputs "
      ]
    },
    {
      "cell_type": "code",
      "metadata": {
        "id": "NmjACzJ1MWyS"
      },
      "source": [
        "trabajo_input = Input(shape=(1,), name='trabajo')\n",
        "lugar_input = Input(shape=(1,), name='lugar')"
      ],
      "execution_count": 61,
      "outputs": []
    },
    {
      "cell_type": "markdown",
      "metadata": {
        "id": "CPF4rMomMgtB"
      },
      "source": [
        "'Trabajo' embedding layer"
      ]
    },
    {
      "cell_type": "code",
      "metadata": {
        "id": "lZqPh_hyMabr"
      },
      "source": [
        "trabajo_emb = Embedding(input_dim=x_train_trabajo.max()+1, \n",
        "                        output_dim=emb_dim_trabajo, \n",
        "                        input_length=1, name='trabajo_embedding')(trabajo_input)\n",
        "\n",
        "trabajo_emb2 = Flatten()(trabajo_emb)"
      ],
      "execution_count": 62,
      "outputs": []
    },
    {
      "cell_type": "markdown",
      "metadata": {
        "id": "_n7il01YMntc"
      },
      "source": [
        "'Lugar' embedding layer"
      ]
    },
    {
      "cell_type": "code",
      "metadata": {
        "id": "w7lmGlqOMqpP"
      },
      "source": [
        "lugar_emb = Embedding(x_train_lugar.max()+1,\n",
        "                                        emb_dim_lugar, \n",
        "                                        input_length=1, \n",
        "                                        name='lugar_embedding')(lugar_input)\n",
        "\n",
        "lugar_emb2 = Flatten()(lugar_emb)"
      ],
      "execution_count": 63,
      "outputs": []
    },
    {
      "cell_type": "markdown",
      "metadata": {
        "id": "aL0BdWZ1M3ub"
      },
      "source": [
        "Concatenating layers"
      ]
    },
    {
      "cell_type": "code",
      "metadata": {
        "id": "VKFELYNZM6g0"
      },
      "source": [
        "num_vars_input = Input(shape=(n_inp_var,), name='num_vars')"
      ],
      "execution_count": 65,
      "outputs": []
    },
    {
      "cell_type": "code",
      "metadata": {
        "id": "senNnWV1NFcp"
      },
      "source": [
        "concatenated = Concatenate()([trabajo_emb2, lugar_emb2, num_vars_input])"
      ],
      "execution_count": 66,
      "outputs": []
    },
    {
      "cell_type": "markdown",
      "metadata": {
        "id": "x_aZ3x2GNGae"
      },
      "source": [
        "Bottleneck"
      ]
    },
    {
      "cell_type": "code",
      "metadata": {
        "id": "dUjYFDdrNH8m"
      },
      "source": [
        "lay1 = Dense(16, activation=\"relu\")(concatenated)\n",
        "\n",
        "lay1 = Dropout(0.5)(lay1)\n",
        "\n",
        "out_num = Dense(1, activation=\"sigmoid\")(lay1)"
      ],
      "execution_count": 67,
      "outputs": []
    },
    {
      "cell_type": "markdown",
      "metadata": {
        "id": "xAUfhvL5NN7N"
      },
      "source": [
        "Final model"
      ]
    },
    {
      "cell_type": "code",
      "metadata": {
        "id": "Zr-ZHGCaNMEW"
      },
      "source": [
        "model_final = Model(inputs=[trabajo_input, lugar_input, num_vars_input], outputs=out_num)"
      ],
      "execution_count": 68,
      "outputs": []
    },
    {
      "cell_type": "code",
      "metadata": {
        "colab": {
          "base_uri": "https://localhost:8080/"
        },
        "id": "CTFsabRuNRf1",
        "outputId": "a7b001e4-d660-473b-8359-dd679353a361"
      },
      "source": [
        "model_final.summary()"
      ],
      "execution_count": 69,
      "outputs": [
        {
          "output_type": "stream",
          "text": [
            "Model: \"model\"\n",
            "__________________________________________________________________________________________________\n",
            "Layer (type)                    Output Shape         Param #     Connected to                     \n",
            "==================================================================================================\n",
            "trabajo (InputLayer)            [(None, 1)]          0                                            \n",
            "__________________________________________________________________________________________________\n",
            "lugar (InputLayer)              [(None, 1)]          0                                            \n",
            "__________________________________________________________________________________________________\n",
            "trabajo_embedding (Embedding)   (None, 1, 8)         4072        trabajo[0][0]                    \n",
            "__________________________________________________________________________________________________\n",
            "lugar_embedding (Embedding)     (None, 1, 8)         208         lugar[0][0]                      \n",
            "__________________________________________________________________________________________________\n",
            "flatten (Flatten)               (None, 8)            0           trabajo_embedding[0][0]          \n",
            "__________________________________________________________________________________________________\n",
            "flatten_1 (Flatten)             (None, 8)            0           lugar_embedding[0][0]            \n",
            "__________________________________________________________________________________________________\n",
            "num_vars (InputLayer)           [(None, 8)]          0                                            \n",
            "__________________________________________________________________________________________________\n",
            "concatenate (Concatenate)       (None, 24)           0           flatten[0][0]                    \n",
            "                                                                 flatten_1[0][0]                  \n",
            "                                                                 num_vars[0][0]                   \n",
            "__________________________________________________________________________________________________\n",
            "dense (Dense)                   (None, 16)           400         concatenate[0][0]                \n",
            "__________________________________________________________________________________________________\n",
            "dropout (Dropout)               (None, 16)           0           dense[0][0]                      \n",
            "__________________________________________________________________________________________________\n",
            "dense_1 (Dense)                 (None, 1)            17          dropout[0][0]                    \n",
            "==================================================================================================\n",
            "Total params: 4,697\n",
            "Trainable params: 4,697\n",
            "Non-trainable params: 0\n",
            "__________________________________________________________________________________________________\n"
          ],
          "name": "stdout"
        }
      ]
    },
    {
      "cell_type": "code",
      "metadata": {
        "id": "yaFUl8P6NpsC"
      },
      "source": [
        ""
      ],
      "execution_count": null,
      "outputs": []
    },
    {
      "cell_type": "code",
      "metadata": {
        "id": "65xhGN0tNpu4"
      },
      "source": [
        "_, n_inp_var = x_train.shape"
      ],
      "execution_count": 70,
      "outputs": []
    },
    {
      "cell_type": "code",
      "metadata": {
        "id": "RCylCFcwP6EH"
      },
      "source": [
        ""
      ],
      "execution_count": null,
      "outputs": []
    },
    {
      "cell_type": "markdown",
      "metadata": {
        "id": "qU_HdFboP38k"
      },
      "source": [
        "Architecture plot"
      ]
    },
    {
      "cell_type": "code",
      "metadata": {
        "colab": {
          "base_uri": "https://localhost:8080/",
          "height": 710
        },
        "id": "u526GOjGNq3V",
        "outputId": "741738f4-0825-41ad-9c34-cc833e5c2b8f"
      },
      "source": [
        "keras.utils.plot_model(model_final, show_shapes=True)"
      ],
      "execution_count": 71,
      "outputs": [
        {
          "output_type": "execute_result",
          "data": {
            "image/png": "[encoded data removed]",
            "text/plain": [
              "<IPython.core.display.Image object>"
            ]
          },
          "metadata": {
            "tags": []
          },
          "execution_count": 71
        }
      ]
    },
    {
      "cell_type": "code",
      "metadata": {
        "id": "7YyJ95zANyPC"
      },
      "source": [
        "\n",
        "\n",
        "\n"
      ],
      "execution_count": null,
      "outputs": []
    },
    {
      "cell_type": "markdown",
      "metadata": {
        "id": "b1clhwxnOz_h"
      },
      "source": [
        "### Network training and fitting"
      ]
    },
    {
      "cell_type": "markdown",
      "metadata": {
        "id": "XgoGt_3PO9EU"
      },
      "source": [
        "Defining a variable learning rate"
      ]
    },
    {
      "cell_type": "code",
      "metadata": {
        "id": "aHygQVKbO2cl"
      },
      "source": [
        "lr_schedule = keras.optimizers.schedules.ExponentialDecay(\n",
        "    initial_learning_rate=1e-2,\n",
        "    decay_steps=10000, # train cases/ batch size\n",
        "    decay_rate=0.9, \n",
        "    staircase=False)"
      ],
      "execution_count": 72,
      "outputs": []
    },
    {
      "cell_type": "code",
      "metadata": {
        "id": "BsmacMa3O6Su"
      },
      "source": [
        "model_final.compile(optimizer= keras.optimizers.Adam(learning_rate=lr_schedule), \n",
        "              loss='MSE',\n",
        "              metrics='MAE')"
      ],
      "execution_count": 73,
      "outputs": []
    },
    {
      "cell_type": "code",
      "metadata": {
        "id": "_x5CQbbCPOky"
      },
      "source": [
        ""
      ],
      "execution_count": null,
      "outputs": []
    },
    {
      "cell_type": "markdown",
      "metadata": {
        "id": "HBB5M7_KPOvt"
      },
      "source": [
        "Fit"
      ]
    },
    {
      "cell_type": "code",
      "metadata": {
        "colab": {
          "base_uri": "https://localhost:8080/"
        },
        "id": "bHJfk1xBPPiE",
        "outputId": "4d579081-5bbd-459c-b938-cffd99077530"
      },
      "source": [
        "history = model_final.fit(x=[x_train_trabajo, x_train_lugar, x_train], y=y_train, epochs=50, batch_size=8, validation_split=0.2)"
      ],
      "execution_count": 74,
      "outputs": [
        {
          "output_type": "stream",
          "text": [
            "Epoch 1/50\n",
            "653/653 [==============================] - 2s 2ms/step - loss: 0.0603 - MAE: 0.1940 - val_loss: 0.0569 - val_MAE: 0.1836\n",
            "Epoch 2/50\n",
            "653/653 [==============================] - 1s 1ms/step - loss: 0.0548 - MAE: 0.1817 - val_loss: 0.0534 - val_MAE: 0.1817\n",
            "Epoch 3/50\n",
            "653/653 [==============================] - 1s 2ms/step - loss: 0.0513 - MAE: 0.1754 - val_loss: 0.0566 - val_MAE: 0.1847\n",
            "Epoch 4/50\n",
            "653/653 [==============================] - 1s 2ms/step - loss: 0.0522 - MAE: 0.1739 - val_loss: 0.0539 - val_MAE: 0.1809\n",
            "Epoch 5/50\n",
            "653/653 [==============================] - 1s 2ms/step - loss: 0.0513 - MAE: 0.1736 - val_loss: 0.0523 - val_MAE: 0.1771\n",
            "Epoch 6/50\n",
            "653/653 [==============================] - 1s 1ms/step - loss: 0.0485 - MAE: 0.1682 - val_loss: 0.0523 - val_MAE: 0.1806\n",
            "Epoch 7/50\n",
            "653/653 [==============================] - 1s 1ms/step - loss: 0.0494 - MAE: 0.1699 - val_loss: 0.0523 - val_MAE: 0.1812\n",
            "Epoch 8/50\n",
            "653/653 [==============================] - 1s 2ms/step - loss: 0.0490 - MAE: 0.1688 - val_loss: 0.0521 - val_MAE: 0.1768\n",
            "Epoch 9/50\n",
            "653/653 [==============================] - 1s 2ms/step - loss: 0.0484 - MAE: 0.1664 - val_loss: 0.0504 - val_MAE: 0.1755\n",
            "Epoch 10/50\n",
            "653/653 [==============================] - 1s 2ms/step - loss: 0.0482 - MAE: 0.1677 - val_loss: 0.0511 - val_MAE: 0.1719\n",
            "Epoch 11/50\n",
            "653/653 [==============================] - 1s 2ms/step - loss: 0.0456 - MAE: 0.1612 - val_loss: 0.0491 - val_MAE: 0.1707\n",
            "Epoch 12/50\n",
            "653/653 [==============================] - 1s 2ms/step - loss: 0.0488 - MAE: 0.1683 - val_loss: 0.0482 - val_MAE: 0.1677\n",
            "Epoch 13/50\n",
            "653/653 [==============================] - 1s 2ms/step - loss: 0.0484 - MAE: 0.1673 - val_loss: 0.0489 - val_MAE: 0.1723\n",
            "Epoch 14/50\n",
            "653/653 [==============================] - 1s 2ms/step - loss: 0.0492 - MAE: 0.1671 - val_loss: 0.0481 - val_MAE: 0.1672\n",
            "Epoch 15/50\n",
            "653/653 [==============================] - 1s 2ms/step - loss: 0.0463 - MAE: 0.1636 - val_loss: 0.0472 - val_MAE: 0.1639\n",
            "Epoch 16/50\n",
            "653/653 [==============================] - 1s 2ms/step - loss: 0.0457 - MAE: 0.1597 - val_loss: 0.0464 - val_MAE: 0.1630\n",
            "Epoch 17/50\n",
            "653/653 [==============================] - 1s 1ms/step - loss: 0.0460 - MAE: 0.1615 - val_loss: 0.0463 - val_MAE: 0.1664\n",
            "Epoch 18/50\n",
            "653/653 [==============================] - 1s 1ms/step - loss: 0.0459 - MAE: 0.1617 - val_loss: 0.0463 - val_MAE: 0.1645\n",
            "Epoch 19/50\n",
            "653/653 [==============================] - 1s 2ms/step - loss: 0.0461 - MAE: 0.1631 - val_loss: 0.0466 - val_MAE: 0.1652\n",
            "Epoch 20/50\n",
            "653/653 [==============================] - 1s 1ms/step - loss: 0.0435 - MAE: 0.1567 - val_loss: 0.0474 - val_MAE: 0.1717\n",
            "Epoch 21/50\n",
            "653/653 [==============================] - 1s 1ms/step - loss: 0.0452 - MAE: 0.1604 - val_loss: 0.0454 - val_MAE: 0.1615\n",
            "Epoch 22/50\n",
            "653/653 [==============================] - 1s 1ms/step - loss: 0.0469 - MAE: 0.1623 - val_loss: 0.0449 - val_MAE: 0.1595\n",
            "Epoch 23/50\n",
            "653/653 [==============================] - 1s 1ms/step - loss: 0.0453 - MAE: 0.1618 - val_loss: 0.0464 - val_MAE: 0.1614\n",
            "Epoch 24/50\n",
            "653/653 [==============================] - 1s 1ms/step - loss: 0.0469 - MAE: 0.1617 - val_loss: 0.0459 - val_MAE: 0.1615\n",
            "Epoch 25/50\n",
            "653/653 [==============================] - 1s 1ms/step - loss: 0.0462 - MAE: 0.1620 - val_loss: 0.0453 - val_MAE: 0.1595\n",
            "Epoch 26/50\n",
            "653/653 [==============================] - 1s 1ms/step - loss: 0.0458 - MAE: 0.1621 - val_loss: 0.0456 - val_MAE: 0.1653\n",
            "Epoch 27/50\n",
            "653/653 [==============================] - 1s 1ms/step - loss: 0.0431 - MAE: 0.1559 - val_loss: 0.0461 - val_MAE: 0.1594\n",
            "Epoch 28/50\n",
            "653/653 [==============================] - 1s 1ms/step - loss: 0.0422 - MAE: 0.1543 - val_loss: 0.0478 - val_MAE: 0.1630\n",
            "Epoch 29/50\n",
            "653/653 [==============================] - 1s 1ms/step - loss: 0.0444 - MAE: 0.1587 - val_loss: 0.0466 - val_MAE: 0.1646\n",
            "Epoch 30/50\n",
            "653/653 [==============================] - 1s 1ms/step - loss: 0.0437 - MAE: 0.1567 - val_loss: 0.0458 - val_MAE: 0.1608\n",
            "Epoch 31/50\n",
            "653/653 [==============================] - 1s 1ms/step - loss: 0.0444 - MAE: 0.1598 - val_loss: 0.0457 - val_MAE: 0.1605\n",
            "Epoch 32/50\n",
            "653/653 [==============================] - 1s 1ms/step - loss: 0.0453 - MAE: 0.1586 - val_loss: 0.0458 - val_MAE: 0.1630\n",
            "Epoch 33/50\n",
            "653/653 [==============================] - 1s 1ms/step - loss: 0.0444 - MAE: 0.1570 - val_loss: 0.0473 - val_MAE: 0.1614\n",
            "Epoch 34/50\n",
            "653/653 [==============================] - 1s 1ms/step - loss: 0.0460 - MAE: 0.1617 - val_loss: 0.0454 - val_MAE: 0.1609\n",
            "Epoch 35/50\n",
            "653/653 [==============================] - 1s 1ms/step - loss: 0.0431 - MAE: 0.1562 - val_loss: 0.0456 - val_MAE: 0.1598\n",
            "Epoch 36/50\n",
            "653/653 [==============================] - 1s 1ms/step - loss: 0.0440 - MAE: 0.1582 - val_loss: 0.0449 - val_MAE: 0.1596\n",
            "Epoch 37/50\n",
            "653/653 [==============================] - 1s 1ms/step - loss: 0.0426 - MAE: 0.1544 - val_loss: 0.0466 - val_MAE: 0.1621\n",
            "Epoch 38/50\n",
            "653/653 [==============================] - 1s 1ms/step - loss: 0.0445 - MAE: 0.1588 - val_loss: 0.0449 - val_MAE: 0.1622\n",
            "Epoch 39/50\n",
            "653/653 [==============================] - 1s 1ms/step - loss: 0.0443 - MAE: 0.1598 - val_loss: 0.0462 - val_MAE: 0.1671\n",
            "Epoch 40/50\n",
            "653/653 [==============================] - 1s 2ms/step - loss: 0.0426 - MAE: 0.1540 - val_loss: 0.0463 - val_MAE: 0.1631\n",
            "Epoch 41/50\n",
            "653/653 [==============================] - 1s 1ms/step - loss: 0.0432 - MAE: 0.1555 - val_loss: 0.0459 - val_MAE: 0.1605\n",
            "Epoch 42/50\n",
            "653/653 [==============================] - 1s 1ms/step - loss: 0.0445 - MAE: 0.1584 - val_loss: 0.0446 - val_MAE: 0.1590\n",
            "Epoch 43/50\n",
            "653/653 [==============================] - 1s 1ms/step - loss: 0.0427 - MAE: 0.1544 - val_loss: 0.0458 - val_MAE: 0.1659\n",
            "Epoch 44/50\n",
            "653/653 [==============================] - 1s 1ms/step - loss: 0.0427 - MAE: 0.1555 - val_loss: 0.0470 - val_MAE: 0.1690\n",
            "Epoch 45/50\n",
            "653/653 [==============================] - 1s 1ms/step - loss: 0.0441 - MAE: 0.1589 - val_loss: 0.0439 - val_MAE: 0.1588\n",
            "Epoch 46/50\n",
            "653/653 [==============================] - 1s 2ms/step - loss: 0.0440 - MAE: 0.1562 - val_loss: 0.0452 - val_MAE: 0.1614\n",
            "Epoch 47/50\n",
            "653/653 [==============================] - 1s 1ms/step - loss: 0.0434 - MAE: 0.1556 - val_loss: 0.0450 - val_MAE: 0.1615\n",
            "Epoch 48/50\n",
            "653/653 [==============================] - 1s 2ms/step - loss: 0.0447 - MAE: 0.1584 - val_loss: 0.0448 - val_MAE: 0.1600\n",
            "Epoch 49/50\n",
            "653/653 [==============================] - 1s 1ms/step - loss: 0.0437 - MAE: 0.1563 - val_loss: 0.0443 - val_MAE: 0.1571\n",
            "Epoch 50/50\n",
            "653/653 [==============================] - 1s 2ms/step - loss: 0.0433 - MAE: 0.1555 - val_loss: 0.0448 - val_MAE: 0.1583\n"
          ],
          "name": "stdout"
        }
      ]
    },
    {
      "cell_type": "code",
      "metadata": {
        "id": "BGiGQAgMPuS4"
      },
      "source": [
        ""
      ],
      "execution_count": null,
      "outputs": []
    },
    {
      "cell_type": "markdown",
      "metadata": {
        "id": "WhSFqvA4PvIU"
      },
      "source": [
        "Plotting errors"
      ]
    },
    {
      "cell_type": "code",
      "metadata": {
        "colab": {
          "base_uri": "https://localhost:8080/",
          "height": 617
        },
        "id": "PHp08At2PugI",
        "outputId": "dafeb434-2fb7-4b45-f6bc-169432038f2e"
      },
      "source": [
        "fig1,fig2=plot_all(history, 'MAE')\n",
        "fig1.show()\n",
        "fig2.show()"
      ],
      "execution_count": 76,
      "outputs": [
        {
          "output_type": "display_data",
          "data": {
            "text/html": [
              "<html>\n",
              "<head><meta charset=\"utf-8\" /></head>\n",
              "<body>\n",
              "    <div>\n",
              "            <script src=\"https://cdnjs.cloudflare.com/ajax/libs/mathjax/2.7.5/MathJax.js?config=TeX-AMS-MML_SVG\"></script><script type=\"text/javascript\">if (window.MathJax) {MathJax.Hub.Config({SVG: {font: \"STIX-Web\"}});}</script>\n",
              "                <script type=\"text/javascript\">window.PlotlyConfig = {MathJaxConfig: 'local'};</script>\n",
              "        <script src=\"https://cdn.plot.ly/plotly-latest.min.js\"></script>    \n",
              "            <div id=\"ac91796b-e57c-4616-a330-32bbe1c91f07\" class=\"plotly-graph-div\" style=\"height:300px; width:400px;\"></div>\n",
              "            <script type=\"text/javascript\">\n",
              "                \n",
              "                    window.PLOTLYENV=window.PLOTLYENV || {};\n",
              "                    \n",
              "                if (document.getElementById(\"ac91796b-e57c-4616-a330-32bbe1c91f07\")) {\n",
              "                    Plotly.newPlot(\n",
              "                        'ac91796b-e57c-4616-a330-32bbe1c91f07',\n",
              "                        [{\"name\": \"Train\", \"type\": \"scattergl\", \"y\": [0.1894223690032959, 0.18211309611797333, 0.17674824595451355, 0.1744232028722763, 0.17315898835659027, 0.17069999873638153, 0.17260029911994934, 0.1696949601173401, 0.1689416915178299, 0.1685560792684555, 0.16684676706790924, 0.16632823646068573, 0.16653624176979065, 0.1649511456489563, 0.1635945439338684, 0.1621204912662506, 0.16200989484786987, 0.16223204135894775, 0.16118362545967102, 0.16105924546718597, 0.1621452420949936, 0.16000887751579285, 0.16204102337360382, 0.15936459600925446, 0.15945874154567719, 0.1605818122625351, 0.15835659205913544, 0.15869873762130737, 0.15994276106357574, 0.15823163092136383, 0.16003121435642242, 0.15939663350582123, 0.15872693061828613, 0.15771488845348358, 0.15770913660526276, 0.16082678735256195, 0.15787002444267273, 0.15901781618595123, 0.1584606170654297, 0.1574520468711853, 0.1560668796300888, 0.15703758597373962, 0.15814033150672913, 0.15636403858661652, 0.1563393920660019, 0.15712422132492065, 0.1551901400089264, 0.15719512104988098, 0.15546230971813202, 0.15506160259246826]}, {\"name\": \"Valid\", \"type\": \"scattergl\", \"y\": [0.18364383280277252, 0.1817319393157959, 0.18468452990055084, 0.18091194331645966, 0.17708717286586761, 0.1805545836687088, 0.18116270005702972, 0.1768304705619812, 0.1754673272371292, 0.1718645840883255, 0.17065124213695526, 0.16766640543937683, 0.17232628166675568, 0.16716307401657104, 0.1638604998588562, 0.16297084093093872, 0.16644324362277985, 0.16454817354679108, 0.16519953310489655, 0.1717257797718048, 0.16145451366901398, 0.15949726104736328, 0.1613965481519699, 0.1615232527256012, 0.1594751626253128, 0.1652546525001526, 0.15944170951843262, 0.16298982501029968, 0.164565309882164, 0.1608206033706665, 0.16050587594509125, 0.16302083432674408, 0.16137553751468658, 0.16091279685497284, 0.15975971519947052, 0.15961486101150513, 0.16207274794578552, 0.16220231354236603, 0.16707681119441986, 0.16306255757808685, 0.1604824811220169, 0.1590428501367569, 0.16589055955410004, 0.16896668076515198, 0.1587938815355301, 0.16137658059597015, 0.16151052713394165, 0.1599881798028946, 0.15708811581134796, 0.15831062197685242]}],\n",
              "                        {\"height\": 300, \"template\": {\"data\": {\"bar\": [{\"error_x\": {\"color\": \"#2a3f5f\"}, \"error_y\": {\"color\": \"#2a3f5f\"}, \"marker\": {\"line\": {\"color\": \"#E5ECF6\", \"width\": 0.5}}, \"type\": \"bar\"}], \"barpolar\": [{\"marker\": {\"line\": {\"color\": \"#E5ECF6\", \"width\": 0.5}}, \"type\": \"barpolar\"}], \"carpet\": [{\"aaxis\": {\"endlinecolor\": \"#2a3f5f\", \"gridcolor\": \"white\", \"linecolor\": \"white\", \"minorgridcolor\": \"white\", \"startlinecolor\": \"#2a3f5f\"}, \"baxis\": {\"endlinecolor\": \"#2a3f5f\", \"gridcolor\": \"white\", \"linecolor\": \"white\", \"minorgridcolor\": \"white\", \"startlinecolor\": \"#2a3f5f\"}, \"type\": \"carpet\"}], \"choropleth\": [{\"colorbar\": {\"outlinewidth\": 0, \"ticks\": \"\"}, \"type\": \"choropleth\"}], \"contour\": [{\"colorbar\": {\"outlinewidth\": 0, \"ticks\": \"\"}, \"colorscale\": [[0.0, \"#0d0887\"], [0.1111111111111111, \"#46039f\"], [0.2222222222222222, \"#7201a8\"], [0.3333333333333333, \"#9c179e\"], [0.4444444444444444, \"#bd3786\"], [0.5555555555555556, \"#d8576b\"], [0.6666666666666666, \"#ed7953\"], [0.7777777777777778, \"#fb9f3a\"], [0.8888888888888888, \"#fdca26\"], [1.0, \"#f0f921\"]], \"type\": \"contour\"}], \"contourcarpet\": [{\"colorbar\": {\"outlinewidth\": 0, \"ticks\": \"\"}, \"type\": \"contourcarpet\"}], \"heatmap\": [{\"colorbar\": {\"outlinewidth\": 0, \"ticks\": \"\"}, \"colorscale\": [[0.0, \"#0d0887\"], [0.1111111111111111, \"#46039f\"], [0.2222222222222222, \"#7201a8\"], [0.3333333333333333, \"#9c179e\"], [0.4444444444444444, \"#bd3786\"], [0.5555555555555556, \"#d8576b\"], [0.6666666666666666, \"#ed7953\"], [0.7777777777777778, \"#fb9f3a\"], [0.8888888888888888, \"#fdca26\"], [1.0, \"#f0f921\"]], \"type\": \"heatmap\"}], \"heatmapgl\": [{\"colorbar\": {\"outlinewidth\": 0, \"ticks\": \"\"}, \"colorscale\": [[0.0, \"#0d0887\"], [0.1111111111111111, \"#46039f\"], [0.2222222222222222, \"#7201a8\"], [0.3333333333333333, \"#9c179e\"], [0.4444444444444444, \"#bd3786\"], [0.5555555555555556, \"#d8576b\"], [0.6666666666666666, \"#ed7953\"], [0.7777777777777778, \"#fb9f3a\"], [0.8888888888888888, \"#fdca26\"], [1.0, \"#f0f921\"]], \"type\": \"heatmapgl\"}], \"histogram\": [{\"marker\": {\"colorbar\": {\"outlinewidth\": 0, \"ticks\": \"\"}}, \"type\": \"histogram\"}], \"histogram2d\": [{\"colorbar\": {\"outlinewidth\": 0, \"ticks\": \"\"}, \"colorscale\": [[0.0, \"#0d0887\"], [0.1111111111111111, \"#46039f\"], [0.2222222222222222, \"#7201a8\"], [0.3333333333333333, \"#9c179e\"], [0.4444444444444444, \"#bd3786\"], [0.5555555555555556, \"#d8576b\"], [0.6666666666666666, \"#ed7953\"], [0.7777777777777778, \"#fb9f3a\"], [0.8888888888888888, \"#fdca26\"], [1.0, \"#f0f921\"]], \"type\": \"histogram2d\"}], \"histogram2dcontour\": [{\"colorbar\": {\"outlinewidth\": 0, \"ticks\": \"\"}, \"colorscale\": [[0.0, \"#0d0887\"], [0.1111111111111111, \"#46039f\"], [0.2222222222222222, \"#7201a8\"], [0.3333333333333333, \"#9c179e\"], [0.4444444444444444, \"#bd3786\"], [0.5555555555555556, \"#d8576b\"], [0.6666666666666666, \"#ed7953\"], [0.7777777777777778, \"#fb9f3a\"], [0.8888888888888888, \"#fdca26\"], [1.0, \"#f0f921\"]], \"type\": \"histogram2dcontour\"}], \"mesh3d\": [{\"colorbar\": {\"outlinewidth\": 0, \"ticks\": \"\"}, \"type\": \"mesh3d\"}], \"parcoords\": [{\"line\": {\"colorbar\": {\"outlinewidth\": 0, \"ticks\": \"\"}}, \"type\": \"parcoords\"}], \"pie\": [{\"automargin\": true, \"type\": \"pie\"}], \"scatter\": [{\"marker\": {\"colorbar\": {\"outlinewidth\": 0, \"ticks\": \"\"}}, \"type\": \"scatter\"}], \"scatter3d\": [{\"line\": {\"colorbar\": {\"outlinewidth\": 0, \"ticks\": \"\"}}, \"marker\": {\"colorbar\": {\"outlinewidth\": 0, \"ticks\": \"\"}}, \"type\": \"scatter3d\"}], \"scattercarpet\": [{\"marker\": {\"colorbar\": {\"outlinewidth\": 0, \"ticks\": \"\"}}, \"type\": \"scattercarpet\"}], \"scattergeo\": [{\"marker\": {\"colorbar\": {\"outlinewidth\": 0, \"ticks\": \"\"}}, \"type\": \"scattergeo\"}], \"scattergl\": [{\"marker\": {\"colorbar\": {\"outlinewidth\": 0, \"ticks\": \"\"}}, \"type\": \"scattergl\"}], \"scattermapbox\": [{\"marker\": {\"colorbar\": {\"outlinewidth\": 0, \"ticks\": \"\"}}, \"type\": \"scattermapbox\"}], \"scatterpolar\": [{\"marker\": {\"colorbar\": {\"outlinewidth\": 0, \"ticks\": \"\"}}, \"type\": \"scatterpolar\"}], \"scatterpolargl\": [{\"marker\": {\"colorbar\": {\"outlinewidth\": 0, \"ticks\": \"\"}}, \"type\": \"scatterpolargl\"}], \"scatterternary\": [{\"marker\": {\"colorbar\": {\"outlinewidth\": 0, \"ticks\": \"\"}}, \"type\": \"scatterternary\"}], \"surface\": [{\"colorbar\": {\"outlinewidth\": 0, \"ticks\": \"\"}, \"colorscale\": [[0.0, \"#0d0887\"], [0.1111111111111111, \"#46039f\"], [0.2222222222222222, \"#7201a8\"], [0.3333333333333333, \"#9c179e\"], [0.4444444444444444, \"#bd3786\"], [0.5555555555555556, \"#d8576b\"], [0.6666666666666666, \"#ed7953\"], [0.7777777777777778, \"#fb9f3a\"], [0.8888888888888888, \"#fdca26\"], [1.0, \"#f0f921\"]], \"type\": \"surface\"}], \"table\": [{\"cells\": {\"fill\": {\"color\": \"#EBF0F8\"}, \"line\": {\"color\": \"white\"}}, \"header\": {\"fill\": {\"color\": \"#C8D4E3\"}, \"line\": {\"color\": \"white\"}}, \"type\": \"table\"}]}, \"layout\": {\"annotationdefaults\": {\"arrowcolor\": \"#2a3f5f\", \"arrowhead\": 0, \"arrowwidth\": 1}, \"coloraxis\": {\"colorbar\": {\"outlinewidth\": 0, \"ticks\": \"\"}}, \"colorscale\": {\"diverging\": [[0, \"#8e0152\"], [0.1, \"#c51b7d\"], [0.2, \"#de77ae\"], [0.3, \"#f1b6da\"], [0.4, \"#fde0ef\"], [0.5, \"#f7f7f7\"], [0.6, \"#e6f5d0\"], [0.7, \"#b8e186\"], [0.8, \"#7fbc41\"], [0.9, \"#4d9221\"], [1, \"#276419\"]], \"sequential\": [[0.0, \"#0d0887\"], [0.1111111111111111, \"#46039f\"], [0.2222222222222222, \"#7201a8\"], [0.3333333333333333, \"#9c179e\"], [0.4444444444444444, \"#bd3786\"], [0.5555555555555556, \"#d8576b\"], [0.6666666666666666, \"#ed7953\"], [0.7777777777777778, \"#fb9f3a\"], [0.8888888888888888, \"#fdca26\"], [1.0, \"#f0f921\"]], \"sequentialminus\": [[0.0, \"#0d0887\"], [0.1111111111111111, \"#46039f\"], [0.2222222222222222, \"#7201a8\"], [0.3333333333333333, \"#9c179e\"], [0.4444444444444444, \"#bd3786\"], [0.5555555555555556, \"#d8576b\"], [0.6666666666666666, \"#ed7953\"], [0.7777777777777778, \"#fb9f3a\"], [0.8888888888888888, \"#fdca26\"], [1.0, \"#f0f921\"]]}, \"colorway\": [\"#636efa\", \"#EF553B\", \"#00cc96\", \"#ab63fa\", \"#FFA15A\", \"#19d3f3\", \"#FF6692\", \"#B6E880\", \"#FF97FF\", \"#FECB52\"], \"font\": {\"color\": \"#2a3f5f\"}, \"geo\": {\"bgcolor\": \"white\", \"lakecolor\": \"white\", \"landcolor\": \"#E5ECF6\", \"showlakes\": true, \"showland\": true, \"subunitcolor\": \"white\"}, \"hoverlabel\": {\"align\": \"left\"}, \"hovermode\": \"closest\", \"mapbox\": {\"style\": \"light\"}, \"paper_bgcolor\": \"white\", \"plot_bgcolor\": \"#E5ECF6\", \"polar\": {\"angularaxis\": {\"gridcolor\": \"white\", \"linecolor\": \"white\", \"ticks\": \"\"}, \"bgcolor\": \"#E5ECF6\", \"radialaxis\": {\"gridcolor\": \"white\", \"linecolor\": \"white\", \"ticks\": \"\"}}, \"scene\": {\"xaxis\": {\"backgroundcolor\": \"#E5ECF6\", \"gridcolor\": \"white\", \"gridwidth\": 2, \"linecolor\": \"white\", \"showbackground\": true, \"ticks\": \"\", \"zerolinecolor\": \"white\"}, \"yaxis\": {\"backgroundcolor\": \"#E5ECF6\", \"gridcolor\": \"white\", \"gridwidth\": 2, \"linecolor\": \"white\", \"showbackground\": true, \"ticks\": \"\", \"zerolinecolor\": \"white\"}, \"zaxis\": {\"backgroundcolor\": \"#E5ECF6\", \"gridcolor\": \"white\", \"gridwidth\": 2, \"linecolor\": \"white\", \"showbackground\": true, \"ticks\": \"\", \"zerolinecolor\": \"white\"}}, \"shapedefaults\": {\"line\": {\"color\": \"#2a3f5f\"}}, \"ternary\": {\"aaxis\": {\"gridcolor\": \"white\", \"linecolor\": \"white\", \"ticks\": \"\"}, \"baxis\": {\"gridcolor\": \"white\", \"linecolor\": \"white\", \"ticks\": \"\"}, \"bgcolor\": \"#E5ECF6\", \"caxis\": {\"gridcolor\": \"white\", \"linecolor\": \"white\", \"ticks\": \"\"}}, \"title\": {\"x\": 0.05}, \"xaxis\": {\"automargin\": true, \"gridcolor\": \"white\", \"linecolor\": \"white\", \"ticks\": \"\", \"title\": {\"standoff\": 15}, \"zerolinecolor\": \"white\", \"zerolinewidth\": 2}, \"yaxis\": {\"automargin\": true, \"gridcolor\": \"white\", \"linecolor\": \"white\", \"ticks\": \"\", \"title\": {\"standoff\": 15}, \"zerolinecolor\": \"white\", \"zerolinewidth\": 2}}}, \"width\": 400, \"xaxis\": {\"title\": {\"text\": \"Epoch\"}}, \"yaxis\": {\"title\": {\"text\": \"MAE\"}}},\n",
              "                        {\"responsive\": true}\n",
              "                    ).then(function(){\n",
              "                            \n",
              "var gd = document.getElementById('ac91796b-e57c-4616-a330-32bbe1c91f07');\n",
              "var x = new MutationObserver(function (mutations, observer) {{\n",
              "        var display = window.getComputedStyle(gd).display;\n",
              "        if (!display || display === 'none') {{\n",
              "            console.log([gd, 'removed!']);\n",
              "            Plotly.purge(gd);\n",
              "            observer.disconnect();\n",
              "        }}\n",
              "}});\n",
              "\n",
              "// Listen for the removal of the full notebook cells\n",
              "var notebookContainer = gd.closest('#notebook-container');\n",
              "if (notebookContainer) {{\n",
              "    x.observe(notebookContainer, {childList: true});\n",
              "}}\n",
              "\n",
              "// Listen for the clearing of the current output cell\n",
              "var outputEl = gd.closest('.output');\n",
              "if (outputEl) {{\n",
              "    x.observe(outputEl, {childList: true});\n",
              "}}\n",
              "\n",
              "                        })\n",
              "                };\n",
              "                \n",
              "            </script>\n",
              "        </div>\n",
              "</body>\n",
              "</html>"
            ]
          },
          "metadata": {
            "tags": []
          }
        },
        {
          "output_type": "display_data",
          "data": {
            "text/html": [
              "<html>\n",
              "<head><meta charset=\"utf-8\" /></head>\n",
              "<body>\n",
              "    <div>\n",
              "            <script src=\"https://cdnjs.cloudflare.com/ajax/libs/mathjax/2.7.5/MathJax.js?config=TeX-AMS-MML_SVG\"></script><script type=\"text/javascript\">if (window.MathJax) {MathJax.Hub.Config({SVG: {font: \"STIX-Web\"}});}</script>\n",
              "                <script type=\"text/javascript\">window.PlotlyConfig = {MathJaxConfig: 'local'};</script>\n",
              "        <script src=\"https://cdn.plot.ly/plotly-latest.min.js\"></script>    \n",
              "            <div id=\"45afb6dc-3675-4887-a95b-f1460fed4c3a\" class=\"plotly-graph-div\" style=\"height:300px; width:400px;\"></div>\n",
              "            <script type=\"text/javascript\">\n",
              "                \n",
              "                    window.PLOTLYENV=window.PLOTLYENV || {};\n",
              "                    \n",
              "                if (document.getElementById(\"45afb6dc-3675-4887-a95b-f1460fed4c3a\")) {\n",
              "                    Plotly.newPlot(\n",
              "                        '45afb6dc-3675-4887-a95b-f1460fed4c3a',\n",
              "                        [{\"name\": \"Train\", \"type\": \"scattergl\", \"y\": [0.05841110646724701, 0.054677896201610565, 0.05243441089987755, 0.051987119019031525, 0.050901953130960464, 0.04988611489534378, 0.05067911744117737, 0.04959528148174286, 0.0492577850818634, 0.048952311277389526, 0.048423975706100464, 0.04814784228801727, 0.04805532097816467, 0.04733673110604286, 0.04652998968958855, 0.04615458473563194, 0.04656914249062538, 0.046075109392404556, 0.045515384525060654, 0.046064965426921844, 0.04615931957960129, 0.04534225910902023, 0.04603886231780052, 0.045028459280729294, 0.04486851766705513, 0.0454959012567997, 0.04458382725715637, 0.04460665211081505, 0.045077983289957047, 0.044767577201128006, 0.04483092948794365, 0.04494724050164223, 0.04453686252236366, 0.04462074860930443, 0.04390014708042145, 0.045411836355924606, 0.04418512061238289, 0.04470853880047798, 0.044493500143289566, 0.04428774490952492, 0.04332292824983597, 0.043810948729515076, 0.04442701116204262, 0.043421462178230286, 0.043283455073833466, 0.04390024021267891, 0.04307588189840317, 0.0441635400056839, 0.043251048773527145, 0.04282212257385254]}, {\"name\": \"Valid\", \"type\": \"scattergl\", \"y\": [0.05687442794442177, 0.05340517312288284, 0.05657903477549553, 0.05390923097729683, 0.05232686921954155, 0.052318207919597626, 0.05230775848031044, 0.0521303154528141, 0.05040791630744934, 0.05109928548336029, 0.04911145567893982, 0.04818030819296837, 0.048946257680654526, 0.048135511577129364, 0.04724288731813431, 0.04641353711485863, 0.04631855711340904, 0.046295490115880966, 0.046559423208236694, 0.04743966832756996, 0.045402511954307556, 0.0449024997651577, 0.04643899202346802, 0.04591341316699982, 0.045258939266204834, 0.045584648847579956, 0.046105947345495224, 0.047760672867298126, 0.046589337289333344, 0.045750539749860764, 0.045669227838516235, 0.045847270637750626, 0.047276098281145096, 0.04540479928255081, 0.045608263462781906, 0.04491427168250084, 0.04662404581904411, 0.04489569738507271, 0.04618839547038078, 0.04625333845615387, 0.04587569460272789, 0.04464861750602722, 0.045767080038785934, 0.04699898883700371, 0.04387292638421059, 0.04522618278861046, 0.045029815286397934, 0.04477197676897049, 0.04426737129688263, 0.04482792690396309]}],\n",
              "                        {\"height\": 300, \"template\": {\"data\": {\"bar\": [{\"error_x\": {\"color\": \"#2a3f5f\"}, \"error_y\": {\"color\": \"#2a3f5f\"}, \"marker\": {\"line\": {\"color\": \"#E5ECF6\", \"width\": 0.5}}, \"type\": \"bar\"}], \"barpolar\": [{\"marker\": {\"line\": {\"color\": \"#E5ECF6\", \"width\": 0.5}}, \"type\": \"barpolar\"}], \"carpet\": [{\"aaxis\": {\"endlinecolor\": \"#2a3f5f\", \"gridcolor\": \"white\", \"linecolor\": \"white\", \"minorgridcolor\": \"white\", \"startlinecolor\": \"#2a3f5f\"}, \"baxis\": {\"endlinecolor\": \"#2a3f5f\", \"gridcolor\": \"white\", \"linecolor\": \"white\", \"minorgridcolor\": \"white\", \"startlinecolor\": \"#2a3f5f\"}, \"type\": \"carpet\"}], \"choropleth\": [{\"colorbar\": {\"outlinewidth\": 0, \"ticks\": \"\"}, \"type\": \"choropleth\"}], \"contour\": [{\"colorbar\": {\"outlinewidth\": 0, \"ticks\": \"\"}, \"colorscale\": [[0.0, \"#0d0887\"], [0.1111111111111111, \"#46039f\"], [0.2222222222222222, \"#7201a8\"], [0.3333333333333333, \"#9c179e\"], [0.4444444444444444, \"#bd3786\"], [0.5555555555555556, \"#d8576b\"], [0.6666666666666666, \"#ed7953\"], [0.7777777777777778, \"#fb9f3a\"], [0.8888888888888888, \"#fdca26\"], [1.0, \"#f0f921\"]], \"type\": \"contour\"}], \"contourcarpet\": [{\"colorbar\": {\"outlinewidth\": 0, \"ticks\": \"\"}, \"type\": \"contourcarpet\"}], \"heatmap\": [{\"colorbar\": {\"outlinewidth\": 0, \"ticks\": \"\"}, \"colorscale\": [[0.0, \"#0d0887\"], [0.1111111111111111, \"#46039f\"], [0.2222222222222222, \"#7201a8\"], [0.3333333333333333, \"#9c179e\"], [0.4444444444444444, \"#bd3786\"], [0.5555555555555556, \"#d8576b\"], [0.6666666666666666, \"#ed7953\"], [0.7777777777777778, \"#fb9f3a\"], [0.8888888888888888, \"#fdca26\"], [1.0, \"#f0f921\"]], \"type\": \"heatmap\"}], \"heatmapgl\": [{\"colorbar\": {\"outlinewidth\": 0, \"ticks\": \"\"}, \"colorscale\": [[0.0, \"#0d0887\"], [0.1111111111111111, \"#46039f\"], [0.2222222222222222, \"#7201a8\"], [0.3333333333333333, \"#9c179e\"], [0.4444444444444444, \"#bd3786\"], [0.5555555555555556, \"#d8576b\"], [0.6666666666666666, \"#ed7953\"], [0.7777777777777778, \"#fb9f3a\"], [0.8888888888888888, \"#fdca26\"], [1.0, \"#f0f921\"]], \"type\": \"heatmapgl\"}], \"histogram\": [{\"marker\": {\"colorbar\": {\"outlinewidth\": 0, \"ticks\": \"\"}}, \"type\": \"histogram\"}], \"histogram2d\": [{\"colorbar\": {\"outlinewidth\": 0, \"ticks\": \"\"}, \"colorscale\": [[0.0, \"#0d0887\"], [0.1111111111111111, \"#46039f\"], [0.2222222222222222, \"#7201a8\"], [0.3333333333333333, \"#9c179e\"], [0.4444444444444444, \"#bd3786\"], [0.5555555555555556, \"#d8576b\"], [0.6666666666666666, \"#ed7953\"], [0.7777777777777778, \"#fb9f3a\"], [0.8888888888888888, \"#fdca26\"], [1.0, \"#f0f921\"]], \"type\": \"histogram2d\"}], \"histogram2dcontour\": [{\"colorbar\": {\"outlinewidth\": 0, \"ticks\": \"\"}, \"colorscale\": [[0.0, \"#0d0887\"], [0.1111111111111111, \"#46039f\"], [0.2222222222222222, \"#7201a8\"], [0.3333333333333333, \"#9c179e\"], [0.4444444444444444, \"#bd3786\"], [0.5555555555555556, \"#d8576b\"], [0.6666666666666666, \"#ed7953\"], [0.7777777777777778, \"#fb9f3a\"], [0.8888888888888888, \"#fdca26\"], [1.0, \"#f0f921\"]], \"type\": \"histogram2dcontour\"}], \"mesh3d\": [{\"colorbar\": {\"outlinewidth\": 0, \"ticks\": \"\"}, \"type\": \"mesh3d\"}], \"parcoords\": [{\"line\": {\"colorbar\": {\"outlinewidth\": 0, \"ticks\": \"\"}}, \"type\": \"parcoords\"}], \"pie\": [{\"automargin\": true, \"type\": \"pie\"}], \"scatter\": [{\"marker\": {\"colorbar\": {\"outlinewidth\": 0, \"ticks\": \"\"}}, \"type\": \"scatter\"}], \"scatter3d\": [{\"line\": {\"colorbar\": {\"outlinewidth\": 0, \"ticks\": \"\"}}, \"marker\": {\"colorbar\": {\"outlinewidth\": 0, \"ticks\": \"\"}}, \"type\": \"scatter3d\"}], \"scattercarpet\": [{\"marker\": {\"colorbar\": {\"outlinewidth\": 0, \"ticks\": \"\"}}, \"type\": \"scattercarpet\"}], \"scattergeo\": [{\"marker\": {\"colorbar\": {\"outlinewidth\": 0, \"ticks\": \"\"}}, \"type\": \"scattergeo\"}], \"scattergl\": [{\"marker\": {\"colorbar\": {\"outlinewidth\": 0, \"ticks\": \"\"}}, \"type\": \"scattergl\"}], \"scattermapbox\": [{\"marker\": {\"colorbar\": {\"outlinewidth\": 0, \"ticks\": \"\"}}, \"type\": \"scattermapbox\"}], \"scatterpolar\": [{\"marker\": {\"colorbar\": {\"outlinewidth\": 0, \"ticks\": \"\"}}, \"type\": \"scatterpolar\"}], \"scatterpolargl\": [{\"marker\": {\"colorbar\": {\"outlinewidth\": 0, \"ticks\": \"\"}}, \"type\": \"scatterpolargl\"}], \"scatterternary\": [{\"marker\": {\"colorbar\": {\"outlinewidth\": 0, \"ticks\": \"\"}}, \"type\": \"scatterternary\"}], \"surface\": [{\"colorbar\": {\"outlinewidth\": 0, \"ticks\": \"\"}, \"colorscale\": [[0.0, \"#0d0887\"], [0.1111111111111111, \"#46039f\"], [0.2222222222222222, \"#7201a8\"], [0.3333333333333333, \"#9c179e\"], [0.4444444444444444, \"#bd3786\"], [0.5555555555555556, \"#d8576b\"], [0.6666666666666666, \"#ed7953\"], [0.7777777777777778, \"#fb9f3a\"], [0.8888888888888888, \"#fdca26\"], [1.0, \"#f0f921\"]], \"type\": \"surface\"}], \"table\": [{\"cells\": {\"fill\": {\"color\": \"#EBF0F8\"}, \"line\": {\"color\": \"white\"}}, \"header\": {\"fill\": {\"color\": \"#C8D4E3\"}, \"line\": {\"color\": \"white\"}}, \"type\": \"table\"}]}, \"layout\": {\"annotationdefaults\": {\"arrowcolor\": \"#2a3f5f\", \"arrowhead\": 0, \"arrowwidth\": 1}, \"coloraxis\": {\"colorbar\": {\"outlinewidth\": 0, \"ticks\": \"\"}}, \"colorscale\": {\"diverging\": [[0, \"#8e0152\"], [0.1, \"#c51b7d\"], [0.2, \"#de77ae\"], [0.3, \"#f1b6da\"], [0.4, \"#fde0ef\"], [0.5, \"#f7f7f7\"], [0.6, \"#e6f5d0\"], [0.7, \"#b8e186\"], [0.8, \"#7fbc41\"], [0.9, \"#4d9221\"], [1, \"#276419\"]], \"sequential\": [[0.0, \"#0d0887\"], [0.1111111111111111, \"#46039f\"], [0.2222222222222222, \"#7201a8\"], [0.3333333333333333, \"#9c179e\"], [0.4444444444444444, \"#bd3786\"], [0.5555555555555556, \"#d8576b\"], [0.6666666666666666, \"#ed7953\"], [0.7777777777777778, \"#fb9f3a\"], [0.8888888888888888, \"#fdca26\"], [1.0, \"#f0f921\"]], \"sequentialminus\": [[0.0, \"#0d0887\"], [0.1111111111111111, \"#46039f\"], [0.2222222222222222, \"#7201a8\"], [0.3333333333333333, \"#9c179e\"], [0.4444444444444444, \"#bd3786\"], [0.5555555555555556, \"#d8576b\"], [0.6666666666666666, \"#ed7953\"], [0.7777777777777778, \"#fb9f3a\"], [0.8888888888888888, \"#fdca26\"], [1.0, \"#f0f921\"]]}, \"colorway\": [\"#636efa\", \"#EF553B\", \"#00cc96\", \"#ab63fa\", \"#FFA15A\", \"#19d3f3\", \"#FF6692\", \"#B6E880\", \"#FF97FF\", \"#FECB52\"], \"font\": {\"color\": \"#2a3f5f\"}, \"geo\": {\"bgcolor\": \"white\", \"lakecolor\": \"white\", \"landcolor\": \"#E5ECF6\", \"showlakes\": true, \"showland\": true, \"subunitcolor\": \"white\"}, \"hoverlabel\": {\"align\": \"left\"}, \"hovermode\": \"closest\", \"mapbox\": {\"style\": \"light\"}, \"paper_bgcolor\": \"white\", \"plot_bgcolor\": \"#E5ECF6\", \"polar\": {\"angularaxis\": {\"gridcolor\": \"white\", \"linecolor\": \"white\", \"ticks\": \"\"}, \"bgcolor\": \"#E5ECF6\", \"radialaxis\": {\"gridcolor\": \"white\", \"linecolor\": \"white\", \"ticks\": \"\"}}, \"scene\": {\"xaxis\": {\"backgroundcolor\": \"#E5ECF6\", \"gridcolor\": \"white\", \"gridwidth\": 2, \"linecolor\": \"white\", \"showbackground\": true, \"ticks\": \"\", \"zerolinecolor\": \"white\"}, \"yaxis\": {\"backgroundcolor\": \"#E5ECF6\", \"gridcolor\": \"white\", \"gridwidth\": 2, \"linecolor\": \"white\", \"showbackground\": true, \"ticks\": \"\", \"zerolinecolor\": \"white\"}, \"zaxis\": {\"backgroundcolor\": \"#E5ECF6\", \"gridcolor\": \"white\", \"gridwidth\": 2, \"linecolor\": \"white\", \"showbackground\": true, \"ticks\": \"\", \"zerolinecolor\": \"white\"}}, \"shapedefaults\": {\"line\": {\"color\": \"#2a3f5f\"}}, \"ternary\": {\"aaxis\": {\"gridcolor\": \"white\", \"linecolor\": \"white\", \"ticks\": \"\"}, \"baxis\": {\"gridcolor\": \"white\", \"linecolor\": \"white\", \"ticks\": \"\"}, \"bgcolor\": \"#E5ECF6\", \"caxis\": {\"gridcolor\": \"white\", \"linecolor\": \"white\", \"ticks\": \"\"}}, \"title\": {\"x\": 0.05}, \"xaxis\": {\"automargin\": true, \"gridcolor\": \"white\", \"linecolor\": \"white\", \"ticks\": \"\", \"title\": {\"standoff\": 15}, \"zerolinecolor\": \"white\", \"zerolinewidth\": 2}, \"yaxis\": {\"automargin\": true, \"gridcolor\": \"white\", \"linecolor\": \"white\", \"ticks\": \"\", \"title\": {\"standoff\": 15}, \"zerolinecolor\": \"white\", \"zerolinewidth\": 2}}}, \"width\": 400, \"xaxis\": {\"title\": {\"text\": \"Epoch\"}}, \"yaxis\": {\"title\": {\"text\": \"Loss\"}}},\n",
              "                        {\"responsive\": true}\n",
              "                    ).then(function(){\n",
              "                            \n",
              "var gd = document.getElementById('45afb6dc-3675-4887-a95b-f1460fed4c3a');\n",
              "var x = new MutationObserver(function (mutations, observer) {{\n",
              "        var display = window.getComputedStyle(gd).display;\n",
              "        if (!display || display === 'none') {{\n",
              "            console.log([gd, 'removed!']);\n",
              "            Plotly.purge(gd);\n",
              "            observer.disconnect();\n",
              "        }}\n",
              "}});\n",
              "\n",
              "// Listen for the removal of the full notebook cells\n",
              "var notebookContainer = gd.closest('#notebook-container');\n",
              "if (notebookContainer) {{\n",
              "    x.observe(notebookContainer, {childList: true});\n",
              "}}\n",
              "\n",
              "// Listen for the clearing of the current output cell\n",
              "var outputEl = gd.closest('.output');\n",
              "if (outputEl) {{\n",
              "    x.observe(outputEl, {childList: true});\n",
              "}}\n",
              "\n",
              "                        })\n",
              "                };\n",
              "                \n",
              "            </script>\n",
              "        </div>\n",
              "</body>\n",
              "</html>"
            ]
          },
          "metadata": {
            "tags": []
          }
        }
      ]
    },
    {
      "cell_type": "markdown",
      "metadata": {
        "id": "qdJSZ71HP9gE"
      },
      "source": [
        "From this graphics, i see that there is a very little overfitting. The oscillation is caused by the decay in the learning rate."
      ]
    },
    {
      "cell_type": "code",
      "metadata": {
        "id": "KiQ8GOdqQMxN"
      },
      "source": [
        "\n",
        "\n",
        "\n"
      ],
      "execution_count": null,
      "outputs": []
    },
    {
      "cell_type": "markdown",
      "metadata": {
        "id": "HX0t9dGIQNoV"
      },
      "source": [
        "### Sanity check / Validation\n"
      ]
    },
    {
      "cell_type": "markdown",
      "metadata": {
        "id": "Bgfk0ZpQUefx"
      },
      "source": [
        "Predictions"
      ]
    },
    {
      "cell_type": "code",
      "metadata": {
        "id": "yj5k8zJnTvnO"
      },
      "source": [
        "y_pred_train = model_final.predict([x_train_trabajo, x_train_lugar, x_train]).flatten()\n",
        "y_pred_test = model_final.predict([x_test_trabajo, x_test_lugar, x_test]).flatten()"
      ],
      "execution_count": 77,
      "outputs": []
    },
    {
      "cell_type": "code",
      "metadata": {
        "colab": {
          "base_uri": "https://localhost:8080/"
        },
        "id": "kMcTfR2QUm3t",
        "outputId": "afed8e41-68f8-43bc-ff3d-5c6d6fbbdaba"
      },
      "source": [
        "print('tr: ', round(np.mean(abs(y_pred_train-y_train)),3), 'ts: ',round(np.mean(abs(y_pred_test-y_test)),3))"
      ],
      "execution_count": 78,
      "outputs": [
        {
          "output_type": "stream",
          "text": [
            "tr:  0.234 ts:  0.284\n"
          ],
          "name": "stdout"
        }
      ]
    },
    {
      "cell_type": "markdown",
      "metadata": {
        "id": "ItoffoEZUo8Z"
      },
      "source": [
        "The errors are very similar."
      ]
    },
    {
      "cell_type": "code",
      "metadata": {
        "id": "QfQvthexU0SZ"
      },
      "source": [
        ""
      ],
      "execution_count": null,
      "outputs": []
    },
    {
      "cell_type": "markdown",
      "metadata": {
        "id": "kDyYN08bVKsh"
      },
      "source": [
        "<h3>Result analysis</h3>"
      ]
    },
    {
      "cell_type": "code",
      "metadata": {
        "colab": {
          "base_uri": "https://localhost:8080/",
          "height": 579
        },
        "id": "BKLn65RIVOnw",
        "outputId": "990d1c9e-2304-44b1-8b16-1300c79af7d5"
      },
      "source": [
        "todf(y_test).hist()\n",
        "todf(y_pred_test).hist()"
      ],
      "execution_count": 79,
      "outputs": [
        {
          "output_type": "execute_result",
          "data": {
            "text/plain": [
              "array([[<matplotlib.axes._subplots.AxesSubplot object at 0x7ffaa17a8be0>]],\n",
              "      dtype=object)"
            ]
          },
          "metadata": {
            "tags": []
          },
          "execution_count": 79
        },
        {
          "output_type": "display_data",
          "data": {
            "image/png": "[encoded data removed]",
            "text/plain": [
              "<Figure size 432x288 with 1 Axes>"
            ]
          },
          "metadata": {
            "tags": [],
            "needs_background": "light"
          }
        },
        {
          "output_type": "display_data",
          "data": {
            "image/png": "[encoded data removed]",
            "text/plain": [
              "<Figure size 432x288 with 1 Axes>"
            ]
          },
          "metadata": {
            "tags": [],
            "needs_background": "light"
          }
        }
      ]
    },
    {
      "cell_type": "markdown",
      "metadata": {
        "id": "X8edm1r2VR-K"
      },
      "source": [
        "The distributions are very similar "
      ]
    },
    {
      "cell_type": "code",
      "metadata": {
        "id": "gqyoqngyVZ6u"
      },
      "source": [
        ""
      ],
      "execution_count": null,
      "outputs": []
    },
    {
      "cell_type": "markdown",
      "metadata": {
        "id": "KKaDbVKzVaPH"
      },
      "source": [
        "<h3>Output distribution analysis</h3>"
      ]
    },
    {
      "cell_type": "code",
      "metadata": {
        "colab": {
          "base_uri": "https://localhost:8080/",
          "height": 283
        },
        "id": "-SFzVTfvVeou",
        "outputId": "d56fd3d7-9a7d-4e69-81d1-2f0571009aa6"
      },
      "source": [
        "a = plt.axes(aspect='equal')\n",
        "plt.scatter(y_test[:,0], y_pred_test)\n",
        "plt.xlabel('True Values ')\n",
        "plt.ylabel('Predictions ')\n",
        "lims = [0, 1]\n",
        "plt.xlim(lims)\n",
        "plt.ylim(lims)\n",
        "_ = plt.plot(lims, lims)"
      ],
      "execution_count": 80,
      "outputs": [
        {
          "output_type": "display_data",
          "data": {
            "image/png": "[encoded data removed]",
            "text/plain": [
              "<Figure size 432x288 with 1 Axes>"
            ]
          },
          "metadata": {
            "tags": [],
            "needs_background": "light"
          }
        }
      ]
    },
    {
      "cell_type": "code",
      "metadata": {
        "colab": {
          "base_uri": "https://localhost:8080/",
          "height": 265
        },
        "id": "839vdbMXViOL",
        "outputId": "3f4f0c2b-924d-41e1-c809-59dded49265d"
      },
      "source": [
        "heatmap, xedges, yedges = np.histogram2d(y_test[:,0], y_pred_test, bins=50)\n",
        "extent = [xedges[0], xedges[-1], yedges[0], yedges[-1]]\n",
        "\n",
        "plt.clf()\n",
        "plt.imshow(heatmap.T, extent=extent, origin='lower')\n",
        "plt.show()"
      ],
      "execution_count": 81,
      "outputs": [
        {
          "output_type": "display_data",
          "data": {
            "image/png": "[encoded data removed]",
            "text/plain": [
              "<Figure size 432x288 with 1 Axes>"
            ]
          },
          "metadata": {
            "tags": [],
            "needs_background": "light"
          }
        }
      ]
    },
    {
      "cell_type": "markdown",
      "metadata": {
        "id": "vrVZ1wWYVkni"
      },
      "source": [
        "From this graphic, i see that the model performs very well between 0 and 0.6. For bigger values, the density is very low."
      ]
    },
    {
      "cell_type": "code",
      "metadata": {
        "id": "NQVvmhZzXBvs"
      },
      "source": [
        "\n",
        "\n",
        "\n"
      ],
      "execution_count": null,
      "outputs": []
    },
    {
      "cell_type": "markdown",
      "metadata": {
        "id": "HrrL1TvzXCai"
      },
      "source": [
        "### Insights"
      ]
    },
    {
      "cell_type": "markdown",
      "metadata": {
        "id": "Z99gmDuHXDpq"
      },
      "source": [
        "In this notebook, i created a neural network using different data types as input, in which two of the three variables were high cardinality variables, so, i followed the embedding approach. When creating the model, i used a decaying learning rate approach, that improves the performance model. Finally, validating the model, i saw that for some values the model performs very well but not for other, so, some changes will be applied in the future."
      ]
    }
  ]
}